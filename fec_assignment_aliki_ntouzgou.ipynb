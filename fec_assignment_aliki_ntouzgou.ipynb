{
 "cells": [
  {
   "cell_type": "markdown",
   "metadata": {},
   "source": [
    "### 1. Identify the top 5 Political Action Committees (PACs), or rather, super-PACs, that supported each of the two presidential candidates, giving the amount of money raised and spent by each one of them."
   ]
  },
  {
   "cell_type": "markdown",
   "metadata": {},
   "source": [
    "* We are starting off by reading the PAC Summary file. \n",
    "* The PAC summary file contains, besides other information, all the committees categorized by type, meaning that it also contains all the committees characterized as super-PACS."
   ]
  },
  {
   "cell_type": "code",
   "execution_count": 1,
   "metadata": {},
   "outputs": [],
   "source": [
    "import numpy as np\n",
    "import pandas as pd\n",
    "pd.options.display.float_format = '{:,.2f}'.format\n",
    "import matplotlib.pyplot as plt\n",
    "import seaborn as sns\n",
    "%matplotlib inline\n",
    "from collections import defaultdict"
   ]
  },
  {
   "cell_type": "code",
   "execution_count": 2,
   "metadata": {},
   "outputs": [
    {
     "data": {
      "text/plain": [
       "['CMTE_ID',\n",
       " 'CMTE_NM',\n",
       " 'CMTE_TP',\n",
       " 'CMTE_DSGN',\n",
       " 'CMTE_FILING_FREQ',\n",
       " 'TTL_RECEIPTS',\n",
       " 'TRANS_FROM_AFF',\n",
       " 'INDV_CONTRIB',\n",
       " 'OTHER_POL_CMTE_CONTRIB',\n",
       " 'CAND_CONTRIB',\n",
       " 'CAND_LOANS',\n",
       " 'TTL_LOANS_RECEIVED',\n",
       " 'TTL_DISB',\n",
       " 'TRANF_TO_AFF',\n",
       " 'INDV_REFUNDS',\n",
       " 'OTHER_POL_CMTE_REFUNDS',\n",
       " 'CAND_LOAN_REPAY',\n",
       " 'LOAN_REPAY',\n",
       " 'COH_BOP',\n",
       " 'COH_COP',\n",
       " 'DEBTS_OWED_BY',\n",
       " 'NONFED_TRANS_RECEIVED',\n",
       " 'CONTRIB_TO_OTHER_CMTE',\n",
       " 'IND_EXP',\n",
       " 'PTY_COORD_EXP',\n",
       " 'NONFED_SHARE_EXP',\n",
       " 'CVG_END_DT']"
      ]
     },
     "execution_count": 2,
     "metadata": {},
     "output_type": "execute_result"
    }
   ],
   "source": [
    "headers = ['CMTE_ID', 'CMTE_NM', 'CMTE_TP', 'CMTE_DSGN', 'CMTE_FILING_FREQ', 'TTL_RECEIPTS', 'TRANS_FROM_AFF', 'INDV_CONTRIB',\n",
    "           'OTHER_POL_CMTE_CONTRIB', 'CAND_CONTRIB', 'CAND_LOANS', 'TTL_LOANS_RECEIVED', 'TTL_DISB', 'TRANF_TO_AFF', \n",
    "           'INDV_REFUNDS', 'OTHER_POL_CMTE_REFUNDS', 'CAND_LOAN_REPAY', 'LOAN_REPAY', 'COH_BOP', 'COH_COP', 'DEBTS_OWED_BY',\n",
    "           'NONFED_TRANS_RECEIVED', 'CONTRIB_TO_OTHER_CMTE', 'IND_EXP', 'PTY_COORD_EXP', 'NONFED_SHARE_EXP', 'CVG_END_DT']\n",
    "headers"
   ]
  },
  {
   "cell_type": "code",
   "execution_count": 3,
   "metadata": {},
   "outputs": [
    {
     "name": "stdout",
     "output_type": "stream",
     "text": [
      "(12048, 27)\n"
     ]
    },
    {
     "data": {
      "text/html": [
       "<div>\n",
       "<style scoped>\n",
       "    .dataframe tbody tr th:only-of-type {\n",
       "        vertical-align: middle;\n",
       "    }\n",
       "\n",
       "    .dataframe tbody tr th {\n",
       "        vertical-align: top;\n",
       "    }\n",
       "\n",
       "    .dataframe thead th {\n",
       "        text-align: right;\n",
       "    }\n",
       "</style>\n",
       "<table border=\"1\" class=\"dataframe\">\n",
       "  <thead>\n",
       "    <tr style=\"text-align: right;\">\n",
       "      <th></th>\n",
       "      <th>CMTE_ID</th>\n",
       "      <th>CMTE_NM</th>\n",
       "      <th>CMTE_TP</th>\n",
       "      <th>CMTE_DSGN</th>\n",
       "      <th>CMTE_FILING_FREQ</th>\n",
       "      <th>TTL_RECEIPTS</th>\n",
       "      <th>TRANS_FROM_AFF</th>\n",
       "      <th>INDV_CONTRIB</th>\n",
       "      <th>OTHER_POL_CMTE_CONTRIB</th>\n",
       "      <th>CAND_CONTRIB</th>\n",
       "      <th>...</th>\n",
       "      <th>LOAN_REPAY</th>\n",
       "      <th>COH_BOP</th>\n",
       "      <th>COH_COP</th>\n",
       "      <th>DEBTS_OWED_BY</th>\n",
       "      <th>NONFED_TRANS_RECEIVED</th>\n",
       "      <th>CONTRIB_TO_OTHER_CMTE</th>\n",
       "      <th>IND_EXP</th>\n",
       "      <th>PTY_COORD_EXP</th>\n",
       "      <th>NONFED_SHARE_EXP</th>\n",
       "      <th>CVG_END_DT</th>\n",
       "    </tr>\n",
       "  </thead>\n",
       "  <tbody>\n",
       "    <tr>\n",
       "      <th>9088</th>\n",
       "      <td>C70002092</td>\n",
       "      <td>MONTANA STATE AFL-CIO</td>\n",
       "      <td>C</td>\n",
       "      <td>U</td>\n",
       "      <td>Q</td>\n",
       "      <td>nan</td>\n",
       "      <td>nan</td>\n",
       "      <td>nan</td>\n",
       "      <td>nan</td>\n",
       "      <td>nan</td>\n",
       "      <td>...</td>\n",
       "      <td>nan</td>\n",
       "      <td>nan</td>\n",
       "      <td>nan</td>\n",
       "      <td>nan</td>\n",
       "      <td>nan</td>\n",
       "      <td>nan</td>\n",
       "      <td>nan</td>\n",
       "      <td>nan</td>\n",
       "      <td>nan</td>\n",
       "      <td>NaN</td>\n",
       "    </tr>\n",
       "    <tr>\n",
       "      <th>835</th>\n",
       "      <td>C00144576</td>\n",
       "      <td>BAKER MANOCK &amp; JENSEN, A PROFESSIONAL CORPORAT...</td>\n",
       "      <td>N</td>\n",
       "      <td>U</td>\n",
       "      <td>Q</td>\n",
       "      <td>5,006.00</td>\n",
       "      <td>0.00</td>\n",
       "      <td>5,006.00</td>\n",
       "      <td>0.00</td>\n",
       "      <td>0.00</td>\n",
       "      <td>...</td>\n",
       "      <td>0.00</td>\n",
       "      <td>862.08</td>\n",
       "      <td>768.00</td>\n",
       "      <td>0.00</td>\n",
       "      <td>0.00</td>\n",
       "      <td>3,250.00</td>\n",
       "      <td>0.00</td>\n",
       "      <td>0.00</td>\n",
       "      <td>0.00</td>\n",
       "      <td>06/30/2016</td>\n",
       "    </tr>\n",
       "    <tr>\n",
       "      <th>9933</th>\n",
       "      <td>C90012584</td>\n",
       "      <td>PARRISH, LANCE C</td>\n",
       "      <td>I</td>\n",
       "      <td>U</td>\n",
       "      <td>Q</td>\n",
       "      <td>nan</td>\n",
       "      <td>nan</td>\n",
       "      <td>nan</td>\n",
       "      <td>nan</td>\n",
       "      <td>nan</td>\n",
       "      <td>...</td>\n",
       "      <td>nan</td>\n",
       "      <td>nan</td>\n",
       "      <td>nan</td>\n",
       "      <td>nan</td>\n",
       "      <td>nan</td>\n",
       "      <td>nan</td>\n",
       "      <td>nan</td>\n",
       "      <td>nan</td>\n",
       "      <td>nan</td>\n",
       "      <td>NaN</td>\n",
       "    </tr>\n",
       "    <tr>\n",
       "      <th>6086</th>\n",
       "      <td>C00590174</td>\n",
       "      <td>PEAKS AND PALMS SENATE VICTORY</td>\n",
       "      <td>X</td>\n",
       "      <td>J</td>\n",
       "      <td>T</td>\n",
       "      <td>40,000.00</td>\n",
       "      <td>0.00</td>\n",
       "      <td>40,000.00</td>\n",
       "      <td>0.00</td>\n",
       "      <td>0.00</td>\n",
       "      <td>...</td>\n",
       "      <td>0.00</td>\n",
       "      <td>0.00</td>\n",
       "      <td>0.00</td>\n",
       "      <td>0.00</td>\n",
       "      <td>0.00</td>\n",
       "      <td>0.00</td>\n",
       "      <td>0.00</td>\n",
       "      <td>0.00</td>\n",
       "      <td>0.00</td>\n",
       "      <td>04/21/2016</td>\n",
       "    </tr>\n",
       "    <tr>\n",
       "      <th>3139</th>\n",
       "      <td>C00482182</td>\n",
       "      <td>OHIO PETROLEUM MARKETERS AND CONVENIENCE STORE...</td>\n",
       "      <td>N</td>\n",
       "      <td>U</td>\n",
       "      <td>Q</td>\n",
       "      <td>55,775.00</td>\n",
       "      <td>0.00</td>\n",
       "      <td>55,775.00</td>\n",
       "      <td>0.00</td>\n",
       "      <td>0.00</td>\n",
       "      <td>...</td>\n",
       "      <td>0.00</td>\n",
       "      <td>12,199.81</td>\n",
       "      <td>21,202.41</td>\n",
       "      <td>0.00</td>\n",
       "      <td>0.00</td>\n",
       "      <td>15,000.00</td>\n",
       "      <td>0.00</td>\n",
       "      <td>0.00</td>\n",
       "      <td>0.00</td>\n",
       "      <td>12/31/2016</td>\n",
       "    </tr>\n",
       "  </tbody>\n",
       "</table>\n",
       "<p>5 rows × 27 columns</p>\n",
       "</div>"
      ],
      "text/plain": [
       "        CMTE_ID                                            CMTE_NM CMTE_TP  \\\n",
       "9088  C70002092                              MONTANA STATE AFL-CIO       C   \n",
       "835   C00144576  BAKER MANOCK & JENSEN, A PROFESSIONAL CORPORAT...       N   \n",
       "9933  C90012584                                   PARRISH, LANCE C       I   \n",
       "6086  C00590174                     PEAKS AND PALMS SENATE VICTORY       X   \n",
       "3139  C00482182  OHIO PETROLEUM MARKETERS AND CONVENIENCE STORE...       N   \n",
       "\n",
       "     CMTE_DSGN CMTE_FILING_FREQ  TTL_RECEIPTS  TRANS_FROM_AFF  INDV_CONTRIB  \\\n",
       "9088         U                Q           nan             nan           nan   \n",
       "835          U                Q      5,006.00            0.00      5,006.00   \n",
       "9933         U                Q           nan             nan           nan   \n",
       "6086         J                T     40,000.00            0.00     40,000.00   \n",
       "3139         U                Q     55,775.00            0.00     55,775.00   \n",
       "\n",
       "      OTHER_POL_CMTE_CONTRIB  CAND_CONTRIB  ...  LOAN_REPAY   COH_BOP  \\\n",
       "9088                     nan           nan  ...         nan       nan   \n",
       "835                     0.00          0.00  ...        0.00    862.08   \n",
       "9933                     nan           nan  ...         nan       nan   \n",
       "6086                    0.00          0.00  ...        0.00      0.00   \n",
       "3139                    0.00          0.00  ...        0.00 12,199.81   \n",
       "\n",
       "       COH_COP  DEBTS_OWED_BY  NONFED_TRANS_RECEIVED  CONTRIB_TO_OTHER_CMTE  \\\n",
       "9088       nan            nan                    nan                    nan   \n",
       "835     768.00           0.00                   0.00               3,250.00   \n",
       "9933       nan            nan                    nan                    nan   \n",
       "6086      0.00           0.00                   0.00                   0.00   \n",
       "3139 21,202.41           0.00                   0.00              15,000.00   \n",
       "\n",
       "      IND_EXP  PTY_COORD_EXP  NONFED_SHARE_EXP  CVG_END_DT  \n",
       "9088      nan            nan               nan         NaN  \n",
       "835      0.00           0.00              0.00  06/30/2016  \n",
       "9933      nan            nan               nan         NaN  \n",
       "6086     0.00           0.00              0.00  04/21/2016  \n",
       "3139     0.00           0.00              0.00  12/31/2016  \n",
       "\n",
       "[5 rows x 27 columns]"
      ]
     },
     "execution_count": 3,
     "metadata": {},
     "output_type": "execute_result"
    }
   ],
   "source": [
    "pacsum = pd.read_csv('https://www.fec.gov/files/bulk-downloads/2016/webk16.zip', sep=\"|\", index_col=False, names=headers)\n",
    "print(pacsum.shape)\n",
    "pacsum.sample(5)"
   ]
  },
  {
   "cell_type": "markdown",
   "metadata": {},
   "source": [
    "After reading the PAC summary file, we will ensure that it contains indeed super-PACs, amongst other committee types."
   ]
  },
  {
   "cell_type": "code",
   "execution_count": 4,
   "metadata": {},
   "outputs": [
    {
     "data": {
      "text/plain": [
       "array(['Q', 'N', 'Y', 'W', 'X', 'O', 'V', 'U', 'D', 'H', 'E', 'S', 'P',\n",
       "       'C', 'I'], dtype=object)"
      ]
     },
     "execution_count": 4,
     "metadata": {},
     "output_type": "execute_result"
    }
   ],
   "source": [
    "pacsum['CMTE_TP'].unique()"
   ]
  },
  {
   "cell_type": "markdown",
   "metadata": {},
   "source": [
    "* Now, we are going to read the Contributions from committees to candidates file.\n",
    "* We need to read it in order to connect later every super-PAC's identification number with its corresponding candidate identification number."
   ]
  },
  {
   "cell_type": "code",
   "execution_count": 5,
   "metadata": {},
   "outputs": [
    {
     "data": {
      "text/plain": [
       "['CMTE_ID',\n",
       " 'AMNDT_IND',\n",
       " 'RPT_TP',\n",
       " 'TRANSACTION_PGI',\n",
       " 'IMAGE_NUM',\n",
       " 'TRANSACTION_TP',\n",
       " 'ENTITY_TP',\n",
       " 'NAME',\n",
       " 'CITY',\n",
       " 'STATE',\n",
       " 'ZIP_CODE',\n",
       " 'EMPLOYER',\n",
       " 'OCCUPATION',\n",
       " 'TRANSACTION_DT',\n",
       " 'TRANSACTION_AMT',\n",
       " 'OTHER_ID',\n",
       " 'CAND_ID',\n",
       " 'TRAN_ID',\n",
       " 'FILE_NUM',\n",
       " 'MEMO_CD',\n",
       " 'MEMO_TEXT',\n",
       " 'SUB_ID']"
      ]
     },
     "execution_count": 5,
     "metadata": {},
     "output_type": "execute_result"
    }
   ],
   "source": [
    "headers_ = pd.read_csv('https://www.fec.gov/files/bulk-downloads/data_dictionaries/pas2_header_file.csv')\n",
    "headers = headers_.columns.tolist()\n",
    "headers"
   ]
  },
  {
   "cell_type": "code",
   "execution_count": 6,
   "metadata": {},
   "outputs": [],
   "source": [
    "data_types = {header: np.str for header in headers}\n",
    "data_types['TRANSACTION_AMT'] = np.float"
   ]
  },
  {
   "cell_type": "code",
   "execution_count": 7,
   "metadata": {},
   "outputs": [
    {
     "name": "stdout",
     "output_type": "stream",
     "text": [
      "(516392, 22)\n"
     ]
    },
    {
     "data": {
      "text/html": [
       "<div>\n",
       "<style scoped>\n",
       "    .dataframe tbody tr th:only-of-type {\n",
       "        vertical-align: middle;\n",
       "    }\n",
       "\n",
       "    .dataframe tbody tr th {\n",
       "        vertical-align: top;\n",
       "    }\n",
       "\n",
       "    .dataframe thead th {\n",
       "        text-align: right;\n",
       "    }\n",
       "</style>\n",
       "<table border=\"1\" class=\"dataframe\">\n",
       "  <thead>\n",
       "    <tr style=\"text-align: right;\">\n",
       "      <th></th>\n",
       "      <th>CMTE_ID</th>\n",
       "      <th>AMNDT_IND</th>\n",
       "      <th>RPT_TP</th>\n",
       "      <th>TRANSACTION_PGI</th>\n",
       "      <th>IMAGE_NUM</th>\n",
       "      <th>TRANSACTION_TP</th>\n",
       "      <th>ENTITY_TP</th>\n",
       "      <th>NAME</th>\n",
       "      <th>CITY</th>\n",
       "      <th>STATE</th>\n",
       "      <th>...</th>\n",
       "      <th>OCCUPATION</th>\n",
       "      <th>TRANSACTION_DT</th>\n",
       "      <th>TRANSACTION_AMT</th>\n",
       "      <th>OTHER_ID</th>\n",
       "      <th>CAND_ID</th>\n",
       "      <th>TRAN_ID</th>\n",
       "      <th>FILE_NUM</th>\n",
       "      <th>MEMO_CD</th>\n",
       "      <th>MEMO_TEXT</th>\n",
       "      <th>SUB_ID</th>\n",
       "    </tr>\n",
       "  </thead>\n",
       "  <tbody>\n",
       "    <tr>\n",
       "      <th>365259</th>\n",
       "      <td>C00609263</td>\n",
       "      <td>N</td>\n",
       "      <td>Q1</td>\n",
       "      <td>P2016</td>\n",
       "      <td>201604159012455777</td>\n",
       "      <td>24K</td>\n",
       "      <td>CCM</td>\n",
       "      <td>MORAN FOR KANSAS</td>\n",
       "      <td>HAYS</td>\n",
       "      <td>KS</td>\n",
       "      <td>...</td>\n",
       "      <td>NaN</td>\n",
       "      <td>2016-02-23</td>\n",
       "      <td>2,500.00</td>\n",
       "      <td>C00458315</td>\n",
       "      <td>S0KS00091</td>\n",
       "      <td>SB23.4208</td>\n",
       "      <td>1063065</td>\n",
       "      <td>NaN</td>\n",
       "      <td>NaN</td>\n",
       "      <td>4042520161284247178</td>\n",
       "    </tr>\n",
       "    <tr>\n",
       "      <th>94043</th>\n",
       "      <td>C00034785</td>\n",
       "      <td>N</td>\n",
       "      <td>M11</td>\n",
       "      <td>P2016</td>\n",
       "      <td>201511199003386950</td>\n",
       "      <td>24K</td>\n",
       "      <td>CCM</td>\n",
       "      <td>TROTT FOR CONGRESS, INC.</td>\n",
       "      <td>COMMERCE</td>\n",
       "      <td>MI</td>\n",
       "      <td>...</td>\n",
       "      <td>NaN</td>\n",
       "      <td>2015-10-07</td>\n",
       "      <td>2,000.00</td>\n",
       "      <td>C00548941</td>\n",
       "      <td>H4MI11097</td>\n",
       "      <td>7448506</td>\n",
       "      <td>1033553</td>\n",
       "      <td>NaN</td>\n",
       "      <td>NaN</td>\n",
       "      <td>4111920151257314620</td>\n",
       "    </tr>\n",
       "    <tr>\n",
       "      <th>202697</th>\n",
       "      <td>C00013342</td>\n",
       "      <td>N</td>\n",
       "      <td>M10</td>\n",
       "      <td>G2016</td>\n",
       "      <td>201610119032231720</td>\n",
       "      <td>24K</td>\n",
       "      <td>CCM</td>\n",
       "      <td>JENKINS FOR CONGRESS</td>\n",
       "      <td>HUNTINGTON</td>\n",
       "      <td>WV</td>\n",
       "      <td>...</td>\n",
       "      <td>NaN</td>\n",
       "      <td>2016-09-13</td>\n",
       "      <td>1,000.00</td>\n",
       "      <td>C00548271</td>\n",
       "      <td>H4WV03070</td>\n",
       "      <td>SB23.27624</td>\n",
       "      <td>1103887</td>\n",
       "      <td>NaN</td>\n",
       "      <td>NaN</td>\n",
       "      <td>4101120161340778798</td>\n",
       "    </tr>\n",
       "    <tr>\n",
       "      <th>476426</th>\n",
       "      <td>C90011156</td>\n",
       "      <td>N</td>\n",
       "      <td>YE</td>\n",
       "      <td>G2016</td>\n",
       "      <td>201701319042152970</td>\n",
       "      <td>24E</td>\n",
       "      <td>IND</td>\n",
       "      <td>OLSZEWSKI, SHAWN</td>\n",
       "      <td>AKRON</td>\n",
       "      <td>OH</td>\n",
       "      <td>...</td>\n",
       "      <td>NaN</td>\n",
       "      <td>2016-09-09</td>\n",
       "      <td>68.00</td>\n",
       "      <td>S6OH00254</td>\n",
       "      <td>S6OH00254</td>\n",
       "      <td>VN7CZA35HR2</td>\n",
       "      <td>1144686</td>\n",
       "      <td>NaN</td>\n",
       "      <td>NaN</td>\n",
       "      <td>4020920171370087650</td>\n",
       "    </tr>\n",
       "    <tr>\n",
       "      <th>462307</th>\n",
       "      <td>C90011156</td>\n",
       "      <td>N</td>\n",
       "      <td>YE</td>\n",
       "      <td>G2016</td>\n",
       "      <td>201701319042154179</td>\n",
       "      <td>24A</td>\n",
       "      <td>IND</td>\n",
       "      <td>SMITH, FELICIA</td>\n",
       "      <td>CINCINNATI</td>\n",
       "      <td>OH</td>\n",
       "      <td>...</td>\n",
       "      <td>NaN</td>\n",
       "      <td>2016-09-13</td>\n",
       "      <td>34.00</td>\n",
       "      <td>S0OH00133</td>\n",
       "      <td>S0OH00133</td>\n",
       "      <td>VN7CZA3ARW6</td>\n",
       "      <td>1144686</td>\n",
       "      <td>NaN</td>\n",
       "      <td>NaN</td>\n",
       "      <td>4020920171370091276</td>\n",
       "    </tr>\n",
       "  </tbody>\n",
       "</table>\n",
       "<p>5 rows × 22 columns</p>\n",
       "</div>"
      ],
      "text/plain": [
       "          CMTE_ID AMNDT_IND RPT_TP TRANSACTION_PGI           IMAGE_NUM  \\\n",
       "365259  C00609263         N     Q1           P2016  201604159012455777   \n",
       "94043   C00034785         N    M11           P2016  201511199003386950   \n",
       "202697  C00013342         N    M10           G2016  201610119032231720   \n",
       "476426  C90011156         N     YE           G2016  201701319042152970   \n",
       "462307  C90011156         N     YE           G2016  201701319042154179   \n",
       "\n",
       "       TRANSACTION_TP ENTITY_TP                      NAME        CITY STATE  \\\n",
       "365259            24K       CCM          MORAN FOR KANSAS        HAYS    KS   \n",
       "94043             24K       CCM  TROTT FOR CONGRESS, INC.    COMMERCE    MI   \n",
       "202697            24K       CCM      JENKINS FOR CONGRESS  HUNTINGTON    WV   \n",
       "476426            24E       IND          OLSZEWSKI, SHAWN       AKRON    OH   \n",
       "462307            24A       IND            SMITH, FELICIA  CINCINNATI    OH   \n",
       "\n",
       "        ... OCCUPATION TRANSACTION_DT TRANSACTION_AMT   OTHER_ID    CAND_ID  \\\n",
       "365259  ...        NaN     2016-02-23        2,500.00  C00458315  S0KS00091   \n",
       "94043   ...        NaN     2015-10-07        2,000.00  C00548941  H4MI11097   \n",
       "202697  ...        NaN     2016-09-13        1,000.00  C00548271  H4WV03070   \n",
       "476426  ...        NaN     2016-09-09           68.00  S6OH00254  S6OH00254   \n",
       "462307  ...        NaN     2016-09-13           34.00  S0OH00133  S0OH00133   \n",
       "\n",
       "            TRAN_ID FILE_NUM MEMO_CD MEMO_TEXT               SUB_ID  \n",
       "365259    SB23.4208  1063065     NaN       NaN  4042520161284247178  \n",
       "94043       7448506  1033553     NaN       NaN  4111920151257314620  \n",
       "202697   SB23.27624  1103887     NaN       NaN  4101120161340778798  \n",
       "476426  VN7CZA35HR2  1144686     NaN       NaN  4020920171370087650  \n",
       "462307  VN7CZA3ARW6  1144686     NaN       NaN  4020920171370091276  \n",
       "\n",
       "[5 rows x 22 columns]"
      ]
     },
     "execution_count": 7,
     "metadata": {},
     "output_type": "execute_result"
    }
   ],
   "source": [
    "contribs = pd.read_csv('https://www.fec.gov/files/bulk-downloads/2016/pas216.zip', sep=\"|\", index_col=False, names=headers,\n",
    "                   dtype=data_types)\n",
    "contribs['TRANSACTION_DT']= pd.to_datetime(contribs['TRANSACTION_DT'], format='%m%d%Y')\n",
    "print(contribs.shape)\n",
    "contribs.sample(5)"
   ]
  },
  {
   "cell_type": "code",
   "execution_count": 8,
   "metadata": {},
   "outputs": [
    {
     "data": {
      "text/plain": [
       "array(['24K', '24Z', '24E', '24A', '24R', '24C', '24F', '24N'],\n",
       "      dtype=object)"
      ]
     },
     "execution_count": 8,
     "metadata": {},
     "output_type": "execute_result"
    }
   ],
   "source": [
    "contribs['TRANSACTION_TP'].unique()"
   ]
  },
  {
   "cell_type": "markdown",
   "metadata": {},
   "source": [
    "* The transaction type 24E represents an independent expenditure advocating the election of candidate, which is included in the total receipts.\n",
    "* The transaction type 24A represents an independent expenditure opposing election of candidate.\n",
    "* This means, that someone can make a contribution with type 24E in order to support e.g. Hillary Clinton, or a contribution with 24A type to go against the opponents of Hillary Clinton.\n",
    "* You can find the definitions for all the transaction types here https://www.fec.gov/campaign-finance-data/transaction-type-code-descriptions/ ."
   ]
  },
  {
   "cell_type": "markdown",
   "metadata": {},
   "source": [
    "* So, now we are ready to merge the dataframes pacsum and contribs in order to finally connect each super-PAC with its corresponding candidate.\n",
    "* This will help us take a better look at which super-PAC(s) connect(s) with each candindate."
   ]
  },
  {
   "cell_type": "code",
   "execution_count": 9,
   "metadata": {
    "scrolled": true
   },
   "outputs": [
    {
     "name": "stdout",
     "output_type": "stream",
     "text": [
      "(509030, 48)\n"
     ]
    },
    {
     "data": {
      "text/html": [
       "<div>\n",
       "<style scoped>\n",
       "    .dataframe tbody tr th:only-of-type {\n",
       "        vertical-align: middle;\n",
       "    }\n",
       "\n",
       "    .dataframe tbody tr th {\n",
       "        vertical-align: top;\n",
       "    }\n",
       "\n",
       "    .dataframe thead th {\n",
       "        text-align: right;\n",
       "    }\n",
       "</style>\n",
       "<table border=\"1\" class=\"dataframe\">\n",
       "  <thead>\n",
       "    <tr style=\"text-align: right;\">\n",
       "      <th></th>\n",
       "      <th>CMTE_ID</th>\n",
       "      <th>CMTE_NM</th>\n",
       "      <th>CMTE_TP</th>\n",
       "      <th>CMTE_DSGN</th>\n",
       "      <th>CMTE_FILING_FREQ</th>\n",
       "      <th>TTL_RECEIPTS</th>\n",
       "      <th>TRANS_FROM_AFF</th>\n",
       "      <th>INDV_CONTRIB</th>\n",
       "      <th>OTHER_POL_CMTE_CONTRIB</th>\n",
       "      <th>CAND_CONTRIB</th>\n",
       "      <th>...</th>\n",
       "      <th>OCCUPATION</th>\n",
       "      <th>TRANSACTION_DT</th>\n",
       "      <th>TRANSACTION_AMT</th>\n",
       "      <th>OTHER_ID</th>\n",
       "      <th>CAND_ID</th>\n",
       "      <th>TRAN_ID</th>\n",
       "      <th>FILE_NUM</th>\n",
       "      <th>MEMO_CD</th>\n",
       "      <th>MEMO_TEXT</th>\n",
       "      <th>SUB_ID</th>\n",
       "    </tr>\n",
       "  </thead>\n",
       "  <tbody>\n",
       "    <tr>\n",
       "      <th>73629</th>\n",
       "      <td>C00080135</td>\n",
       "      <td>BLUE DIAMOND GROWERS POLITICAL ACTION COMMITTEE</td>\n",
       "      <td>Q</td>\n",
       "      <td>U</td>\n",
       "      <td>Q</td>\n",
       "      <td>140,093.04</td>\n",
       "      <td>0.00</td>\n",
       "      <td>140,093.04</td>\n",
       "      <td>0.00</td>\n",
       "      <td>0.00</td>\n",
       "      <td>...</td>\n",
       "      <td>NaN</td>\n",
       "      <td>2015-09-18</td>\n",
       "      <td>1,000.00</td>\n",
       "      <td>C00509422</td>\n",
       "      <td>H2CA02142</td>\n",
       "      <td>EXPB1456</td>\n",
       "      <td>1039156</td>\n",
       "      <td>NaN</td>\n",
       "      <td>NaN</td>\n",
       "      <td>4011220161260546296</td>\n",
       "    </tr>\n",
       "    <tr>\n",
       "      <th>396789</th>\n",
       "      <td>C90011156</td>\n",
       "      <td>WORKING AMERICA</td>\n",
       "      <td>I</td>\n",
       "      <td>U</td>\n",
       "      <td>Q</td>\n",
       "      <td>11,373,645.00</td>\n",
       "      <td>0.00</td>\n",
       "      <td>0.00</td>\n",
       "      <td>0.00</td>\n",
       "      <td>0.00</td>\n",
       "      <td>...</td>\n",
       "      <td>NaN</td>\n",
       "      <td>2016-09-14</td>\n",
       "      <td>22.00</td>\n",
       "      <td>S4NC00089</td>\n",
       "      <td>S4NC00089</td>\n",
       "      <td>VN7CZA3D0F9</td>\n",
       "      <td>1144686</td>\n",
       "      <td>NaN</td>\n",
       "      <td>NaN</td>\n",
       "      <td>4020920171370092587</td>\n",
       "    </tr>\n",
       "    <tr>\n",
       "      <th>302753</th>\n",
       "      <td>C90011156</td>\n",
       "      <td>WORKING AMERICA</td>\n",
       "      <td>I</td>\n",
       "      <td>U</td>\n",
       "      <td>Q</td>\n",
       "      <td>11,373,645.00</td>\n",
       "      <td>0.00</td>\n",
       "      <td>0.00</td>\n",
       "      <td>0.00</td>\n",
       "      <td>0.00</td>\n",
       "      <td>...</td>\n",
       "      <td>NaN</td>\n",
       "      <td>2016-09-29</td>\n",
       "      <td>3.00</td>\n",
       "      <td>S6NC00266</td>\n",
       "      <td>S6NC00266</td>\n",
       "      <td>VN7CZA48XZ9</td>\n",
       "      <td>1104329</td>\n",
       "      <td>NaN</td>\n",
       "      <td>NaN</td>\n",
       "      <td>4101320161340958980</td>\n",
       "    </tr>\n",
       "    <tr>\n",
       "      <th>236097</th>\n",
       "      <td>C00541078</td>\n",
       "      <td>EXCELSIOR PAC</td>\n",
       "      <td>N</td>\n",
       "      <td>D</td>\n",
       "      <td>M</td>\n",
       "      <td>165,626.44</td>\n",
       "      <td>0.00</td>\n",
       "      <td>15,000.00</td>\n",
       "      <td>150,548.53</td>\n",
       "      <td>0.00</td>\n",
       "      <td>...</td>\n",
       "      <td>NaN</td>\n",
       "      <td>2016-09-28</td>\n",
       "      <td>1,000.00</td>\n",
       "      <td>C00607416</td>\n",
       "      <td>H6PA08277</td>\n",
       "      <td>SB23.4747</td>\n",
       "      <td>1109271</td>\n",
       "      <td>NaN</td>\n",
       "      <td>NaN</td>\n",
       "      <td>4110120161345675098</td>\n",
       "    </tr>\n",
       "    <tr>\n",
       "      <th>486186</th>\n",
       "      <td>C00482570</td>\n",
       "      <td>JACKSON LEWIS P.C. POLITICAL ACTION COMMITTEE</td>\n",
       "      <td>Q</td>\n",
       "      <td>B</td>\n",
       "      <td>M</td>\n",
       "      <td>158,926.83</td>\n",
       "      <td>0.00</td>\n",
       "      <td>158,926.83</td>\n",
       "      <td>0.00</td>\n",
       "      <td>0.00</td>\n",
       "      <td>...</td>\n",
       "      <td>NaN</td>\n",
       "      <td>2015-02-09</td>\n",
       "      <td>2,500.00</td>\n",
       "      <td>C00571919</td>\n",
       "      <td>S6CA00584</td>\n",
       "      <td>SB23.5235</td>\n",
       "      <td>996708</td>\n",
       "      <td>NaN</td>\n",
       "      <td>NaN</td>\n",
       "      <td>4031320151240631327</td>\n",
       "    </tr>\n",
       "  </tbody>\n",
       "</table>\n",
       "<p>5 rows × 48 columns</p>\n",
       "</div>"
      ],
      "text/plain": [
       "          CMTE_ID                                          CMTE_NM CMTE_TP  \\\n",
       "73629   C00080135  BLUE DIAMOND GROWERS POLITICAL ACTION COMMITTEE       Q   \n",
       "396789  C90011156                                  WORKING AMERICA       I   \n",
       "302753  C90011156                                  WORKING AMERICA       I   \n",
       "236097  C00541078                                    EXCELSIOR PAC       N   \n",
       "486186  C00482570    JACKSON LEWIS P.C. POLITICAL ACTION COMMITTEE       Q   \n",
       "\n",
       "       CMTE_DSGN CMTE_FILING_FREQ  TTL_RECEIPTS  TRANS_FROM_AFF  INDV_CONTRIB  \\\n",
       "73629          U                Q    140,093.04            0.00    140,093.04   \n",
       "396789         U                Q 11,373,645.00            0.00          0.00   \n",
       "302753         U                Q 11,373,645.00            0.00          0.00   \n",
       "236097         D                M    165,626.44            0.00     15,000.00   \n",
       "486186         B                M    158,926.83            0.00    158,926.83   \n",
       "\n",
       "        OTHER_POL_CMTE_CONTRIB  CAND_CONTRIB  ...  OCCUPATION  TRANSACTION_DT  \\\n",
       "73629                     0.00          0.00  ...         NaN      2015-09-18   \n",
       "396789                    0.00          0.00  ...         NaN      2016-09-14   \n",
       "302753                    0.00          0.00  ...         NaN      2016-09-29   \n",
       "236097              150,548.53          0.00  ...         NaN      2016-09-28   \n",
       "486186                    0.00          0.00  ...         NaN      2015-02-09   \n",
       "\n",
       "        TRANSACTION_AMT   OTHER_ID    CAND_ID      TRAN_ID  FILE_NUM  MEMO_CD  \\\n",
       "73629          1,000.00  C00509422  H2CA02142     EXPB1456   1039156      NaN   \n",
       "396789            22.00  S4NC00089  S4NC00089  VN7CZA3D0F9   1144686      NaN   \n",
       "302753             3.00  S6NC00266  S6NC00266  VN7CZA48XZ9   1104329      NaN   \n",
       "236097         1,000.00  C00607416  H6PA08277    SB23.4747   1109271      NaN   \n",
       "486186         2,500.00  C00571919  S6CA00584    SB23.5235    996708      NaN   \n",
       "\n",
       "        MEMO_TEXT               SUB_ID  \n",
       "73629         NaN  4011220161260546296  \n",
       "396789        NaN  4020920171370092587  \n",
       "302753        NaN  4101320161340958980  \n",
       "236097        NaN  4110120161345675098  \n",
       "486186        NaN  4031320151240631327  \n",
       "\n",
       "[5 rows x 48 columns]"
      ]
     },
     "execution_count": 9,
     "metadata": {},
     "output_type": "execute_result"
    }
   ],
   "source": [
    "superpacs = pd.merge(pacsum, contribs, on='CMTE_ID', how='inner')\n",
    "print(superpacs.shape)\n",
    "superpacs.sample(5)"
   ]
  },
  {
   "cell_type": "markdown",
   "metadata": {},
   "source": [
    "Now we are going to read the Candidate master file in order to get the corresponding candidate name for each candidate identification number."
   ]
  },
  {
   "cell_type": "code",
   "execution_count": 10,
   "metadata": {},
   "outputs": [
    {
     "data": {
      "text/plain": [
       "['CAND_ID',\n",
       " 'CAND_NAME',\n",
       " 'CAND_PTY_AFFILIATION',\n",
       " 'CAND_ELECTION_YR',\n",
       " 'CAND_OFFICE_ST',\n",
       " 'CAND_OFFICE',\n",
       " 'CAND_OFFICE_DISTRICT',\n",
       " 'CAND_ICI',\n",
       " 'CAND_STATUS',\n",
       " 'CAND_PCC',\n",
       " 'CAND_ST1',\n",
       " 'CAND_ST2',\n",
       " 'CAND_CITY',\n",
       " 'CAND_ST',\n",
       " 'CAND_ZIP']"
      ]
     },
     "execution_count": 10,
     "metadata": {},
     "output_type": "execute_result"
    }
   ],
   "source": [
    "headerscm = pd.read_csv('https://www.fec.gov/files/bulk-downloads/data_dictionaries/cn_header_file.csv')\n",
    "headers_cm = headerscm.columns.tolist()\n",
    "headers_cm"
   ]
  },
  {
   "cell_type": "code",
   "execution_count": 11,
   "metadata": {},
   "outputs": [
    {
     "name": "stdout",
     "output_type": "stream",
     "text": [
      "(7395, 15)\n"
     ]
    },
    {
     "data": {
      "text/html": [
       "<div>\n",
       "<style scoped>\n",
       "    .dataframe tbody tr th:only-of-type {\n",
       "        vertical-align: middle;\n",
       "    }\n",
       "\n",
       "    .dataframe tbody tr th {\n",
       "        vertical-align: top;\n",
       "    }\n",
       "\n",
       "    .dataframe thead th {\n",
       "        text-align: right;\n",
       "    }\n",
       "</style>\n",
       "<table border=\"1\" class=\"dataframe\">\n",
       "  <thead>\n",
       "    <tr style=\"text-align: right;\">\n",
       "      <th></th>\n",
       "      <th>CAND_ID</th>\n",
       "      <th>CAND_NAME</th>\n",
       "      <th>CAND_PTY_AFFILIATION</th>\n",
       "      <th>CAND_ELECTION_YR</th>\n",
       "      <th>CAND_OFFICE_ST</th>\n",
       "      <th>CAND_OFFICE</th>\n",
       "      <th>CAND_OFFICE_DISTRICT</th>\n",
       "      <th>CAND_ICI</th>\n",
       "      <th>CAND_STATUS</th>\n",
       "      <th>CAND_PCC</th>\n",
       "      <th>CAND_ST1</th>\n",
       "      <th>CAND_ST2</th>\n",
       "      <th>CAND_CITY</th>\n",
       "      <th>CAND_ST</th>\n",
       "      <th>CAND_ZIP</th>\n",
       "    </tr>\n",
       "  </thead>\n",
       "  <tbody>\n",
       "    <tr>\n",
       "      <th>1554</th>\n",
       "      <td>H4FL04043</td>\n",
       "      <td>MOSER-BARTLETT, PAULA DARLENE</td>\n",
       "      <td>NPA</td>\n",
       "      <td>2014</td>\n",
       "      <td>FL</td>\n",
       "      <td>H</td>\n",
       "      <td>4.00</td>\n",
       "      <td>C</td>\n",
       "      <td>P</td>\n",
       "      <td>C00561985</td>\n",
       "      <td>1216 NIGHTINGALE CT</td>\n",
       "      <td>NaN</td>\n",
       "      <td>JACKSONVILLE</td>\n",
       "      <td>FL</td>\n",
       "      <td>32,216.00</td>\n",
       "    </tr>\n",
       "    <tr>\n",
       "      <th>2510</th>\n",
       "      <td>H6CA41208</td>\n",
       "      <td>RYAN, CODY</td>\n",
       "      <td>REP</td>\n",
       "      <td>2016</td>\n",
       "      <td>CA</td>\n",
       "      <td>H</td>\n",
       "      <td>41.00</td>\n",
       "      <td>C</td>\n",
       "      <td>N</td>\n",
       "      <td>NaN</td>\n",
       "      <td>3590 CAMPBELL STREET</td>\n",
       "      <td>NaN</td>\n",
       "      <td>RIVERSIDE</td>\n",
       "      <td>CA</td>\n",
       "      <td>92,509.00</td>\n",
       "    </tr>\n",
       "    <tr>\n",
       "      <th>4275</th>\n",
       "      <td>H8OH11141</td>\n",
       "      <td>FUDGE, MARCIA L</td>\n",
       "      <td>DEM</td>\n",
       "      <td>2016</td>\n",
       "      <td>OH</td>\n",
       "      <td>H</td>\n",
       "      <td>11.00</td>\n",
       "      <td>I</td>\n",
       "      <td>C</td>\n",
       "      <td>C00454694</td>\n",
       "      <td>26911 EMERY RD</td>\n",
       "      <td>NaN</td>\n",
       "      <td>WARRENSVILLE HEIGH</td>\n",
       "      <td>OH</td>\n",
       "      <td>44,122.00</td>\n",
       "    </tr>\n",
       "    <tr>\n",
       "      <th>6725</th>\n",
       "      <td>S4CO00387</td>\n",
       "      <td>SHOGAN, STEPHEN H</td>\n",
       "      <td>IND</td>\n",
       "      <td>2014</td>\n",
       "      <td>CO</td>\n",
       "      <td>S</td>\n",
       "      <td>0.00</td>\n",
       "      <td>C</td>\n",
       "      <td>P</td>\n",
       "      <td>C00556530</td>\n",
       "      <td>55 CHARLOU CIRCLE</td>\n",
       "      <td>NaN</td>\n",
       "      <td>ENGLEWOOD</td>\n",
       "      <td>CO</td>\n",
       "      <td>80,111.00</td>\n",
       "    </tr>\n",
       "    <tr>\n",
       "      <th>3752</th>\n",
       "      <td>H6TX11096</td>\n",
       "      <td>LANDHOLT, NICHOLAS</td>\n",
       "      <td>LIB</td>\n",
       "      <td>2016</td>\n",
       "      <td>TX</td>\n",
       "      <td>H</td>\n",
       "      <td>11.00</td>\n",
       "      <td>C</td>\n",
       "      <td>N</td>\n",
       "      <td>NaN</td>\n",
       "      <td>1450 ALEGRIA ROAD</td>\n",
       "      <td>NaN</td>\n",
       "      <td>AUSTIN</td>\n",
       "      <td>TX</td>\n",
       "      <td>77,061.00</td>\n",
       "    </tr>\n",
       "  </tbody>\n",
       "</table>\n",
       "</div>"
      ],
      "text/plain": [
       "        CAND_ID                      CAND_NAME CAND_PTY_AFFILIATION  \\\n",
       "1554  H4FL04043  MOSER-BARTLETT, PAULA DARLENE                  NPA   \n",
       "2510  H6CA41208                     RYAN, CODY                  REP   \n",
       "4275  H8OH11141                FUDGE, MARCIA L                  DEM   \n",
       "6725  S4CO00387              SHOGAN, STEPHEN H                  IND   \n",
       "3752  H6TX11096             LANDHOLT, NICHOLAS                  LIB   \n",
       "\n",
       "      CAND_ELECTION_YR CAND_OFFICE_ST CAND_OFFICE  CAND_OFFICE_DISTRICT  \\\n",
       "1554              2014             FL           H                  4.00   \n",
       "2510              2016             CA           H                 41.00   \n",
       "4275              2016             OH           H                 11.00   \n",
       "6725              2014             CO           S                  0.00   \n",
       "3752              2016             TX           H                 11.00   \n",
       "\n",
       "     CAND_ICI CAND_STATUS   CAND_PCC               CAND_ST1 CAND_ST2  \\\n",
       "1554        C           P  C00561985    1216 NIGHTINGALE CT      NaN   \n",
       "2510        C           N        NaN  3590 CAMPBELL STREET       NaN   \n",
       "4275        I           C  C00454694         26911 EMERY RD      NaN   \n",
       "6725        C           P  C00556530      55 CHARLOU CIRCLE      NaN   \n",
       "3752        C           N        NaN      1450 ALEGRIA ROAD      NaN   \n",
       "\n",
       "               CAND_CITY CAND_ST  CAND_ZIP  \n",
       "1554        JACKSONVILLE      FL 32,216.00  \n",
       "2510           RIVERSIDE      CA 92,509.00  \n",
       "4275  WARRENSVILLE HEIGH      OH 44,122.00  \n",
       "6725           ENGLEWOOD      CO 80,111.00  \n",
       "3752              AUSTIN      TX 77,061.00  "
      ]
     },
     "execution_count": 11,
     "metadata": {},
     "output_type": "execute_result"
    }
   ],
   "source": [
    "cands = pd.read_csv('https://www.fec.gov/files/bulk-downloads/2016/cn16.zip', sep=\"|\", index_col=False, names=headers_cm)\n",
    "print(cands.shape)\n",
    "cands.sample(5)"
   ]
  },
  {
   "cell_type": "markdown",
   "metadata": {},
   "source": [
    "Now we will do a little bit of 'cleaning' such as restricting the dataframe only for candidates that ran on 2016 for president and were staturory candidates."
   ]
  },
  {
   "cell_type": "code",
   "execution_count": 12,
   "metadata": {},
   "outputs": [
    {
     "name": "stdout",
     "output_type": "stream",
     "text": [
      "(72, 6)\n"
     ]
    },
    {
     "data": {
      "text/html": [
       "<div>\n",
       "<style scoped>\n",
       "    .dataframe tbody tr th:only-of-type {\n",
       "        vertical-align: middle;\n",
       "    }\n",
       "\n",
       "    .dataframe tbody tr th {\n",
       "        vertical-align: top;\n",
       "    }\n",
       "\n",
       "    .dataframe thead th {\n",
       "        text-align: right;\n",
       "    }\n",
       "</style>\n",
       "<table border=\"1\" class=\"dataframe\">\n",
       "  <thead>\n",
       "    <tr style=\"text-align: right;\">\n",
       "      <th></th>\n",
       "      <th>CAND_ID</th>\n",
       "      <th>CAND_NAME</th>\n",
       "      <th>CAND_PTY_AFFILIATION</th>\n",
       "      <th>CAND_ELECTION_YR</th>\n",
       "      <th>CAND_OFFICE</th>\n",
       "      <th>CAND_STATUS</th>\n",
       "    </tr>\n",
       "  </thead>\n",
       "  <tbody>\n",
       "    <tr>\n",
       "      <th>5925</th>\n",
       "      <td>P60019437</td>\n",
       "      <td>DEPEW, JENNIFER ROBIN</td>\n",
       "      <td>IND</td>\n",
       "      <td>2016</td>\n",
       "      <td>P</td>\n",
       "      <td>C</td>\n",
       "    </tr>\n",
       "    <tr>\n",
       "      <th>5737</th>\n",
       "      <td>P60017423</td>\n",
       "      <td>LYNCH, JAMES P SR</td>\n",
       "      <td>REP</td>\n",
       "      <td>2016</td>\n",
       "      <td>P</td>\n",
       "      <td>C</td>\n",
       "    </tr>\n",
       "    <tr>\n",
       "      <th>4385</th>\n",
       "      <td>P00004861</td>\n",
       "      <td>BICKELMEYER, MICHAEL</td>\n",
       "      <td>REP</td>\n",
       "      <td>2016</td>\n",
       "      <td>P</td>\n",
       "      <td>C</td>\n",
       "    </tr>\n",
       "    <tr>\n",
       "      <th>5803</th>\n",
       "      <td>P60018132</td>\n",
       "      <td>DOYLE, COLIN B</td>\n",
       "      <td>IND</td>\n",
       "      <td>2016</td>\n",
       "      <td>P</td>\n",
       "      <td>C</td>\n",
       "    </tr>\n",
       "    <tr>\n",
       "      <th>4560</th>\n",
       "      <td>P20004677</td>\n",
       "      <td>WHITE, JEROME S</td>\n",
       "      <td>SEP</td>\n",
       "      <td>2016</td>\n",
       "      <td>P</td>\n",
       "      <td>C</td>\n",
       "    </tr>\n",
       "  </tbody>\n",
       "</table>\n",
       "</div>"
      ],
      "text/plain": [
       "        CAND_ID              CAND_NAME CAND_PTY_AFFILIATION  CAND_ELECTION_YR  \\\n",
       "5925  P60019437  DEPEW, JENNIFER ROBIN                  IND              2016   \n",
       "5737  P60017423      LYNCH, JAMES P SR                  REP              2016   \n",
       "4385  P00004861   BICKELMEYER, MICHAEL                  REP              2016   \n",
       "5803  P60018132         DOYLE, COLIN B                  IND              2016   \n",
       "4560  P20004677        WHITE, JEROME S                  SEP              2016   \n",
       "\n",
       "     CAND_OFFICE CAND_STATUS  \n",
       "5925           P           C  \n",
       "5737           P           C  \n",
       "4385           P           C  \n",
       "5803           P           C  \n",
       "4560           P           C  "
      ]
     },
     "execution_count": 12,
     "metadata": {},
     "output_type": "execute_result"
    }
   ],
   "source": [
    "cands = cands.loc[(cands['CAND_ELECTION_YR'] == 2016) & (cands['CAND_OFFICE'] == 'P') & (cands['CAND_STATUS'] == 'C')]\n",
    "cands = cands[['CAND_ID', 'CAND_NAME', 'CAND_PTY_AFFILIATION', 'CAND_ELECTION_YR', 'CAND_OFFICE', 'CAND_STATUS']]\n",
    "print(cands.shape)\n",
    "cands.sample(5)"
   ]
  },
  {
   "cell_type": "code",
   "execution_count": 13,
   "metadata": {},
   "outputs": [
    {
     "data": {
      "text/plain": [
       "array(['CLINTON, HILLARY RODHAM / TIMOTHY MICHAEL KAINE',\n",
       "       'SCHRINER, JOSEPH CHARLES', 'BROWN, HARLEY D',\n",
       "       'BICKELMEYER, MICHAEL', 'JOHNSON, GARY / WILLIAM \"BILL\" WELD',\n",
       "       'SANTORUM, RICHARD J.', 'HILL, CHRISTOPHER V',\n",
       "       'PERRY, JAMES R (RICK)', 'STEIN, JILL', 'WELLS, ROBERT CARR JR',\n",
       "       'WHITE, JEROME S', 'KREML, WILLIAM P', 'PAUL, RAND',\n",
       "       'KASICH, JOHN R', 'MOOREHEAD, MONICA GAIL',\n",
       "       'ADESHINA, YINKA ABOSEDE', 'JEROBOAN, KINS',\n",
       "       'STEINBERG, MICHAEL ALAN', 'LOWER, BARTHOLOMEW JAMES MR.',\n",
       "       'BOWERS, KERRY DALE', 'SHERMAN, JEFFERSON WOODSON',\n",
       "       'CHRISTENSEN, DALE H', 'DUCKWALD, WANDA GAYLE',\n",
       "       'CARSON, BENJAMIN S SR MD', 'EVERSON, MARK', 'WALKER, SCOTT',\n",
       "       'CRUZ, RAFAEL EDWARD \"TED\"', 'LYNCH, DENNIS MICHAEL',\n",
       "       'SANDERS, BERNARD', 'FIORINA, CARLY', 'KELSO, LLOYD THOMAS',\n",
       "       'SCROGGIE, JEREMY', 'WILSON, WILLIE', 'PATAKI, GEORGE E',\n",
       "       \"O'MALLEY, MARTIN JOSEPH\", 'GRAHAM, LINDSEY O',\n",
       "       'WINSLOW, BRAD MR.', 'MANLEY, ELIJAH D', 'BUSH, JEB',\n",
       "       'CHAFEE, LINCOLN DAVENPORT MR.', 'JINDAL, BOBBY',\n",
       "       'COSTELLO, REGIS J', 'CHRISTIE, CHRISTOPHER J', 'WEBB, JAMES',\n",
       "       'DREW, ARTHUR', 'LESSIG, LAWRENCE', 'MESSINA, PETER',\n",
       "       'JOHNSON, JOHN FITZGERALD MR.', 'SKEWES, PETER ALAN PH.D.',\n",
       "       'MCAFEE, JOHN DAVID', 'ROBINSON JR, JACK BURTON',\n",
       "       'BASIAGO, ANDREW DANIEL', 'MANELSKI, DEVON MARCUS',\n",
       "       'DE  LA  FUENTE, ROQUE ROCKY', 'KITTINGTON, VALMA',\n",
       "       'VALENTINE, JAMES', 'LYNCH, JAMES P SR', 'PETERSEN, AUSTIN WADE',\n",
       "       'DOYLE, COLIN B', 'MALDONADO, JOSEPH A', 'ROY, JOHN CHARLES',\n",
       "       'DEPEW, JENNIFER ROBIN', 'GEORGE, JEFF', 'SOOD, AJAY',\n",
       "       'CASTLE, DARRELL LANE', 'MCMULLIN, EVAN / MINDY FINN',\n",
       "       'CARTER, WILLIE FELIX', 'TRUMP, DONALD J. / MICHAEL R. PENCE ',\n",
       "       'GILMORE, JAMES S III', 'HUCKABEE, MIKE', 'LYNCH, FRANK',\n",
       "       'LA RIVA, GLORIA ESTELA'], dtype=object)"
      ]
     },
     "execution_count": 13,
     "metadata": {},
     "output_type": "execute_result"
    }
   ],
   "source": [
    "cands['CAND_NAME'].unique()"
   ]
  },
  {
   "cell_type": "code",
   "execution_count": 14,
   "metadata": {},
   "outputs": [],
   "source": [
    "cands.loc[cands['CAND_NAME'] == 'TRUMP, DONALD J. / MICHAEL R. PENCE ', 'CAND_NAME'] = 'TRUMP, DONALD J.'\n",
    "cands.loc[cands['CAND_NAME'] == 'CLINTON, HILLARY RODHAM / TIMOTHY MICHAEL KAINE', 'CAND_NAME'] = 'CLINTON, HILLARY RODHAM'"
   ]
  },
  {
   "cell_type": "markdown",
   "metadata": {},
   "source": [
    "So, we are ready now to merge the superpacs dataframe with the cands dataframe, in order connect successfully each super-PAC with its corresponding candidate."
   ]
  },
  {
   "cell_type": "code",
   "execution_count": 15,
   "metadata": {},
   "outputs": [
    {
     "name": "stdout",
     "output_type": "stream",
     "text": [
      "(119884, 49)\n"
     ]
    },
    {
     "data": {
      "text/html": [
       "<div>\n",
       "<style scoped>\n",
       "    .dataframe tbody tr th:only-of-type {\n",
       "        vertical-align: middle;\n",
       "    }\n",
       "\n",
       "    .dataframe tbody tr th {\n",
       "        vertical-align: top;\n",
       "    }\n",
       "\n",
       "    .dataframe thead th {\n",
       "        text-align: right;\n",
       "    }\n",
       "</style>\n",
       "<table border=\"1\" class=\"dataframe\">\n",
       "  <thead>\n",
       "    <tr style=\"text-align: right;\">\n",
       "      <th></th>\n",
       "      <th>CMTE_ID</th>\n",
       "      <th>CMTE_NM</th>\n",
       "      <th>CMTE_TP</th>\n",
       "      <th>CMTE_DSGN</th>\n",
       "      <th>CMTE_FILING_FREQ</th>\n",
       "      <th>TTL_RECEIPTS</th>\n",
       "      <th>TRANS_FROM_AFF</th>\n",
       "      <th>INDV_CONTRIB</th>\n",
       "      <th>OTHER_POL_CMTE_CONTRIB</th>\n",
       "      <th>CAND_CONTRIB</th>\n",
       "      <th>...</th>\n",
       "      <th>TRANSACTION_DT</th>\n",
       "      <th>TRANSACTION_AMT</th>\n",
       "      <th>OTHER_ID</th>\n",
       "      <th>CAND_ID</th>\n",
       "      <th>TRAN_ID</th>\n",
       "      <th>FILE_NUM</th>\n",
       "      <th>MEMO_CD</th>\n",
       "      <th>MEMO_TEXT</th>\n",
       "      <th>SUB_ID</th>\n",
       "      <th>CAND_NAME</th>\n",
       "    </tr>\n",
       "  </thead>\n",
       "  <tbody>\n",
       "    <tr>\n",
       "      <th>26823</th>\n",
       "      <td>C90011156</td>\n",
       "      <td>WORKING AMERICA</td>\n",
       "      <td>I</td>\n",
       "      <td>U</td>\n",
       "      <td>Q</td>\n",
       "      <td>11,373,645.00</td>\n",
       "      <td>0.00</td>\n",
       "      <td>0.00</td>\n",
       "      <td>0.00</td>\n",
       "      <td>0.00</td>\n",
       "      <td>...</td>\n",
       "      <td>2016-08-27</td>\n",
       "      <td>51.00</td>\n",
       "      <td>P80001571</td>\n",
       "      <td>P80001571</td>\n",
       "      <td>VN7CZA2NJ32</td>\n",
       "      <td>1144686</td>\n",
       "      <td>NaN</td>\n",
       "      <td>NaN</td>\n",
       "      <td>4020920171370074783</td>\n",
       "      <td>TRUMP, DONALD J.</td>\n",
       "    </tr>\n",
       "    <tr>\n",
       "      <th>106551</th>\n",
       "      <td>C90011156</td>\n",
       "      <td>WORKING AMERICA</td>\n",
       "      <td>I</td>\n",
       "      <td>U</td>\n",
       "      <td>Q</td>\n",
       "      <td>11,373,645.00</td>\n",
       "      <td>0.00</td>\n",
       "      <td>0.00</td>\n",
       "      <td>0.00</td>\n",
       "      <td>0.00</td>\n",
       "      <td>...</td>\n",
       "      <td>2016-10-01</td>\n",
       "      <td>16.00</td>\n",
       "      <td>P00003392</td>\n",
       "      <td>P00003392</td>\n",
       "      <td>VN7CZA4D7X5</td>\n",
       "      <td>1144686</td>\n",
       "      <td>NaN</td>\n",
       "      <td>NaN</td>\n",
       "      <td>4020920171370114651</td>\n",
       "      <td>CLINTON, HILLARY RODHAM</td>\n",
       "    </tr>\n",
       "    <tr>\n",
       "      <th>379</th>\n",
       "      <td>C00053553</td>\n",
       "      <td>NATIONAL RIFLE ASSOCIATION OF AMERICA POLITICA...</td>\n",
       "      <td>Q</td>\n",
       "      <td>B</td>\n",
       "      <td>M</td>\n",
       "      <td>21,591,111.40</td>\n",
       "      <td>0.00</td>\n",
       "      <td>21,252,709.45</td>\n",
       "      <td>7,700.00</td>\n",
       "      <td>0.00</td>\n",
       "      <td>...</td>\n",
       "      <td>2016-10-17</td>\n",
       "      <td>71.00</td>\n",
       "      <td>P80001571</td>\n",
       "      <td>P80001571</td>\n",
       "      <td>74237347</td>\n",
       "      <td>1161240</td>\n",
       "      <td>NaN</td>\n",
       "      <td>NaN</td>\n",
       "      <td>4050520171404042490</td>\n",
       "      <td>TRUMP, DONALD J.</td>\n",
       "    </tr>\n",
       "    <tr>\n",
       "      <th>93233</th>\n",
       "      <td>C90011156</td>\n",
       "      <td>WORKING AMERICA</td>\n",
       "      <td>I</td>\n",
       "      <td>U</td>\n",
       "      <td>Q</td>\n",
       "      <td>11,373,645.00</td>\n",
       "      <td>0.00</td>\n",
       "      <td>0.00</td>\n",
       "      <td>0.00</td>\n",
       "      <td>0.00</td>\n",
       "      <td>...</td>\n",
       "      <td>2016-11-08</td>\n",
       "      <td>15.00</td>\n",
       "      <td>P00003392</td>\n",
       "      <td>P00003392</td>\n",
       "      <td>VN7CZA7PBB9</td>\n",
       "      <td>1144686</td>\n",
       "      <td>NaN</td>\n",
       "      <td>NaN</td>\n",
       "      <td>4020920171370177767</td>\n",
       "      <td>CLINTON, HILLARY RODHAM</td>\n",
       "    </tr>\n",
       "    <tr>\n",
       "      <th>49260</th>\n",
       "      <td>C00544767</td>\n",
       "      <td>STOP HILLARY PAC</td>\n",
       "      <td>V</td>\n",
       "      <td>U</td>\n",
       "      <td>Q</td>\n",
       "      <td>6,843,714.67</td>\n",
       "      <td>0.00</td>\n",
       "      <td>217,111.09</td>\n",
       "      <td>0.00</td>\n",
       "      <td>0.00</td>\n",
       "      <td>...</td>\n",
       "      <td>2016-08-31</td>\n",
       "      <td>21,562.00</td>\n",
       "      <td>P00003392</td>\n",
       "      <td>P00003392</td>\n",
       "      <td>SE24.92545</td>\n",
       "      <td>1301787</td>\n",
       "      <td>NaN</td>\n",
       "      <td>PART OF PREVIOUSLY REPORTED ESTIMATE</td>\n",
       "      <td>4021920191640406821</td>\n",
       "      <td>CLINTON, HILLARY RODHAM</td>\n",
       "    </tr>\n",
       "  </tbody>\n",
       "</table>\n",
       "<p>5 rows × 49 columns</p>\n",
       "</div>"
      ],
      "text/plain": [
       "          CMTE_ID                                            CMTE_NM CMTE_TP  \\\n",
       "26823   C90011156                                    WORKING AMERICA       I   \n",
       "106551  C90011156                                    WORKING AMERICA       I   \n",
       "379     C00053553  NATIONAL RIFLE ASSOCIATION OF AMERICA POLITICA...       Q   \n",
       "93233   C90011156                                    WORKING AMERICA       I   \n",
       "49260   C00544767                                   STOP HILLARY PAC       V   \n",
       "\n",
       "       CMTE_DSGN CMTE_FILING_FREQ  TTL_RECEIPTS  TRANS_FROM_AFF  INDV_CONTRIB  \\\n",
       "26823          U                Q 11,373,645.00            0.00          0.00   \n",
       "106551         U                Q 11,373,645.00            0.00          0.00   \n",
       "379            B                M 21,591,111.40            0.00 21,252,709.45   \n",
       "93233          U                Q 11,373,645.00            0.00          0.00   \n",
       "49260          U                Q  6,843,714.67            0.00    217,111.09   \n",
       "\n",
       "        OTHER_POL_CMTE_CONTRIB  CAND_CONTRIB  ...  TRANSACTION_DT  \\\n",
       "26823                     0.00          0.00  ...      2016-08-27   \n",
       "106551                    0.00          0.00  ...      2016-10-01   \n",
       "379                   7,700.00          0.00  ...      2016-10-17   \n",
       "93233                     0.00          0.00  ...      2016-11-08   \n",
       "49260                     0.00          0.00  ...      2016-08-31   \n",
       "\n",
       "        TRANSACTION_AMT   OTHER_ID    CAND_ID      TRAN_ID  FILE_NUM  MEMO_CD  \\\n",
       "26823             51.00  P80001571  P80001571  VN7CZA2NJ32   1144686      NaN   \n",
       "106551            16.00  P00003392  P00003392  VN7CZA4D7X5   1144686      NaN   \n",
       "379               71.00  P80001571  P80001571     74237347   1161240      NaN   \n",
       "93233             15.00  P00003392  P00003392  VN7CZA7PBB9   1144686      NaN   \n",
       "49260         21,562.00  P00003392  P00003392   SE24.92545   1301787      NaN   \n",
       "\n",
       "                                   MEMO_TEXT               SUB_ID  \\\n",
       "26823                                    NaN  4020920171370074783   \n",
       "106551                                   NaN  4020920171370114651   \n",
       "379                                      NaN  4050520171404042490   \n",
       "93233                                    NaN  4020920171370177767   \n",
       "49260   PART OF PREVIOUSLY REPORTED ESTIMATE  4021920191640406821   \n",
       "\n",
       "                      CAND_NAME  \n",
       "26823          TRUMP, DONALD J.  \n",
       "106551  CLINTON, HILLARY RODHAM  \n",
       "379            TRUMP, DONALD J.  \n",
       "93233   CLINTON, HILLARY RODHAM  \n",
       "49260   CLINTON, HILLARY RODHAM  \n",
       "\n",
       "[5 rows x 49 columns]"
      ]
     },
     "execution_count": 15,
     "metadata": {},
     "output_type": "execute_result"
    }
   ],
   "source": [
    "superpacs_cands = pd.merge(superpacs, cands[['CAND_ID', 'CAND_NAME']], on='CAND_ID', how='inner')\n",
    "print(superpacs_cands.shape)\n",
    "superpacs_cands.sample(5)"
   ]
  },
  {
   "cell_type": "markdown",
   "metadata": {},
   "source": [
    "Since we are only interested in Hillary Clinton's and Donald Trump's super-PACs, now that we can identify each candidate, we will restrict the dataset to them."
   ]
  },
  {
   "cell_type": "code",
   "execution_count": 16,
   "metadata": {},
   "outputs": [
    {
     "name": "stdout",
     "output_type": "stream",
     "text": [
      "(111250, 49)\n"
     ]
    },
    {
     "data": {
      "text/html": [
       "<div>\n",
       "<style scoped>\n",
       "    .dataframe tbody tr th:only-of-type {\n",
       "        vertical-align: middle;\n",
       "    }\n",
       "\n",
       "    .dataframe tbody tr th {\n",
       "        vertical-align: top;\n",
       "    }\n",
       "\n",
       "    .dataframe thead th {\n",
       "        text-align: right;\n",
       "    }\n",
       "</style>\n",
       "<table border=\"1\" class=\"dataframe\">\n",
       "  <thead>\n",
       "    <tr style=\"text-align: right;\">\n",
       "      <th></th>\n",
       "      <th>CMTE_ID</th>\n",
       "      <th>CMTE_NM</th>\n",
       "      <th>CMTE_TP</th>\n",
       "      <th>CMTE_DSGN</th>\n",
       "      <th>CMTE_FILING_FREQ</th>\n",
       "      <th>TTL_RECEIPTS</th>\n",
       "      <th>TRANS_FROM_AFF</th>\n",
       "      <th>INDV_CONTRIB</th>\n",
       "      <th>OTHER_POL_CMTE_CONTRIB</th>\n",
       "      <th>CAND_CONTRIB</th>\n",
       "      <th>...</th>\n",
       "      <th>TRANSACTION_DT</th>\n",
       "      <th>TRANSACTION_AMT</th>\n",
       "      <th>OTHER_ID</th>\n",
       "      <th>CAND_ID</th>\n",
       "      <th>TRAN_ID</th>\n",
       "      <th>FILE_NUM</th>\n",
       "      <th>MEMO_CD</th>\n",
       "      <th>MEMO_TEXT</th>\n",
       "      <th>SUB_ID</th>\n",
       "      <th>CAND_NAME</th>\n",
       "    </tr>\n",
       "  </thead>\n",
       "  <tbody>\n",
       "    <tr>\n",
       "      <th>6127</th>\n",
       "      <td>C90011156</td>\n",
       "      <td>WORKING AMERICA</td>\n",
       "      <td>I</td>\n",
       "      <td>U</td>\n",
       "      <td>Q</td>\n",
       "      <td>11,373,645.00</td>\n",
       "      <td>0.00</td>\n",
       "      <td>0.00</td>\n",
       "      <td>0.00</td>\n",
       "      <td>0.00</td>\n",
       "      <td>...</td>\n",
       "      <td>2016-09-27</td>\n",
       "      <td>2.00</td>\n",
       "      <td>P80001571</td>\n",
       "      <td>P80001571</td>\n",
       "      <td>VN7CZA43817</td>\n",
       "      <td>1104329</td>\n",
       "      <td>NaN</td>\n",
       "      <td>NaN</td>\n",
       "      <td>4101320161340954335</td>\n",
       "      <td>TRUMP, DONALD J.</td>\n",
       "    </tr>\n",
       "    <tr>\n",
       "      <th>12211</th>\n",
       "      <td>C90011156</td>\n",
       "      <td>WORKING AMERICA</td>\n",
       "      <td>I</td>\n",
       "      <td>U</td>\n",
       "      <td>Q</td>\n",
       "      <td>11,373,645.00</td>\n",
       "      <td>0.00</td>\n",
       "      <td>0.00</td>\n",
       "      <td>0.00</td>\n",
       "      <td>0.00</td>\n",
       "      <td>...</td>\n",
       "      <td>2016-08-12</td>\n",
       "      <td>27.00</td>\n",
       "      <td>P80001571</td>\n",
       "      <td>P80001571</td>\n",
       "      <td>VN7CZA29AW6</td>\n",
       "      <td>1104329</td>\n",
       "      <td>NaN</td>\n",
       "      <td>NaN</td>\n",
       "      <td>4101320161340912476</td>\n",
       "      <td>TRUMP, DONALD J.</td>\n",
       "    </tr>\n",
       "    <tr>\n",
       "      <th>105574</th>\n",
       "      <td>C90011156</td>\n",
       "      <td>WORKING AMERICA</td>\n",
       "      <td>I</td>\n",
       "      <td>U</td>\n",
       "      <td>Q</td>\n",
       "      <td>11,373,645.00</td>\n",
       "      <td>0.00</td>\n",
       "      <td>0.00</td>\n",
       "      <td>0.00</td>\n",
       "      <td>0.00</td>\n",
       "      <td>...</td>\n",
       "      <td>2016-10-10</td>\n",
       "      <td>12.00</td>\n",
       "      <td>P00003392</td>\n",
       "      <td>P00003392</td>\n",
       "      <td>VN7CZA4ZWF3</td>\n",
       "      <td>1144686</td>\n",
       "      <td>NaN</td>\n",
       "      <td>NaN</td>\n",
       "      <td>4020920171370124094</td>\n",
       "      <td>CLINTON, HILLARY RODHAM</td>\n",
       "    </tr>\n",
       "    <tr>\n",
       "      <th>26647</th>\n",
       "      <td>C90011156</td>\n",
       "      <td>WORKING AMERICA</td>\n",
       "      <td>I</td>\n",
       "      <td>U</td>\n",
       "      <td>Q</td>\n",
       "      <td>11,373,645.00</td>\n",
       "      <td>0.00</td>\n",
       "      <td>0.00</td>\n",
       "      <td>0.00</td>\n",
       "      <td>0.00</td>\n",
       "      <td>...</td>\n",
       "      <td>2016-08-23</td>\n",
       "      <td>34.00</td>\n",
       "      <td>P80001571</td>\n",
       "      <td>P80001571</td>\n",
       "      <td>VN7CZA2GGX3</td>\n",
       "      <td>1144686</td>\n",
       "      <td>NaN</td>\n",
       "      <td>NaN</td>\n",
       "      <td>4020920171370071086</td>\n",
       "      <td>TRUMP, DONALD J.</td>\n",
       "    </tr>\n",
       "    <tr>\n",
       "      <th>49010</th>\n",
       "      <td>C00540898</td>\n",
       "      <td>TEA PARTY PATRIOTS CITIZENS FUND</td>\n",
       "      <td>O</td>\n",
       "      <td>U</td>\n",
       "      <td>M</td>\n",
       "      <td>4,330,867.79</td>\n",
       "      <td>0.00</td>\n",
       "      <td>4,251,513.98</td>\n",
       "      <td>600.00</td>\n",
       "      <td>0.00</td>\n",
       "      <td>...</td>\n",
       "      <td>2016-06-23</td>\n",
       "      <td>3,611.00</td>\n",
       "      <td>P00003392</td>\n",
       "      <td>P00003392</td>\n",
       "      <td>SE.505992</td>\n",
       "      <td>1089490</td>\n",
       "      <td>NaN</td>\n",
       "      <td>NaN</td>\n",
       "      <td>4080320161307866177</td>\n",
       "      <td>CLINTON, HILLARY RODHAM</td>\n",
       "    </tr>\n",
       "  </tbody>\n",
       "</table>\n",
       "<p>5 rows × 49 columns</p>\n",
       "</div>"
      ],
      "text/plain": [
       "          CMTE_ID                           CMTE_NM CMTE_TP CMTE_DSGN  \\\n",
       "6127    C90011156                   WORKING AMERICA       I         U   \n",
       "12211   C90011156                   WORKING AMERICA       I         U   \n",
       "105574  C90011156                   WORKING AMERICA       I         U   \n",
       "26647   C90011156                   WORKING AMERICA       I         U   \n",
       "49010   C00540898  TEA PARTY PATRIOTS CITIZENS FUND       O         U   \n",
       "\n",
       "       CMTE_FILING_FREQ  TTL_RECEIPTS  TRANS_FROM_AFF  INDV_CONTRIB  \\\n",
       "6127                  Q 11,373,645.00            0.00          0.00   \n",
       "12211                 Q 11,373,645.00            0.00          0.00   \n",
       "105574                Q 11,373,645.00            0.00          0.00   \n",
       "26647                 Q 11,373,645.00            0.00          0.00   \n",
       "49010                 M  4,330,867.79            0.00  4,251,513.98   \n",
       "\n",
       "        OTHER_POL_CMTE_CONTRIB  CAND_CONTRIB  ...  TRANSACTION_DT  \\\n",
       "6127                      0.00          0.00  ...      2016-09-27   \n",
       "12211                     0.00          0.00  ...      2016-08-12   \n",
       "105574                    0.00          0.00  ...      2016-10-10   \n",
       "26647                     0.00          0.00  ...      2016-08-23   \n",
       "49010                   600.00          0.00  ...      2016-06-23   \n",
       "\n",
       "        TRANSACTION_AMT   OTHER_ID    CAND_ID      TRAN_ID  FILE_NUM  MEMO_CD  \\\n",
       "6127               2.00  P80001571  P80001571  VN7CZA43817   1104329      NaN   \n",
       "12211             27.00  P80001571  P80001571  VN7CZA29AW6   1104329      NaN   \n",
       "105574            12.00  P00003392  P00003392  VN7CZA4ZWF3   1144686      NaN   \n",
       "26647             34.00  P80001571  P80001571  VN7CZA2GGX3   1144686      NaN   \n",
       "49010          3,611.00  P00003392  P00003392    SE.505992   1089490      NaN   \n",
       "\n",
       "        MEMO_TEXT               SUB_ID                CAND_NAME  \n",
       "6127          NaN  4101320161340954335         TRUMP, DONALD J.  \n",
       "12211         NaN  4101320161340912476         TRUMP, DONALD J.  \n",
       "105574        NaN  4020920171370124094  CLINTON, HILLARY RODHAM  \n",
       "26647         NaN  4020920171370071086         TRUMP, DONALD J.  \n",
       "49010         NaN  4080320161307866177  CLINTON, HILLARY RODHAM  \n",
       "\n",
       "[5 rows x 49 columns]"
      ]
     },
     "execution_count": 16,
     "metadata": {},
     "output_type": "execute_result"
    }
   ],
   "source": [
    "superpacs_cands = superpacs_cands.loc[superpacs_cands['CAND_NAME'].isin(['TRUMP, DONALD J.', 'CLINTON, HILLARY RODHAM'])]\n",
    "print(superpacs_cands.shape)\n",
    "superpacs_cands.sample(5)"
   ]
  },
  {
   "cell_type": "markdown",
   "metadata": {},
   "source": [
    "* We have got to a point that we can almost see what we are looking for, but before we continue, now could be a good moment to decide which columns are related to what we are looking for. It is not necessary that we do it, it will just give us a better perspective about the information available to us.\n",
    "* After doing some research, I found that super PACs' economics are presented by 'Independent expenditures' (definition : https://www.fec.gov/help-candidates-and-committees/making-independent-expenditures/) and 'Total raised' money   (https://www.opensecrets.org/pacs/superpacs.php?cycle=2016).\n",
    "* Also, we need all the transaction types categorized as '24E', in order to see the independent expenditures that were made supporting the election of a candidate and all the types categorized as 24A that were made opposing the election of a candidate. You can find the definitions of all the transaction types here https://www.fec.gov/campaign-finance-data/transaction-type-code-descriptions/.\n",
    "* So, we will restrict our attention to these columns."
   ]
  },
  {
   "cell_type": "code",
   "execution_count": 17,
   "metadata": {},
   "outputs": [
    {
     "name": "stdout",
     "output_type": "stream",
     "text": [
      "(111250, 10)\n"
     ]
    },
    {
     "data": {
      "text/html": [
       "<div>\n",
       "<style scoped>\n",
       "    .dataframe tbody tr th:only-of-type {\n",
       "        vertical-align: middle;\n",
       "    }\n",
       "\n",
       "    .dataframe tbody tr th {\n",
       "        vertical-align: top;\n",
       "    }\n",
       "\n",
       "    .dataframe thead th {\n",
       "        text-align: right;\n",
       "    }\n",
       "</style>\n",
       "<table border=\"1\" class=\"dataframe\">\n",
       "  <thead>\n",
       "    <tr style=\"text-align: right;\">\n",
       "      <th></th>\n",
       "      <th>CAND_NAME</th>\n",
       "      <th>CMTE_ID</th>\n",
       "      <th>CMTE_NM</th>\n",
       "      <th>CMTE_TP</th>\n",
       "      <th>ENTITY_TP</th>\n",
       "      <th>TRANSACTION_TP</th>\n",
       "      <th>TRANSACTION_AMT</th>\n",
       "      <th>TTL_RECEIPTS</th>\n",
       "      <th>IND_EXP</th>\n",
       "      <th>NAME</th>\n",
       "    </tr>\n",
       "  </thead>\n",
       "  <tbody>\n",
       "    <tr>\n",
       "      <th>34841</th>\n",
       "      <td>TRUMP, DONALD J.</td>\n",
       "      <td>C90011156</td>\n",
       "      <td>WORKING AMERICA</td>\n",
       "      <td>I</td>\n",
       "      <td>IND</td>\n",
       "      <td>24A</td>\n",
       "      <td>22.00</td>\n",
       "      <td>11,373,645.00</td>\n",
       "      <td>0.00</td>\n",
       "      <td>WHITE, MAXINE</td>\n",
       "    </tr>\n",
       "    <tr>\n",
       "      <th>75152</th>\n",
       "      <td>CLINTON, HILLARY RODHAM</td>\n",
       "      <td>C90011156</td>\n",
       "      <td>WORKING AMERICA</td>\n",
       "      <td>I</td>\n",
       "      <td>IND</td>\n",
       "      <td>24E</td>\n",
       "      <td>34.00</td>\n",
       "      <td>11,373,645.00</td>\n",
       "      <td>0.00</td>\n",
       "      <td>SPITZER, WHITNEY</td>\n",
       "    </tr>\n",
       "    <tr>\n",
       "      <th>78080</th>\n",
       "      <td>CLINTON, HILLARY RODHAM</td>\n",
       "      <td>C90011156</td>\n",
       "      <td>WORKING AMERICA</td>\n",
       "      <td>I</td>\n",
       "      <td>IND</td>\n",
       "      <td>24E</td>\n",
       "      <td>22.00</td>\n",
       "      <td>11,373,645.00</td>\n",
       "      <td>0.00</td>\n",
       "      <td>PARSON, KIARA</td>\n",
       "    </tr>\n",
       "    <tr>\n",
       "      <th>15984</th>\n",
       "      <td>TRUMP, DONALD J.</td>\n",
       "      <td>C90011156</td>\n",
       "      <td>WORKING AMERICA</td>\n",
       "      <td>I</td>\n",
       "      <td>IND</td>\n",
       "      <td>24A</td>\n",
       "      <td>34.00</td>\n",
       "      <td>11,373,645.00</td>\n",
       "      <td>0.00</td>\n",
       "      <td>SUGGS, KATIE</td>\n",
       "    </tr>\n",
       "    <tr>\n",
       "      <th>15770</th>\n",
       "      <td>TRUMP, DONALD J.</td>\n",
       "      <td>C90011156</td>\n",
       "      <td>WORKING AMERICA</td>\n",
       "      <td>I</td>\n",
       "      <td>IND</td>\n",
       "      <td>24A</td>\n",
       "      <td>34.00</td>\n",
       "      <td>11,373,645.00</td>\n",
       "      <td>0.00</td>\n",
       "      <td>BEALE, ZOE</td>\n",
       "    </tr>\n",
       "  </tbody>\n",
       "</table>\n",
       "</div>"
      ],
      "text/plain": [
       "                     CAND_NAME    CMTE_ID          CMTE_NM CMTE_TP ENTITY_TP  \\\n",
       "34841         TRUMP, DONALD J.  C90011156  WORKING AMERICA       I       IND   \n",
       "75152  CLINTON, HILLARY RODHAM  C90011156  WORKING AMERICA       I       IND   \n",
       "78080  CLINTON, HILLARY RODHAM  C90011156  WORKING AMERICA       I       IND   \n",
       "15984         TRUMP, DONALD J.  C90011156  WORKING AMERICA       I       IND   \n",
       "15770         TRUMP, DONALD J.  C90011156  WORKING AMERICA       I       IND   \n",
       "\n",
       "      TRANSACTION_TP  TRANSACTION_AMT  TTL_RECEIPTS  IND_EXP              NAME  \n",
       "34841            24A            22.00 11,373,645.00     0.00     WHITE, MAXINE  \n",
       "75152            24E            34.00 11,373,645.00     0.00  SPITZER, WHITNEY  \n",
       "78080            24E            22.00 11,373,645.00     0.00     PARSON, KIARA  \n",
       "15984            24A            34.00 11,373,645.00     0.00      SUGGS, KATIE  \n",
       "15770            24A            34.00 11,373,645.00     0.00        BEALE, ZOE  "
      ]
     },
     "execution_count": 17,
     "metadata": {},
     "output_type": "execute_result"
    }
   ],
   "source": [
    "superpacs_cands = superpacs_cands[[ 'CAND_NAME', 'CMTE_ID', 'CMTE_NM', 'CMTE_TP', 'ENTITY_TP', 'TRANSACTION_TP', \n",
    "                                   'TRANSACTION_AMT', 'TTL_RECEIPTS', 'IND_EXP', 'NAME']]\n",
    "print(superpacs_cands.shape)\n",
    "superpacs_cands.sample(5)"
   ]
  },
  {
   "cell_type": "code",
   "execution_count": 18,
   "metadata": {},
   "outputs": [
    {
     "name": "stdout",
     "output_type": "stream",
     "text": [
      "(109616, 10)\n"
     ]
    },
    {
     "data": {
      "text/html": [
       "<div>\n",
       "<style scoped>\n",
       "    .dataframe tbody tr th:only-of-type {\n",
       "        vertical-align: middle;\n",
       "    }\n",
       "\n",
       "    .dataframe tbody tr th {\n",
       "        vertical-align: top;\n",
       "    }\n",
       "\n",
       "    .dataframe thead th {\n",
       "        text-align: right;\n",
       "    }\n",
       "</style>\n",
       "<table border=\"1\" class=\"dataframe\">\n",
       "  <thead>\n",
       "    <tr style=\"text-align: right;\">\n",
       "      <th></th>\n",
       "      <th>CAND_NAME</th>\n",
       "      <th>CMTE_ID</th>\n",
       "      <th>CMTE_NM</th>\n",
       "      <th>CMTE_TP</th>\n",
       "      <th>ENTITY_TP</th>\n",
       "      <th>TRANSACTION_TP</th>\n",
       "      <th>TRANSACTION_AMT</th>\n",
       "      <th>TTL_RECEIPTS</th>\n",
       "      <th>IND_EXP</th>\n",
       "      <th>NAME</th>\n",
       "    </tr>\n",
       "  </thead>\n",
       "  <tbody>\n",
       "    <tr>\n",
       "      <th>31462</th>\n",
       "      <td>TRUMP, DONALD J.</td>\n",
       "      <td>C90011156</td>\n",
       "      <td>WORKING AMERICA</td>\n",
       "      <td>I</td>\n",
       "      <td>ORG</td>\n",
       "      <td>24A</td>\n",
       "      <td>3.00</td>\n",
       "      <td>11,373,645.00</td>\n",
       "      <td>0.00</td>\n",
       "      <td>7-ELEVEN</td>\n",
       "    </tr>\n",
       "    <tr>\n",
       "      <th>80297</th>\n",
       "      <td>CLINTON, HILLARY RODHAM</td>\n",
       "      <td>C90011156</td>\n",
       "      <td>WORKING AMERICA</td>\n",
       "      <td>I</td>\n",
       "      <td>IND</td>\n",
       "      <td>24E</td>\n",
       "      <td>34.00</td>\n",
       "      <td>11,373,645.00</td>\n",
       "      <td>0.00</td>\n",
       "      <td>COBB, JACQUECE</td>\n",
       "    </tr>\n",
       "    <tr>\n",
       "      <th>67147</th>\n",
       "      <td>CLINTON, HILLARY RODHAM</td>\n",
       "      <td>C90011156</td>\n",
       "      <td>WORKING AMERICA</td>\n",
       "      <td>I</td>\n",
       "      <td>ORG</td>\n",
       "      <td>24E</td>\n",
       "      <td>6.00</td>\n",
       "      <td>11,373,645.00</td>\n",
       "      <td>0.00</td>\n",
       "      <td>BUDGET-RALEIGH</td>\n",
       "    </tr>\n",
       "    <tr>\n",
       "      <th>29212</th>\n",
       "      <td>TRUMP, DONALD J.</td>\n",
       "      <td>C90011156</td>\n",
       "      <td>WORKING AMERICA</td>\n",
       "      <td>I</td>\n",
       "      <td>IND</td>\n",
       "      <td>24A</td>\n",
       "      <td>34.00</td>\n",
       "      <td>11,373,645.00</td>\n",
       "      <td>0.00</td>\n",
       "      <td>MAXWELL, JOHNNY</td>\n",
       "    </tr>\n",
       "    <tr>\n",
       "      <th>42068</th>\n",
       "      <td>TRUMP, DONALD J.</td>\n",
       "      <td>C90011156</td>\n",
       "      <td>WORKING AMERICA</td>\n",
       "      <td>I</td>\n",
       "      <td>IND</td>\n",
       "      <td>24A</td>\n",
       "      <td>10.00</td>\n",
       "      <td>11,373,645.00</td>\n",
       "      <td>0.00</td>\n",
       "      <td>BELL, KRISTINE</td>\n",
       "    </tr>\n",
       "  </tbody>\n",
       "</table>\n",
       "</div>"
      ],
      "text/plain": [
       "                     CAND_NAME    CMTE_ID          CMTE_NM CMTE_TP ENTITY_TP  \\\n",
       "31462         TRUMP, DONALD J.  C90011156  WORKING AMERICA       I       ORG   \n",
       "80297  CLINTON, HILLARY RODHAM  C90011156  WORKING AMERICA       I       IND   \n",
       "67147  CLINTON, HILLARY RODHAM  C90011156  WORKING AMERICA       I       ORG   \n",
       "29212         TRUMP, DONALD J.  C90011156  WORKING AMERICA       I       IND   \n",
       "42068         TRUMP, DONALD J.  C90011156  WORKING AMERICA       I       IND   \n",
       "\n",
       "      TRANSACTION_TP  TRANSACTION_AMT  TTL_RECEIPTS  IND_EXP             NAME  \n",
       "31462            24A             3.00 11,373,645.00     0.00         7-ELEVEN  \n",
       "80297            24E            34.00 11,373,645.00     0.00   COBB, JACQUECE  \n",
       "67147            24E             6.00 11,373,645.00     0.00   BUDGET-RALEIGH  \n",
       "29212            24A            34.00 11,373,645.00     0.00  MAXWELL, JOHNNY  \n",
       "42068            24A            10.00 11,373,645.00     0.00   BELL, KRISTINE  "
      ]
     },
     "execution_count": 18,
     "metadata": {},
     "output_type": "execute_result"
    }
   ],
   "source": [
    "superpacs_cands = superpacs_cands[superpacs_cands['TRANSACTION_TP'].isin(['24E', '24A'])]\n",
    "print(superpacs_cands.shape)\n",
    "superpacs_cands.sample(5)"
   ]
  },
  {
   "cell_type": "markdown",
   "metadata": {},
   "source": [
    "We also need to make sure that no refunds are included in our dataset."
   ]
  },
  {
   "cell_type": "code",
   "execution_count": 19,
   "metadata": {},
   "outputs": [
    {
     "data": {
      "text/plain": [
       "True     109258\n",
       "False       358\n",
       "Name: TRANSACTION_AMT, dtype: int64"
      ]
     },
     "execution_count": 19,
     "metadata": {},
     "output_type": "execute_result"
    }
   ],
   "source": [
    "(superpacs_cands['TRANSACTION_AMT'] > 0).value_counts()"
   ]
  },
  {
   "cell_type": "code",
   "execution_count": 20,
   "metadata": {},
   "outputs": [],
   "source": [
    "superpacs_cands = superpacs_cands[superpacs_cands['TRANSACTION_AMT'] > 0]"
   ]
  },
  {
   "cell_type": "markdown",
   "metadata": {},
   "source": [
    "Now, we are ready to create a dataset just for Hillary Clinton. This dataset will include all the 24E transactions in the name of Hillary Clinton and all the 24A transactions in the name of Donald Trump."
   ]
  },
  {
   "cell_type": "code",
   "execution_count": 21,
   "metadata": {
    "scrolled": true
   },
   "outputs": [
    {
     "name": "stdout",
     "output_type": "stream",
     "text": [
      "(64144, 10)\n"
     ]
    },
    {
     "data": {
      "text/html": [
       "<div>\n",
       "<style scoped>\n",
       "    .dataframe tbody tr th:only-of-type {\n",
       "        vertical-align: middle;\n",
       "    }\n",
       "\n",
       "    .dataframe tbody tr th {\n",
       "        vertical-align: top;\n",
       "    }\n",
       "\n",
       "    .dataframe thead th {\n",
       "        text-align: right;\n",
       "    }\n",
       "</style>\n",
       "<table border=\"1\" class=\"dataframe\">\n",
       "  <thead>\n",
       "    <tr style=\"text-align: right;\">\n",
       "      <th></th>\n",
       "      <th>CAND_NAME</th>\n",
       "      <th>CMTE_ID</th>\n",
       "      <th>CMTE_NM</th>\n",
       "      <th>CMTE_TP</th>\n",
       "      <th>ENTITY_TP</th>\n",
       "      <th>TRANSACTION_TP</th>\n",
       "      <th>TRANSACTION_AMT</th>\n",
       "      <th>TTL_RECEIPTS</th>\n",
       "      <th>IND_EXP</th>\n",
       "      <th>NAME</th>\n",
       "    </tr>\n",
       "  </thead>\n",
       "  <tbody>\n",
       "    <tr>\n",
       "      <th>79312</th>\n",
       "      <td>CLINTON, HILLARY RODHAM</td>\n",
       "      <td>C90011156</td>\n",
       "      <td>WORKING AMERICA</td>\n",
       "      <td>I</td>\n",
       "      <td>ORG</td>\n",
       "      <td>24E</td>\n",
       "      <td>12.00</td>\n",
       "      <td>11,373,645.00</td>\n",
       "      <td>0.00</td>\n",
       "      <td>BUDGET-CLEVELAND</td>\n",
       "    </tr>\n",
       "    <tr>\n",
       "      <th>101603</th>\n",
       "      <td>CLINTON, HILLARY RODHAM</td>\n",
       "      <td>C90011156</td>\n",
       "      <td>WORKING AMERICA</td>\n",
       "      <td>I</td>\n",
       "      <td>ORG</td>\n",
       "      <td>24E</td>\n",
       "      <td>13.00</td>\n",
       "      <td>11,373,645.00</td>\n",
       "      <td>0.00</td>\n",
       "      <td>BUDGET-CLEVELAND</td>\n",
       "    </tr>\n",
       "    <tr>\n",
       "      <th>109380</th>\n",
       "      <td>CLINTON, HILLARY RODHAM</td>\n",
       "      <td>C90011156</td>\n",
       "      <td>WORKING AMERICA</td>\n",
       "      <td>I</td>\n",
       "      <td>IND</td>\n",
       "      <td>24E</td>\n",
       "      <td>34.00</td>\n",
       "      <td>11,373,645.00</td>\n",
       "      <td>0.00</td>\n",
       "      <td>WALKER, DARNELL</td>\n",
       "    </tr>\n",
       "    <tr>\n",
       "      <th>46872</th>\n",
       "      <td>CLINTON, HILLARY RODHAM</td>\n",
       "      <td>C00135368</td>\n",
       "      <td>SIERRA CLUB POLITICAL COMMITTEE</td>\n",
       "      <td>Q</td>\n",
       "      <td>IND</td>\n",
       "      <td>24E</td>\n",
       "      <td>725.00</td>\n",
       "      <td>1,264,728.54</td>\n",
       "      <td>463,486.44</td>\n",
       "      <td>BEITMAN, ADAM</td>\n",
       "    </tr>\n",
       "    <tr>\n",
       "      <th>89222</th>\n",
       "      <td>CLINTON, HILLARY RODHAM</td>\n",
       "      <td>C90011156</td>\n",
       "      <td>WORKING AMERICA</td>\n",
       "      <td>I</td>\n",
       "      <td>IND</td>\n",
       "      <td>24E</td>\n",
       "      <td>22.00</td>\n",
       "      <td>11,373,645.00</td>\n",
       "      <td>0.00</td>\n",
       "      <td>JONES, MELISSA</td>\n",
       "    </tr>\n",
       "  </tbody>\n",
       "</table>\n",
       "</div>"
      ],
      "text/plain": [
       "                      CAND_NAME    CMTE_ID                          CMTE_NM  \\\n",
       "79312   CLINTON, HILLARY RODHAM  C90011156                  WORKING AMERICA   \n",
       "101603  CLINTON, HILLARY RODHAM  C90011156                  WORKING AMERICA   \n",
       "109380  CLINTON, HILLARY RODHAM  C90011156                  WORKING AMERICA   \n",
       "46872   CLINTON, HILLARY RODHAM  C00135368  SIERRA CLUB POLITICAL COMMITTEE   \n",
       "89222   CLINTON, HILLARY RODHAM  C90011156                  WORKING AMERICA   \n",
       "\n",
       "       CMTE_TP ENTITY_TP TRANSACTION_TP  TRANSACTION_AMT  TTL_RECEIPTS  \\\n",
       "79312        I       ORG            24E            12.00 11,373,645.00   \n",
       "101603       I       ORG            24E            13.00 11,373,645.00   \n",
       "109380       I       IND            24E            34.00 11,373,645.00   \n",
       "46872        Q       IND            24E           725.00  1,264,728.54   \n",
       "89222        I       IND            24E            22.00 11,373,645.00   \n",
       "\n",
       "          IND_EXP              NAME  \n",
       "79312        0.00  BUDGET-CLEVELAND  \n",
       "101603       0.00  BUDGET-CLEVELAND  \n",
       "109380       0.00   WALKER, DARNELL  \n",
       "46872  463,486.44     BEITMAN, ADAM  \n",
       "89222        0.00    JONES, MELISSA  "
      ]
     },
     "execution_count": 21,
     "metadata": {},
     "output_type": "execute_result"
    }
   ],
   "source": [
    "for_clinton = superpacs_cands.loc[superpacs_cands['CAND_NAME'].isin(['CLINTON, HILLARY RODHAM'])].copy()\n",
    "print(for_clinton.shape)\n",
    "for_clinton.sample(5)"
   ]
  },
  {
   "cell_type": "code",
   "execution_count": 22,
   "metadata": {},
   "outputs": [],
   "source": [
    "for_clinton = for_clinton.loc[for_clinton['TRANSACTION_TP'].isin(['24E'])]"
   ]
  },
  {
   "cell_type": "code",
   "execution_count": 23,
   "metadata": {},
   "outputs": [
    {
     "name": "stdout",
     "output_type": "stream",
     "text": [
      "(45114, 10)\n"
     ]
    },
    {
     "data": {
      "text/html": [
       "<div>\n",
       "<style scoped>\n",
       "    .dataframe tbody tr th:only-of-type {\n",
       "        vertical-align: middle;\n",
       "    }\n",
       "\n",
       "    .dataframe tbody tr th {\n",
       "        vertical-align: top;\n",
       "    }\n",
       "\n",
       "    .dataframe thead th {\n",
       "        text-align: right;\n",
       "    }\n",
       "</style>\n",
       "<table border=\"1\" class=\"dataframe\">\n",
       "  <thead>\n",
       "    <tr style=\"text-align: right;\">\n",
       "      <th></th>\n",
       "      <th>CAND_NAME</th>\n",
       "      <th>CMTE_ID</th>\n",
       "      <th>CMTE_NM</th>\n",
       "      <th>CMTE_TP</th>\n",
       "      <th>ENTITY_TP</th>\n",
       "      <th>TRANSACTION_TP</th>\n",
       "      <th>TRANSACTION_AMT</th>\n",
       "      <th>TTL_RECEIPTS</th>\n",
       "      <th>IND_EXP</th>\n",
       "      <th>NAME</th>\n",
       "    </tr>\n",
       "  </thead>\n",
       "  <tbody>\n",
       "    <tr>\n",
       "      <th>25806</th>\n",
       "      <td>TRUMP, DONALD J.</td>\n",
       "      <td>C90011156</td>\n",
       "      <td>WORKING AMERICA</td>\n",
       "      <td>I</td>\n",
       "      <td>IND</td>\n",
       "      <td>24A</td>\n",
       "      <td>34.00</td>\n",
       "      <td>11,373,645.00</td>\n",
       "      <td>0.00</td>\n",
       "      <td>LYLES, BENNY</td>\n",
       "    </tr>\n",
       "    <tr>\n",
       "      <th>32540</th>\n",
       "      <td>TRUMP, DONALD J.</td>\n",
       "      <td>C90011156</td>\n",
       "      <td>WORKING AMERICA</td>\n",
       "      <td>I</td>\n",
       "      <td>IND</td>\n",
       "      <td>24A</td>\n",
       "      <td>38.00</td>\n",
       "      <td>11,373,645.00</td>\n",
       "      <td>0.00</td>\n",
       "      <td>KOLSCHMIDT, JOSHUA</td>\n",
       "    </tr>\n",
       "    <tr>\n",
       "      <th>11326</th>\n",
       "      <td>TRUMP, DONALD J.</td>\n",
       "      <td>C90011156</td>\n",
       "      <td>WORKING AMERICA</td>\n",
       "      <td>I</td>\n",
       "      <td>IND</td>\n",
       "      <td>24A</td>\n",
       "      <td>22.00</td>\n",
       "      <td>11,373,645.00</td>\n",
       "      <td>0.00</td>\n",
       "      <td>EDWARDS, SEQUOI</td>\n",
       "    </tr>\n",
       "    <tr>\n",
       "      <th>892</th>\n",
       "      <td>TRUMP, DONALD J.</td>\n",
       "      <td>C00484642</td>\n",
       "      <td>SENATE MAJORITY PAC</td>\n",
       "      <td>O</td>\n",
       "      <td>ORG</td>\n",
       "      <td>24A</td>\n",
       "      <td>117,619.00</td>\n",
       "      <td>92,821,080.67</td>\n",
       "      <td>75,413,534.87</td>\n",
       "      <td>WATERFRONT STRATEGIES</td>\n",
       "    </tr>\n",
       "    <tr>\n",
       "      <th>44470</th>\n",
       "      <td>TRUMP, DONALD J.</td>\n",
       "      <td>C90016379</td>\n",
       "      <td>OHIO ENVIRONMENTAL COUNCIL ACTION FUND INC.</td>\n",
       "      <td>I</td>\n",
       "      <td>IND</td>\n",
       "      <td>24A</td>\n",
       "      <td>90.00</td>\n",
       "      <td>251,908.00</td>\n",
       "      <td>0.00</td>\n",
       "      <td>WALKER, VANISHA</td>\n",
       "    </tr>\n",
       "  </tbody>\n",
       "</table>\n",
       "</div>"
      ],
      "text/plain": [
       "              CAND_NAME    CMTE_ID  \\\n",
       "25806  TRUMP, DONALD J.  C90011156   \n",
       "32540  TRUMP, DONALD J.  C90011156   \n",
       "11326  TRUMP, DONALD J.  C90011156   \n",
       "892    TRUMP, DONALD J.  C00484642   \n",
       "44470  TRUMP, DONALD J.  C90016379   \n",
       "\n",
       "                                           CMTE_NM CMTE_TP ENTITY_TP  \\\n",
       "25806                              WORKING AMERICA       I       IND   \n",
       "32540                              WORKING AMERICA       I       IND   \n",
       "11326                              WORKING AMERICA       I       IND   \n",
       "892                            SENATE MAJORITY PAC       O       ORG   \n",
       "44470  OHIO ENVIRONMENTAL COUNCIL ACTION FUND INC.       I       IND   \n",
       "\n",
       "      TRANSACTION_TP  TRANSACTION_AMT  TTL_RECEIPTS       IND_EXP  \\\n",
       "25806            24A            34.00 11,373,645.00          0.00   \n",
       "32540            24A            38.00 11,373,645.00          0.00   \n",
       "11326            24A            22.00 11,373,645.00          0.00   \n",
       "892              24A       117,619.00 92,821,080.67 75,413,534.87   \n",
       "44470            24A            90.00    251,908.00          0.00   \n",
       "\n",
       "                        NAME  \n",
       "25806           LYLES, BENNY  \n",
       "32540     KOLSCHMIDT, JOSHUA  \n",
       "11326        EDWARDS, SEQUOI  \n",
       "892    WATERFRONT STRATEGIES  \n",
       "44470        WALKER, VANISHA  "
      ]
     },
     "execution_count": 23,
     "metadata": {},
     "output_type": "execute_result"
    }
   ],
   "source": [
    "to_clinton = superpacs_cands.loc[superpacs_cands['CAND_NAME'].isin(['TRUMP, DONALD J.'])].copy()\n",
    "print(to_clinton.shape)\n",
    "to_clinton.sample(5)"
   ]
  },
  {
   "cell_type": "code",
   "execution_count": 24,
   "metadata": {
    "scrolled": false
   },
   "outputs": [],
   "source": [
    "to_clinton = to_clinton.loc[to_clinton['TRANSACTION_TP'].isin(['24A'])]"
   ]
  },
  {
   "cell_type": "code",
   "execution_count": 25,
   "metadata": {},
   "outputs": [
    {
     "name": "stdout",
     "output_type": "stream",
     "text": [
      "(43823, 7)\n"
     ]
    },
    {
     "data": {
      "text/html": [
       "<div>\n",
       "<style scoped>\n",
       "    .dataframe tbody tr th:only-of-type {\n",
       "        vertical-align: middle;\n",
       "    }\n",
       "\n",
       "    .dataframe tbody tr th {\n",
       "        vertical-align: top;\n",
       "    }\n",
       "\n",
       "    .dataframe thead th {\n",
       "        text-align: right;\n",
       "    }\n",
       "</style>\n",
       "<table border=\"1\" class=\"dataframe\">\n",
       "  <thead>\n",
       "    <tr style=\"text-align: right;\">\n",
       "      <th></th>\n",
       "      <th>CAND_NAME</th>\n",
       "      <th>CMTE_NM</th>\n",
       "      <th>TRANSACTION_TP</th>\n",
       "      <th>TRANSACTION_AMT</th>\n",
       "      <th>TTL_RECEIPTS</th>\n",
       "      <th>IND_EXP</th>\n",
       "      <th>NAME</th>\n",
       "    </tr>\n",
       "  </thead>\n",
       "  <tbody>\n",
       "    <tr>\n",
       "      <th>16246</th>\n",
       "      <td>TRUMP, DONALD J.</td>\n",
       "      <td>WORKING AMERICA</td>\n",
       "      <td>24A</td>\n",
       "      <td>9.00</td>\n",
       "      <td>11,373,645.00</td>\n",
       "      <td>0.00</td>\n",
       "      <td>SUNOCO</td>\n",
       "    </tr>\n",
       "  </tbody>\n",
       "</table>\n",
       "</div>"
      ],
      "text/plain": [
       "              CAND_NAME          CMTE_NM TRANSACTION_TP  TRANSACTION_AMT  \\\n",
       "16246  TRUMP, DONALD J.  WORKING AMERICA            24A             9.00   \n",
       "\n",
       "       TTL_RECEIPTS  IND_EXP    NAME  \n",
       "16246 11,373,645.00     0.00  SUNOCO  "
      ]
     },
     "execution_count": 25,
     "metadata": {},
     "output_type": "execute_result"
    }
   ],
   "source": [
    "to_clinton = to_clinton[['CAND_NAME', 'CMTE_NM', 'TRANSACTION_TP', 'TRANSACTION_AMT', 'TTL_RECEIPTS', 'IND_EXP', 'NAME']]\n",
    "print(to_clinton.shape)\n",
    "to_clinton.sample()"
   ]
  },
  {
   "cell_type": "code",
   "execution_count": 26,
   "metadata": {},
   "outputs": [
    {
     "name": "stdout",
     "output_type": "stream",
     "text": [
      "(102574, 10)\n"
     ]
    },
    {
     "data": {
      "text/html": [
       "<div>\n",
       "<style scoped>\n",
       "    .dataframe tbody tr th:only-of-type {\n",
       "        vertical-align: middle;\n",
       "    }\n",
       "\n",
       "    .dataframe tbody tr th {\n",
       "        vertical-align: top;\n",
       "    }\n",
       "\n",
       "    .dataframe thead th {\n",
       "        text-align: right;\n",
       "    }\n",
       "</style>\n",
       "<table border=\"1\" class=\"dataframe\">\n",
       "  <thead>\n",
       "    <tr style=\"text-align: right;\">\n",
       "      <th></th>\n",
       "      <th>CAND_NAME</th>\n",
       "      <th>CMTE_ID</th>\n",
       "      <th>CMTE_NM</th>\n",
       "      <th>CMTE_TP</th>\n",
       "      <th>ENTITY_TP</th>\n",
       "      <th>TRANSACTION_TP</th>\n",
       "      <th>TRANSACTION_AMT</th>\n",
       "      <th>TTL_RECEIPTS</th>\n",
       "      <th>IND_EXP</th>\n",
       "      <th>NAME</th>\n",
       "    </tr>\n",
       "  </thead>\n",
       "  <tbody>\n",
       "    <tr>\n",
       "      <th>45726</th>\n",
       "      <td>CLINTON, HILLARY RODHAM</td>\n",
       "      <td>C00002089</td>\n",
       "      <td>COMMUNICATIONS WORKERS OF AMERICA-COPE POLITIC...</td>\n",
       "      <td>Q</td>\n",
       "      <td>ORG</td>\n",
       "      <td>24E</td>\n",
       "      <td>150.00</td>\n",
       "      <td>7,930,523.68</td>\n",
       "      <td>150.00</td>\n",
       "      <td>OFFBEAT PRESS</td>\n",
       "    </tr>\n",
       "    <tr>\n",
       "      <th>45729</th>\n",
       "      <td>CLINTON, HILLARY RODHAM</td>\n",
       "      <td>C00002766</td>\n",
       "      <td>UNITED FOOD AND COMMERCIAL WORKERS INTERNATION...</td>\n",
       "      <td>Q</td>\n",
       "      <td>NaN</td>\n",
       "      <td>24E</td>\n",
       "      <td>746.00</td>\n",
       "      <td>12,747,221.51</td>\n",
       "      <td>180,480.13</td>\n",
       "      <td>JOE TRIPPI AND ASSOCIATES INC.</td>\n",
       "    </tr>\n",
       "    <tr>\n",
       "      <th>45730</th>\n",
       "      <td>CLINTON, HILLARY RODHAM</td>\n",
       "      <td>C00002766</td>\n",
       "      <td>UNITED FOOD AND COMMERCIAL WORKERS INTERNATION...</td>\n",
       "      <td>Q</td>\n",
       "      <td>NaN</td>\n",
       "      <td>24E</td>\n",
       "      <td>1,702.00</td>\n",
       "      <td>12,747,221.51</td>\n",
       "      <td>180,480.13</td>\n",
       "      <td>JOE TRIPPI AND ASSOCIATES INC.</td>\n",
       "    </tr>\n",
       "    <tr>\n",
       "      <th>45731</th>\n",
       "      <td>CLINTON, HILLARY RODHAM</td>\n",
       "      <td>C00002766</td>\n",
       "      <td>UNITED FOOD AND COMMERCIAL WORKERS INTERNATION...</td>\n",
       "      <td>Q</td>\n",
       "      <td>NaN</td>\n",
       "      <td>24E</td>\n",
       "      <td>6,041.00</td>\n",
       "      <td>12,747,221.51</td>\n",
       "      <td>180,480.13</td>\n",
       "      <td>JOE TRIPPI AND ASSOCIATES INC.</td>\n",
       "    </tr>\n",
       "    <tr>\n",
       "      <th>45732</th>\n",
       "      <td>CLINTON, HILLARY RODHAM</td>\n",
       "      <td>C00002766</td>\n",
       "      <td>UNITED FOOD AND COMMERCIAL WORKERS INTERNATION...</td>\n",
       "      <td>Q</td>\n",
       "      <td>NaN</td>\n",
       "      <td>24E</td>\n",
       "      <td>124,686.00</td>\n",
       "      <td>12,747,221.51</td>\n",
       "      <td>180,480.13</td>\n",
       "      <td>JOE TRIPPI AND ASSOCIATES INC.</td>\n",
       "    </tr>\n",
       "  </tbody>\n",
       "</table>\n",
       "</div>"
      ],
      "text/plain": [
       "                     CAND_NAME    CMTE_ID  \\\n",
       "45726  CLINTON, HILLARY RODHAM  C00002089   \n",
       "45729  CLINTON, HILLARY RODHAM  C00002766   \n",
       "45730  CLINTON, HILLARY RODHAM  C00002766   \n",
       "45731  CLINTON, HILLARY RODHAM  C00002766   \n",
       "45732  CLINTON, HILLARY RODHAM  C00002766   \n",
       "\n",
       "                                                 CMTE_NM CMTE_TP ENTITY_TP  \\\n",
       "45726  COMMUNICATIONS WORKERS OF AMERICA-COPE POLITIC...       Q       ORG   \n",
       "45729  UNITED FOOD AND COMMERCIAL WORKERS INTERNATION...       Q       NaN   \n",
       "45730  UNITED FOOD AND COMMERCIAL WORKERS INTERNATION...       Q       NaN   \n",
       "45731  UNITED FOOD AND COMMERCIAL WORKERS INTERNATION...       Q       NaN   \n",
       "45732  UNITED FOOD AND COMMERCIAL WORKERS INTERNATION...       Q       NaN   \n",
       "\n",
       "      TRANSACTION_TP  TRANSACTION_AMT  TTL_RECEIPTS    IND_EXP  \\\n",
       "45726            24E           150.00  7,930,523.68     150.00   \n",
       "45729            24E           746.00 12,747,221.51 180,480.13   \n",
       "45730            24E         1,702.00 12,747,221.51 180,480.13   \n",
       "45731            24E         6,041.00 12,747,221.51 180,480.13   \n",
       "45732            24E       124,686.00 12,747,221.51 180,480.13   \n",
       "\n",
       "                                 NAME  \n",
       "45726                   OFFBEAT PRESS  \n",
       "45729  JOE TRIPPI AND ASSOCIATES INC.  \n",
       "45730  JOE TRIPPI AND ASSOCIATES INC.  \n",
       "45731  JOE TRIPPI AND ASSOCIATES INC.  \n",
       "45732  JOE TRIPPI AND ASSOCIATES INC.  "
      ]
     },
     "execution_count": 26,
     "metadata": {},
     "output_type": "execute_result"
    }
   ],
   "source": [
    "team_clinton = pd.concat([for_clinton, to_clinton])\n",
    "print(team_clinton.shape)\n",
    "team_clinton.head()"
   ]
  },
  {
   "cell_type": "markdown",
   "metadata": {},
   "source": [
    "Since we only adress superPACs, we will restrict our dataset to them."
   ]
  },
  {
   "cell_type": "code",
   "execution_count": 27,
   "metadata": {},
   "outputs": [
    {
     "data": {
      "text/html": [
       "<div>\n",
       "<style scoped>\n",
       "    .dataframe tbody tr th:only-of-type {\n",
       "        vertical-align: middle;\n",
       "    }\n",
       "\n",
       "    .dataframe tbody tr th {\n",
       "        vertical-align: top;\n",
       "    }\n",
       "\n",
       "    .dataframe thead th {\n",
       "        text-align: right;\n",
       "    }\n",
       "</style>\n",
       "<table border=\"1\" class=\"dataframe\">\n",
       "  <thead>\n",
       "    <tr style=\"text-align: right;\">\n",
       "      <th></th>\n",
       "      <th>CAND_NAME</th>\n",
       "      <th>CMTE_ID</th>\n",
       "      <th>CMTE_NM</th>\n",
       "      <th>CMTE_TP</th>\n",
       "      <th>ENTITY_TP</th>\n",
       "      <th>TRANSACTION_TP</th>\n",
       "      <th>TRANSACTION_AMT</th>\n",
       "      <th>TTL_RECEIPTS</th>\n",
       "      <th>IND_EXP</th>\n",
       "      <th>NAME</th>\n",
       "    </tr>\n",
       "  </thead>\n",
       "  <tbody>\n",
       "    <tr>\n",
       "      <th>111001</th>\n",
       "      <td>CLINTON, HILLARY RODHAM</td>\n",
       "      <td>C00489799</td>\n",
       "      <td>PLANNED PARENTHOOD VOTES</td>\n",
       "      <td>O</td>\n",
       "      <td>ORG</td>\n",
       "      <td>24E</td>\n",
       "      <td>5,941.00</td>\n",
       "      <td>22,266,898.24</td>\n",
       "      <td>12,628,454.91</td>\n",
       "      <td>PLANNED PARENTHOOD ADVOCATES OF OHIO</td>\n",
       "    </tr>\n",
       "    <tr>\n",
       "      <th>53543</th>\n",
       "      <td>CLINTON, HILLARY RODHAM</td>\n",
       "      <td>C00620971</td>\n",
       "      <td>FOR OUR FUTURE</td>\n",
       "      <td>O</td>\n",
       "      <td>ORG</td>\n",
       "      <td>24E</td>\n",
       "      <td>2,772.00</td>\n",
       "      <td>48,947,569.67</td>\n",
       "      <td>9,802,204.55</td>\n",
       "      <td>EXTRA EXTRAS, INC.</td>\n",
       "    </tr>\n",
       "    <tr>\n",
       "      <th>53260</th>\n",
       "      <td>CLINTON, HILLARY RODHAM</td>\n",
       "      <td>C00620583</td>\n",
       "      <td>WORKING AMERICA COALITION</td>\n",
       "      <td>O</td>\n",
       "      <td>ORG</td>\n",
       "      <td>24E</td>\n",
       "      <td>30.00</td>\n",
       "      <td>16,730,513.10</td>\n",
       "      <td>934,417.99</td>\n",
       "      <td>MOSAIC</td>\n",
       "    </tr>\n",
       "    <tr>\n",
       "      <th>47511</th>\n",
       "      <td>CLINTON, HILLARY RODHAM</td>\n",
       "      <td>C00489252</td>\n",
       "      <td>NEW POWER PAC</td>\n",
       "      <td>O</td>\n",
       "      <td>ORG</td>\n",
       "      <td>24E</td>\n",
       "      <td>27.00</td>\n",
       "      <td>97,971.84</td>\n",
       "      <td>44,042.07</td>\n",
       "      <td>KENTUCKIANS FOR THE COMMONWEALTH</td>\n",
       "    </tr>\n",
       "    <tr>\n",
       "      <th>53351</th>\n",
       "      <td>CLINTON, HILLARY RODHAM</td>\n",
       "      <td>C00620583</td>\n",
       "      <td>WORKING AMERICA COALITION</td>\n",
       "      <td>O</td>\n",
       "      <td>ORG</td>\n",
       "      <td>24E</td>\n",
       "      <td>15.00</td>\n",
       "      <td>16,730,513.10</td>\n",
       "      <td>934,417.99</td>\n",
       "      <td>MOSAIC</td>\n",
       "    </tr>\n",
       "  </tbody>\n",
       "</table>\n",
       "</div>"
      ],
      "text/plain": [
       "                      CAND_NAME    CMTE_ID                    CMTE_NM CMTE_TP  \\\n",
       "111001  CLINTON, HILLARY RODHAM  C00489799   PLANNED PARENTHOOD VOTES       O   \n",
       "53543   CLINTON, HILLARY RODHAM  C00620971             FOR OUR FUTURE       O   \n",
       "53260   CLINTON, HILLARY RODHAM  C00620583  WORKING AMERICA COALITION       O   \n",
       "47511   CLINTON, HILLARY RODHAM  C00489252              NEW POWER PAC       O   \n",
       "53351   CLINTON, HILLARY RODHAM  C00620583  WORKING AMERICA COALITION       O   \n",
       "\n",
       "       ENTITY_TP TRANSACTION_TP  TRANSACTION_AMT  TTL_RECEIPTS       IND_EXP  \\\n",
       "111001       ORG            24E         5,941.00 22,266,898.24 12,628,454.91   \n",
       "53543        ORG            24E         2,772.00 48,947,569.67  9,802,204.55   \n",
       "53260        ORG            24E            30.00 16,730,513.10    934,417.99   \n",
       "47511        ORG            24E            27.00     97,971.84     44,042.07   \n",
       "53351        ORG            24E            15.00 16,730,513.10    934,417.99   \n",
       "\n",
       "                                        NAME  \n",
       "111001  PLANNED PARENTHOOD ADVOCATES OF OHIO  \n",
       "53543                     EXTRA EXTRAS, INC.  \n",
       "53260                                 MOSAIC  \n",
       "47511       KENTUCKIANS FOR THE COMMONWEALTH  \n",
       "53351                                 MOSAIC  "
      ]
     },
     "execution_count": 27,
     "metadata": {},
     "output_type": "execute_result"
    }
   ],
   "source": [
    "team_clinton_o = team_clinton.loc[team_clinton['CMTE_TP'].isin(['O'])].copy()\n",
    "team_clinton_o.sample(5)"
   ]
  },
  {
   "cell_type": "code",
   "execution_count": 28,
   "metadata": {},
   "outputs": [],
   "source": [
    "occ_mapping = {\n",
    "    'TRUMP, DONALD J.': 'CLINTON, HILLARY RODHAM'\n",
    "}\n",
    "\n",
    "f = lambda x: occ_mapping.get(x, x) \n",
    "team_clinton_o.loc[:, 'CAND_NAME'] = team_clinton_o.loc[:, 'CAND_NAME'].map(f)"
   ]
  },
  {
   "cell_type": "markdown",
   "metadata": {},
   "source": [
    "We will also do the same for Donald Trump."
   ]
  },
  {
   "cell_type": "code",
   "execution_count": 29,
   "metadata": {},
   "outputs": [
    {
     "name": "stdout",
     "output_type": "stream",
     "text": [
      "(45114, 10)\n"
     ]
    },
    {
     "data": {
      "text/html": [
       "<div>\n",
       "<style scoped>\n",
       "    .dataframe tbody tr th:only-of-type {\n",
       "        vertical-align: middle;\n",
       "    }\n",
       "\n",
       "    .dataframe tbody tr th {\n",
       "        vertical-align: top;\n",
       "    }\n",
       "\n",
       "    .dataframe thead th {\n",
       "        text-align: right;\n",
       "    }\n",
       "</style>\n",
       "<table border=\"1\" class=\"dataframe\">\n",
       "  <thead>\n",
       "    <tr style=\"text-align: right;\">\n",
       "      <th></th>\n",
       "      <th>CAND_NAME</th>\n",
       "      <th>CMTE_ID</th>\n",
       "      <th>CMTE_NM</th>\n",
       "      <th>CMTE_TP</th>\n",
       "      <th>ENTITY_TP</th>\n",
       "      <th>TRANSACTION_TP</th>\n",
       "      <th>TRANSACTION_AMT</th>\n",
       "      <th>TTL_RECEIPTS</th>\n",
       "      <th>IND_EXP</th>\n",
       "      <th>NAME</th>\n",
       "    </tr>\n",
       "  </thead>\n",
       "  <tbody>\n",
       "    <tr>\n",
       "      <th>19812</th>\n",
       "      <td>TRUMP, DONALD J.</td>\n",
       "      <td>C90011156</td>\n",
       "      <td>WORKING AMERICA</td>\n",
       "      <td>I</td>\n",
       "      <td>ORG</td>\n",
       "      <td>24A</td>\n",
       "      <td>9.00</td>\n",
       "      <td>11,373,645.00</td>\n",
       "      <td>0.00</td>\n",
       "      <td>BUDGET-GREENSBORO</td>\n",
       "    </tr>\n",
       "    <tr>\n",
       "      <th>14709</th>\n",
       "      <td>TRUMP, DONALD J.</td>\n",
       "      <td>C90011156</td>\n",
       "      <td>WORKING AMERICA</td>\n",
       "      <td>I</td>\n",
       "      <td>IND</td>\n",
       "      <td>24A</td>\n",
       "      <td>49.00</td>\n",
       "      <td>11,373,645.00</td>\n",
       "      <td>0.00</td>\n",
       "      <td>PALMER, RICHARD</td>\n",
       "    </tr>\n",
       "    <tr>\n",
       "      <th>33484</th>\n",
       "      <td>TRUMP, DONALD J.</td>\n",
       "      <td>C90011156</td>\n",
       "      <td>WORKING AMERICA</td>\n",
       "      <td>I</td>\n",
       "      <td>IND</td>\n",
       "      <td>24A</td>\n",
       "      <td>3.00</td>\n",
       "      <td>11,373,645.00</td>\n",
       "      <td>0.00</td>\n",
       "      <td>ACOSTA, PEDRO</td>\n",
       "    </tr>\n",
       "    <tr>\n",
       "      <th>6319</th>\n",
       "      <td>TRUMP, DONALD J.</td>\n",
       "      <td>C90011156</td>\n",
       "      <td>WORKING AMERICA</td>\n",
       "      <td>I</td>\n",
       "      <td>IND</td>\n",
       "      <td>24A</td>\n",
       "      <td>34.00</td>\n",
       "      <td>11,373,645.00</td>\n",
       "      <td>0.00</td>\n",
       "      <td>RUSSELL, LEILA</td>\n",
       "    </tr>\n",
       "    <tr>\n",
       "      <th>15293</th>\n",
       "      <td>TRUMP, DONALD J.</td>\n",
       "      <td>C90011156</td>\n",
       "      <td>WORKING AMERICA</td>\n",
       "      <td>I</td>\n",
       "      <td>IND</td>\n",
       "      <td>24A</td>\n",
       "      <td>34.00</td>\n",
       "      <td>11,373,645.00</td>\n",
       "      <td>0.00</td>\n",
       "      <td>STEELE, KRISTY</td>\n",
       "    </tr>\n",
       "  </tbody>\n",
       "</table>\n",
       "</div>"
      ],
      "text/plain": [
       "              CAND_NAME    CMTE_ID          CMTE_NM CMTE_TP ENTITY_TP  \\\n",
       "19812  TRUMP, DONALD J.  C90011156  WORKING AMERICA       I       ORG   \n",
       "14709  TRUMP, DONALD J.  C90011156  WORKING AMERICA       I       IND   \n",
       "33484  TRUMP, DONALD J.  C90011156  WORKING AMERICA       I       IND   \n",
       "6319   TRUMP, DONALD J.  C90011156  WORKING AMERICA       I       IND   \n",
       "15293  TRUMP, DONALD J.  C90011156  WORKING AMERICA       I       IND   \n",
       "\n",
       "      TRANSACTION_TP  TRANSACTION_AMT  TTL_RECEIPTS  IND_EXP  \\\n",
       "19812            24A             9.00 11,373,645.00     0.00   \n",
       "14709            24A            49.00 11,373,645.00     0.00   \n",
       "33484            24A             3.00 11,373,645.00     0.00   \n",
       "6319             24A            34.00 11,373,645.00     0.00   \n",
       "15293            24A            34.00 11,373,645.00     0.00   \n",
       "\n",
       "                    NAME  \n",
       "19812  BUDGET-GREENSBORO  \n",
       "14709    PALMER, RICHARD  \n",
       "33484      ACOSTA, PEDRO  \n",
       "6319      RUSSELL, LEILA  \n",
       "15293     STEELE, KRISTY  "
      ]
     },
     "execution_count": 29,
     "metadata": {},
     "output_type": "execute_result"
    }
   ],
   "source": [
    "for_trump = superpacs_cands.loc[superpacs_cands['CAND_NAME'].isin(['TRUMP, DONALD J.'])].copy()\n",
    "print(for_trump.shape)\n",
    "for_trump.sample(5)"
   ]
  },
  {
   "cell_type": "code",
   "execution_count": 30,
   "metadata": {},
   "outputs": [],
   "source": [
    "for_trump = for_trump.loc[for_trump['TRANSACTION_TP'].isin(['24E'])]"
   ]
  },
  {
   "cell_type": "code",
   "execution_count": 31,
   "metadata": {},
   "outputs": [
    {
     "name": "stdout",
     "output_type": "stream",
     "text": [
      "(1291, 9)\n"
     ]
    },
    {
     "data": {
      "text/html": [
       "<div>\n",
       "<style scoped>\n",
       "    .dataframe tbody tr th:only-of-type {\n",
       "        vertical-align: middle;\n",
       "    }\n",
       "\n",
       "    .dataframe tbody tr th {\n",
       "        vertical-align: top;\n",
       "    }\n",
       "\n",
       "    .dataframe thead th {\n",
       "        text-align: right;\n",
       "    }\n",
       "</style>\n",
       "<table border=\"1\" class=\"dataframe\">\n",
       "  <thead>\n",
       "    <tr style=\"text-align: right;\">\n",
       "      <th></th>\n",
       "      <th>CAND_NAME</th>\n",
       "      <th>CMTE_NM</th>\n",
       "      <th>CMTE_TP</th>\n",
       "      <th>TRANSACTION_TP</th>\n",
       "      <th>ENTITY_TP</th>\n",
       "      <th>TRANSACTION_AMT</th>\n",
       "      <th>TTL_RECEIPTS</th>\n",
       "      <th>IND_EXP</th>\n",
       "      <th>NAME</th>\n",
       "    </tr>\n",
       "  </thead>\n",
       "  <tbody>\n",
       "    <tr>\n",
       "      <th>1538</th>\n",
       "      <td>TRUMP, DONALD J.</td>\n",
       "      <td>THE 2016 COMMITTEE</td>\n",
       "      <td>O</td>\n",
       "      <td>24E</td>\n",
       "      <td>ORG</td>\n",
       "      <td>708.00</td>\n",
       "      <td>15,020,143.14</td>\n",
       "      <td>6,167,228.28</td>\n",
       "      <td>COLORTREE GROUP INC.</td>\n",
       "    </tr>\n",
       "  </tbody>\n",
       "</table>\n",
       "</div>"
      ],
      "text/plain": [
       "             CAND_NAME             CMTE_NM CMTE_TP TRANSACTION_TP ENTITY_TP  \\\n",
       "1538  TRUMP, DONALD J.  THE 2016 COMMITTEE       O            24E       ORG   \n",
       "\n",
       "      TRANSACTION_AMT  TTL_RECEIPTS      IND_EXP                  NAME  \n",
       "1538           708.00 15,020,143.14 6,167,228.28  COLORTREE GROUP INC.  "
      ]
     },
     "execution_count": 31,
     "metadata": {},
     "output_type": "execute_result"
    }
   ],
   "source": [
    "for_trump = for_trump[['CAND_NAME', 'CMTE_NM', 'CMTE_TP', 'TRANSACTION_TP', 'ENTITY_TP', 'TRANSACTION_AMT', 'TTL_RECEIPTS', 'IND_EXP', \n",
    "                       'NAME']]\n",
    "print(for_trump.shape)\n",
    "for_trump.sample()"
   ]
  },
  {
   "cell_type": "code",
   "execution_count": 32,
   "metadata": {},
   "outputs": [
    {
     "name": "stdout",
     "output_type": "stream",
     "text": [
      "(64144, 10)\n"
     ]
    },
    {
     "data": {
      "text/html": [
       "<div>\n",
       "<style scoped>\n",
       "    .dataframe tbody tr th:only-of-type {\n",
       "        vertical-align: middle;\n",
       "    }\n",
       "\n",
       "    .dataframe tbody tr th {\n",
       "        vertical-align: top;\n",
       "    }\n",
       "\n",
       "    .dataframe thead th {\n",
       "        text-align: right;\n",
       "    }\n",
       "</style>\n",
       "<table border=\"1\" class=\"dataframe\">\n",
       "  <thead>\n",
       "    <tr style=\"text-align: right;\">\n",
       "      <th></th>\n",
       "      <th>CAND_NAME</th>\n",
       "      <th>CMTE_ID</th>\n",
       "      <th>CMTE_NM</th>\n",
       "      <th>CMTE_TP</th>\n",
       "      <th>ENTITY_TP</th>\n",
       "      <th>TRANSACTION_TP</th>\n",
       "      <th>TRANSACTION_AMT</th>\n",
       "      <th>TTL_RECEIPTS</th>\n",
       "      <th>IND_EXP</th>\n",
       "      <th>NAME</th>\n",
       "    </tr>\n",
       "  </thead>\n",
       "  <tbody>\n",
       "    <tr>\n",
       "      <th>82933</th>\n",
       "      <td>CLINTON, HILLARY RODHAM</td>\n",
       "      <td>C90011156</td>\n",
       "      <td>WORKING AMERICA</td>\n",
       "      <td>I</td>\n",
       "      <td>IND</td>\n",
       "      <td>24E</td>\n",
       "      <td>27.00</td>\n",
       "      <td>11,373,645.00</td>\n",
       "      <td>0.00</td>\n",
       "      <td>HUBBELL-STAEBLE, NATHAN</td>\n",
       "    </tr>\n",
       "    <tr>\n",
       "      <th>60711</th>\n",
       "      <td>CLINTON, HILLARY RODHAM</td>\n",
       "      <td>C90011156</td>\n",
       "      <td>WORKING AMERICA</td>\n",
       "      <td>I</td>\n",
       "      <td>ORG</td>\n",
       "      <td>24E</td>\n",
       "      <td>6.00</td>\n",
       "      <td>11,373,645.00</td>\n",
       "      <td>0.00</td>\n",
       "      <td>SPEEDWAY</td>\n",
       "    </tr>\n",
       "    <tr>\n",
       "      <th>58169</th>\n",
       "      <td>CLINTON, HILLARY RODHAM</td>\n",
       "      <td>C90011156</td>\n",
       "      <td>WORKING AMERICA</td>\n",
       "      <td>I</td>\n",
       "      <td>IND</td>\n",
       "      <td>24E</td>\n",
       "      <td>33.00</td>\n",
       "      <td>11,373,645.00</td>\n",
       "      <td>0.00</td>\n",
       "      <td>RUYBAL, CAMPER</td>\n",
       "    </tr>\n",
       "    <tr>\n",
       "      <th>84025</th>\n",
       "      <td>CLINTON, HILLARY RODHAM</td>\n",
       "      <td>C90011156</td>\n",
       "      <td>WORKING AMERICA</td>\n",
       "      <td>I</td>\n",
       "      <td>IND</td>\n",
       "      <td>24E</td>\n",
       "      <td>99.00</td>\n",
       "      <td>11,373,645.00</td>\n",
       "      <td>0.00</td>\n",
       "      <td>BINGAMAN, KAREN</td>\n",
       "    </tr>\n",
       "    <tr>\n",
       "      <th>81255</th>\n",
       "      <td>CLINTON, HILLARY RODHAM</td>\n",
       "      <td>C90011156</td>\n",
       "      <td>WORKING AMERICA</td>\n",
       "      <td>I</td>\n",
       "      <td>IND</td>\n",
       "      <td>24E</td>\n",
       "      <td>55.00</td>\n",
       "      <td>11,373,645.00</td>\n",
       "      <td>0.00</td>\n",
       "      <td>SIMMONS, GIANNA</td>\n",
       "    </tr>\n",
       "  </tbody>\n",
       "</table>\n",
       "</div>"
      ],
      "text/plain": [
       "                     CAND_NAME    CMTE_ID          CMTE_NM CMTE_TP ENTITY_TP  \\\n",
       "82933  CLINTON, HILLARY RODHAM  C90011156  WORKING AMERICA       I       IND   \n",
       "60711  CLINTON, HILLARY RODHAM  C90011156  WORKING AMERICA       I       ORG   \n",
       "58169  CLINTON, HILLARY RODHAM  C90011156  WORKING AMERICA       I       IND   \n",
       "84025  CLINTON, HILLARY RODHAM  C90011156  WORKING AMERICA       I       IND   \n",
       "81255  CLINTON, HILLARY RODHAM  C90011156  WORKING AMERICA       I       IND   \n",
       "\n",
       "      TRANSACTION_TP  TRANSACTION_AMT  TTL_RECEIPTS  IND_EXP  \\\n",
       "82933            24E            27.00 11,373,645.00     0.00   \n",
       "60711            24E             6.00 11,373,645.00     0.00   \n",
       "58169            24E            33.00 11,373,645.00     0.00   \n",
       "84025            24E            99.00 11,373,645.00     0.00   \n",
       "81255            24E            55.00 11,373,645.00     0.00   \n",
       "\n",
       "                          NAME  \n",
       "82933  HUBBELL-STAEBLE, NATHAN  \n",
       "60711                 SPEEDWAY  \n",
       "58169           RUYBAL, CAMPER  \n",
       "84025          BINGAMAN, KAREN  \n",
       "81255          SIMMONS, GIANNA  "
      ]
     },
     "execution_count": 32,
     "metadata": {},
     "output_type": "execute_result"
    }
   ],
   "source": [
    "to_trump = superpacs_cands.loc[superpacs_cands['CAND_NAME'].isin(['CLINTON, HILLARY RODHAM'])].copy()\n",
    "print(to_trump.shape)\n",
    "to_trump.sample(5)"
   ]
  },
  {
   "cell_type": "code",
   "execution_count": 33,
   "metadata": {},
   "outputs": [],
   "source": [
    "to_trump = to_trump.loc[to_trump['TRANSACTION_TP'].isin(['24A'])]"
   ]
  },
  {
   "cell_type": "code",
   "execution_count": 34,
   "metadata": {},
   "outputs": [
    {
     "name": "stdout",
     "output_type": "stream",
     "text": [
      "(5393, 9)\n"
     ]
    },
    {
     "data": {
      "text/html": [
       "<div>\n",
       "<style scoped>\n",
       "    .dataframe tbody tr th:only-of-type {\n",
       "        vertical-align: middle;\n",
       "    }\n",
       "\n",
       "    .dataframe tbody tr th {\n",
       "        vertical-align: top;\n",
       "    }\n",
       "\n",
       "    .dataframe thead th {\n",
       "        text-align: right;\n",
       "    }\n",
       "</style>\n",
       "<table border=\"1\" class=\"dataframe\">\n",
       "  <thead>\n",
       "    <tr style=\"text-align: right;\">\n",
       "      <th></th>\n",
       "      <th>CAND_NAME</th>\n",
       "      <th>CMTE_NM</th>\n",
       "      <th>CMTE_TP</th>\n",
       "      <th>TRANSACTION_TP</th>\n",
       "      <th>ENTITY_TP</th>\n",
       "      <th>TRANSACTION_AMT</th>\n",
       "      <th>TTL_RECEIPTS</th>\n",
       "      <th>IND_EXP</th>\n",
       "      <th>NAME</th>\n",
       "    </tr>\n",
       "  </thead>\n",
       "  <tbody>\n",
       "    <tr>\n",
       "      <th>50678</th>\n",
       "      <td>CLINTON, HILLARY RODHAM</td>\n",
       "      <td>VIGOP (VIRGIN ISLANDS REPUBLICAN PARTY)</td>\n",
       "      <td>Q</td>\n",
       "      <td>24A</td>\n",
       "      <td>ORG</td>\n",
       "      <td>97.00</td>\n",
       "      <td>3,493,514.62</td>\n",
       "      <td>737,140.10</td>\n",
       "      <td>CONSOLIDATED MAILING SERVICES</td>\n",
       "    </tr>\n",
       "  </tbody>\n",
       "</table>\n",
       "</div>"
      ],
      "text/plain": [
       "                     CAND_NAME                                  CMTE_NM  \\\n",
       "50678  CLINTON, HILLARY RODHAM  VIGOP (VIRGIN ISLANDS REPUBLICAN PARTY)   \n",
       "\n",
       "      CMTE_TP TRANSACTION_TP ENTITY_TP  TRANSACTION_AMT  TTL_RECEIPTS  \\\n",
       "50678       Q            24A       ORG            97.00  3,493,514.62   \n",
       "\n",
       "         IND_EXP                           NAME  \n",
       "50678 737,140.10  CONSOLIDATED MAILING SERVICES  "
      ]
     },
     "execution_count": 34,
     "metadata": {},
     "output_type": "execute_result"
    }
   ],
   "source": [
    "to_trump = to_trump[['CAND_NAME', 'CMTE_NM', 'CMTE_TP', 'TRANSACTION_TP', 'ENTITY_TP','TRANSACTION_AMT', 'TTL_RECEIPTS', 'IND_EXP', \n",
    "                     'NAME']]\n",
    "print(to_trump.shape)\n",
    "to_trump.sample()"
   ]
  },
  {
   "cell_type": "code",
   "execution_count": 35,
   "metadata": {},
   "outputs": [
    {
     "name": "stdout",
     "output_type": "stream",
     "text": [
      "(6684, 9)\n"
     ]
    },
    {
     "data": {
      "text/html": [
       "<div>\n",
       "<style scoped>\n",
       "    .dataframe tbody tr th:only-of-type {\n",
       "        vertical-align: middle;\n",
       "    }\n",
       "\n",
       "    .dataframe tbody tr th {\n",
       "        vertical-align: top;\n",
       "    }\n",
       "\n",
       "    .dataframe thead th {\n",
       "        text-align: right;\n",
       "    }\n",
       "</style>\n",
       "<table border=\"1\" class=\"dataframe\">\n",
       "  <thead>\n",
       "    <tr style=\"text-align: right;\">\n",
       "      <th></th>\n",
       "      <th>CAND_NAME</th>\n",
       "      <th>CMTE_NM</th>\n",
       "      <th>CMTE_TP</th>\n",
       "      <th>TRANSACTION_TP</th>\n",
       "      <th>ENTITY_TP</th>\n",
       "      <th>TRANSACTION_AMT</th>\n",
       "      <th>TTL_RECEIPTS</th>\n",
       "      <th>IND_EXP</th>\n",
       "      <th>NAME</th>\n",
       "    </tr>\n",
       "  </thead>\n",
       "  <tbody>\n",
       "    <tr>\n",
       "      <th>267</th>\n",
       "      <td>TRUMP, DONALD J.</td>\n",
       "      <td>SEIU COPE (SERVICE EMPLOYEES INTERNATIONAL UNI...</td>\n",
       "      <td>Q</td>\n",
       "      <td>24E</td>\n",
       "      <td>ORG</td>\n",
       "      <td>4,580.00</td>\n",
       "      <td>50,264,684.02</td>\n",
       "      <td>8,550,288.58</td>\n",
       "      <td>THE PIVOT GROUP</td>\n",
       "    </tr>\n",
       "    <tr>\n",
       "      <th>303</th>\n",
       "      <td>TRUMP, DONALD J.</td>\n",
       "      <td>NATIONAL RIFLE ASSOCIATION OF AMERICA POLITICA...</td>\n",
       "      <td>Q</td>\n",
       "      <td>24E</td>\n",
       "      <td>NaN</td>\n",
       "      <td>113.00</td>\n",
       "      <td>21,591,111.40</td>\n",
       "      <td>19,241,228.01</td>\n",
       "      <td>MAHONING COUNTY AGRICULTURAL SOCIETY</td>\n",
       "    </tr>\n",
       "    <tr>\n",
       "      <th>304</th>\n",
       "      <td>TRUMP, DONALD J.</td>\n",
       "      <td>NATIONAL RIFLE ASSOCIATION OF AMERICA POLITICA...</td>\n",
       "      <td>Q</td>\n",
       "      <td>24E</td>\n",
       "      <td>NaN</td>\n",
       "      <td>7.00</td>\n",
       "      <td>21,591,111.40</td>\n",
       "      <td>19,241,228.01</td>\n",
       "      <td>WISCONSIN FIREARM OWNERS, RANGES, CLUBS AND ED...</td>\n",
       "    </tr>\n",
       "    <tr>\n",
       "      <th>305</th>\n",
       "      <td>TRUMP, DONALD J.</td>\n",
       "      <td>NATIONAL RIFLE ASSOCIATION OF AMERICA POLITICA...</td>\n",
       "      <td>Q</td>\n",
       "      <td>24E</td>\n",
       "      <td>NaN</td>\n",
       "      <td>205.00</td>\n",
       "      <td>21,591,111.40</td>\n",
       "      <td>19,241,228.01</td>\n",
       "      <td>KITTITAS VALLEY EVENT CENTER</td>\n",
       "    </tr>\n",
       "    <tr>\n",
       "      <th>306</th>\n",
       "      <td>TRUMP, DONALD J.</td>\n",
       "      <td>NATIONAL RIFLE ASSOCIATION OF AMERICA POLITICA...</td>\n",
       "      <td>Q</td>\n",
       "      <td>24E</td>\n",
       "      <td>NaN</td>\n",
       "      <td>21.00</td>\n",
       "      <td>21,591,111.40</td>\n",
       "      <td>19,241,228.01</td>\n",
       "      <td>DOWNTOWN EAU CLAIRE, INC.</td>\n",
       "    </tr>\n",
       "    <tr>\n",
       "      <th>...</th>\n",
       "      <td>...</td>\n",
       "      <td>...</td>\n",
       "      <td>...</td>\n",
       "      <td>...</td>\n",
       "      <td>...</td>\n",
       "      <td>...</td>\n",
       "      <td>...</td>\n",
       "      <td>...</td>\n",
       "      <td>...</td>\n",
       "    </tr>\n",
       "    <tr>\n",
       "      <th>111231</th>\n",
       "      <td>CLINTON, HILLARY RODHAM</td>\n",
       "      <td>CLUB FOR GROWTH ACTION</td>\n",
       "      <td>O</td>\n",
       "      <td>24A</td>\n",
       "      <td>ORG</td>\n",
       "      <td>9.00</td>\n",
       "      <td>19,936,801.97</td>\n",
       "      <td>19,182,422.19</td>\n",
       "      <td>CLUB FOR GROWTH</td>\n",
       "    </tr>\n",
       "    <tr>\n",
       "      <th>111232</th>\n",
       "      <td>CLINTON, HILLARY RODHAM</td>\n",
       "      <td>CLUB FOR GROWTH ACTION</td>\n",
       "      <td>O</td>\n",
       "      <td>24A</td>\n",
       "      <td>ORG</td>\n",
       "      <td>9.00</td>\n",
       "      <td>19,936,801.97</td>\n",
       "      <td>19,182,422.19</td>\n",
       "      <td>CLUB FOR GROWTH</td>\n",
       "    </tr>\n",
       "    <tr>\n",
       "      <th>111233</th>\n",
       "      <td>CLINTON, HILLARY RODHAM</td>\n",
       "      <td>CLUB FOR GROWTH ACTION</td>\n",
       "      <td>O</td>\n",
       "      <td>24A</td>\n",
       "      <td>ORG</td>\n",
       "      <td>9.00</td>\n",
       "      <td>19,936,801.97</td>\n",
       "      <td>19,182,422.19</td>\n",
       "      <td>CLUB FOR GROWTH</td>\n",
       "    </tr>\n",
       "    <tr>\n",
       "      <th>111234</th>\n",
       "      <td>CLINTON, HILLARY RODHAM</td>\n",
       "      <td>CLUB FOR GROWTH ACTION</td>\n",
       "      <td>O</td>\n",
       "      <td>24A</td>\n",
       "      <td>ORG</td>\n",
       "      <td>9.00</td>\n",
       "      <td>19,936,801.97</td>\n",
       "      <td>19,182,422.19</td>\n",
       "      <td>CLUB FOR GROWTH</td>\n",
       "    </tr>\n",
       "    <tr>\n",
       "      <th>111235</th>\n",
       "      <td>CLINTON, HILLARY RODHAM</td>\n",
       "      <td>CLUB FOR GROWTH ACTION</td>\n",
       "      <td>O</td>\n",
       "      <td>24A</td>\n",
       "      <td>ORG</td>\n",
       "      <td>9.00</td>\n",
       "      <td>19,936,801.97</td>\n",
       "      <td>19,182,422.19</td>\n",
       "      <td>CLUB FOR GROWTH</td>\n",
       "    </tr>\n",
       "  </tbody>\n",
       "</table>\n",
       "<p>6684 rows × 9 columns</p>\n",
       "</div>"
      ],
      "text/plain": [
       "                      CAND_NAME  \\\n",
       "267            TRUMP, DONALD J.   \n",
       "303            TRUMP, DONALD J.   \n",
       "304            TRUMP, DONALD J.   \n",
       "305            TRUMP, DONALD J.   \n",
       "306            TRUMP, DONALD J.   \n",
       "...                         ...   \n",
       "111231  CLINTON, HILLARY RODHAM   \n",
       "111232  CLINTON, HILLARY RODHAM   \n",
       "111233  CLINTON, HILLARY RODHAM   \n",
       "111234  CLINTON, HILLARY RODHAM   \n",
       "111235  CLINTON, HILLARY RODHAM   \n",
       "\n",
       "                                                  CMTE_NM CMTE_TP  \\\n",
       "267     SEIU COPE (SERVICE EMPLOYEES INTERNATIONAL UNI...       Q   \n",
       "303     NATIONAL RIFLE ASSOCIATION OF AMERICA POLITICA...       Q   \n",
       "304     NATIONAL RIFLE ASSOCIATION OF AMERICA POLITICA...       Q   \n",
       "305     NATIONAL RIFLE ASSOCIATION OF AMERICA POLITICA...       Q   \n",
       "306     NATIONAL RIFLE ASSOCIATION OF AMERICA POLITICA...       Q   \n",
       "...                                                   ...     ...   \n",
       "111231                             CLUB FOR GROWTH ACTION       O   \n",
       "111232                             CLUB FOR GROWTH ACTION       O   \n",
       "111233                             CLUB FOR GROWTH ACTION       O   \n",
       "111234                             CLUB FOR GROWTH ACTION       O   \n",
       "111235                             CLUB FOR GROWTH ACTION       O   \n",
       "\n",
       "       TRANSACTION_TP ENTITY_TP  TRANSACTION_AMT  TTL_RECEIPTS       IND_EXP  \\\n",
       "267               24E       ORG         4,580.00 50,264,684.02  8,550,288.58   \n",
       "303               24E       NaN           113.00 21,591,111.40 19,241,228.01   \n",
       "304               24E       NaN             7.00 21,591,111.40 19,241,228.01   \n",
       "305               24E       NaN           205.00 21,591,111.40 19,241,228.01   \n",
       "306               24E       NaN            21.00 21,591,111.40 19,241,228.01   \n",
       "...               ...       ...              ...           ...           ...   \n",
       "111231            24A       ORG             9.00 19,936,801.97 19,182,422.19   \n",
       "111232            24A       ORG             9.00 19,936,801.97 19,182,422.19   \n",
       "111233            24A       ORG             9.00 19,936,801.97 19,182,422.19   \n",
       "111234            24A       ORG             9.00 19,936,801.97 19,182,422.19   \n",
       "111235            24A       ORG             9.00 19,936,801.97 19,182,422.19   \n",
       "\n",
       "                                                     NAME  \n",
       "267                                       THE PIVOT GROUP  \n",
       "303                  MAHONING COUNTY AGRICULTURAL SOCIETY  \n",
       "304     WISCONSIN FIREARM OWNERS, RANGES, CLUBS AND ED...  \n",
       "305                          KITTITAS VALLEY EVENT CENTER  \n",
       "306                             DOWNTOWN EAU CLAIRE, INC.  \n",
       "...                                                   ...  \n",
       "111231                                    CLUB FOR GROWTH  \n",
       "111232                                    CLUB FOR GROWTH  \n",
       "111233                                    CLUB FOR GROWTH  \n",
       "111234                                    CLUB FOR GROWTH  \n",
       "111235                                    CLUB FOR GROWTH  \n",
       "\n",
       "[6684 rows x 9 columns]"
      ]
     },
     "execution_count": 35,
     "metadata": {},
     "output_type": "execute_result"
    }
   ],
   "source": [
    "team_trump = pd.concat([for_trump, to_trump])\n",
    "print(team_trump.shape)\n",
    "team_trump"
   ]
  },
  {
   "cell_type": "markdown",
   "metadata": {},
   "source": [
    "Since we only address superPACs, we will restrict our datasets to them."
   ]
  },
  {
   "cell_type": "code",
   "execution_count": 36,
   "metadata": {
    "scrolled": true
   },
   "outputs": [
    {
     "data": {
      "text/html": [
       "<div>\n",
       "<style scoped>\n",
       "    .dataframe tbody tr th:only-of-type {\n",
       "        vertical-align: middle;\n",
       "    }\n",
       "\n",
       "    .dataframe tbody tr th {\n",
       "        vertical-align: top;\n",
       "    }\n",
       "\n",
       "    .dataframe thead th {\n",
       "        text-align: right;\n",
       "    }\n",
       "</style>\n",
       "<table border=\"1\" class=\"dataframe\">\n",
       "  <thead>\n",
       "    <tr style=\"text-align: right;\">\n",
       "      <th></th>\n",
       "      <th>CAND_NAME</th>\n",
       "      <th>CMTE_NM</th>\n",
       "      <th>CMTE_TP</th>\n",
       "      <th>TRANSACTION_TP</th>\n",
       "      <th>ENTITY_TP</th>\n",
       "      <th>TRANSACTION_AMT</th>\n",
       "      <th>TTL_RECEIPTS</th>\n",
       "      <th>IND_EXP</th>\n",
       "      <th>NAME</th>\n",
       "    </tr>\n",
       "  </thead>\n",
       "  <tbody>\n",
       "    <tr>\n",
       "      <th>47718</th>\n",
       "      <td>CLINTON, HILLARY RODHAM</td>\n",
       "      <td>CITIZENS UNITED SUPER PAC LLC</td>\n",
       "      <td>O</td>\n",
       "      <td>24A</td>\n",
       "      <td>ORG</td>\n",
       "      <td>569.00</td>\n",
       "      <td>1,142,857.09</td>\n",
       "      <td>955,345.69</td>\n",
       "      <td>DONOR BUREAU</td>\n",
       "    </tr>\n",
       "    <tr>\n",
       "      <th>1600</th>\n",
       "      <td>TRUMP, DONALD J.</td>\n",
       "      <td>RIGHT TO LIFE OF MICHIGAN VICTORY FUND</td>\n",
       "      <td>O</td>\n",
       "      <td>24E</td>\n",
       "      <td>ORG</td>\n",
       "      <td>145.00</td>\n",
       "      <td>61,940.32</td>\n",
       "      <td>45,462.80</td>\n",
       "      <td>WESTERN AMERICAN MAILERS</td>\n",
       "    </tr>\n",
       "    <tr>\n",
       "      <th>110345</th>\n",
       "      <td>CLINTON, HILLARY RODHAM</td>\n",
       "      <td>FEDUP POLITICAL ACTION COMMITTEE AKA FEDUP PAC</td>\n",
       "      <td>O</td>\n",
       "      <td>24A</td>\n",
       "      <td>ORG</td>\n",
       "      <td>5,000.00</td>\n",
       "      <td>164,521.92</td>\n",
       "      <td>82,849.86</td>\n",
       "      <td>AMERICAN MAILING LIST CORPORATION</td>\n",
       "    </tr>\n",
       "    <tr>\n",
       "      <th>48158</th>\n",
       "      <td>CLINTON, HILLARY RODHAM</td>\n",
       "      <td>CITIZENS UNITED SUPER PAC LLC</td>\n",
       "      <td>O</td>\n",
       "      <td>24A</td>\n",
       "      <td>ORG</td>\n",
       "      <td>529.00</td>\n",
       "      <td>1,142,857.09</td>\n",
       "      <td>955,345.69</td>\n",
       "      <td>NOVA LIST COMPANY</td>\n",
       "    </tr>\n",
       "    <tr>\n",
       "      <th>48019</th>\n",
       "      <td>CLINTON, HILLARY RODHAM</td>\n",
       "      <td>CITIZENS UNITED SUPER PAC LLC</td>\n",
       "      <td>O</td>\n",
       "      <td>24A</td>\n",
       "      <td>ORG</td>\n",
       "      <td>150.00</td>\n",
       "      <td>1,142,857.09</td>\n",
       "      <td>955,345.69</td>\n",
       "      <td>NOVA LIST COMPANY</td>\n",
       "    </tr>\n",
       "  </tbody>\n",
       "</table>\n",
       "</div>"
      ],
      "text/plain": [
       "                      CAND_NAME  \\\n",
       "47718   CLINTON, HILLARY RODHAM   \n",
       "1600           TRUMP, DONALD J.   \n",
       "110345  CLINTON, HILLARY RODHAM   \n",
       "48158   CLINTON, HILLARY RODHAM   \n",
       "48019   CLINTON, HILLARY RODHAM   \n",
       "\n",
       "                                               CMTE_NM CMTE_TP TRANSACTION_TP  \\\n",
       "47718                    CITIZENS UNITED SUPER PAC LLC       O            24A   \n",
       "1600            RIGHT TO LIFE OF MICHIGAN VICTORY FUND       O            24E   \n",
       "110345  FEDUP POLITICAL ACTION COMMITTEE AKA FEDUP PAC       O            24A   \n",
       "48158                    CITIZENS UNITED SUPER PAC LLC       O            24A   \n",
       "48019                    CITIZENS UNITED SUPER PAC LLC       O            24A   \n",
       "\n",
       "       ENTITY_TP  TRANSACTION_AMT  TTL_RECEIPTS    IND_EXP  \\\n",
       "47718        ORG           569.00  1,142,857.09 955,345.69   \n",
       "1600         ORG           145.00     61,940.32  45,462.80   \n",
       "110345       ORG         5,000.00    164,521.92  82,849.86   \n",
       "48158        ORG           529.00  1,142,857.09 955,345.69   \n",
       "48019        ORG           150.00  1,142,857.09 955,345.69   \n",
       "\n",
       "                                     NAME  \n",
       "47718                        DONOR BUREAU  \n",
       "1600             WESTERN AMERICAN MAILERS  \n",
       "110345  AMERICAN MAILING LIST CORPORATION  \n",
       "48158                   NOVA LIST COMPANY  \n",
       "48019                   NOVA LIST COMPANY  "
      ]
     },
     "execution_count": 36,
     "metadata": {},
     "output_type": "execute_result"
    }
   ],
   "source": [
    "team_trump_o = team_trump[team_trump['CMTE_TP'].isin(['O'])].copy()\n",
    "team_trump_o.sample(5)"
   ]
  },
  {
   "cell_type": "code",
   "execution_count": 37,
   "metadata": {},
   "outputs": [],
   "source": [
    "occ_mapping = {\n",
    "    'CLINTON, HILLARY RODHAM': 'TRUMP, DONALD J.'\n",
    "}\n",
    "\n",
    "f = lambda x: occ_mapping.get(x, x) \n",
    "team_trump_o.loc[:, 'CAND_NAME'] = team_trump_o.loc[:, 'CAND_NAME'].map(f)"
   ]
  },
  {
   "cell_type": "markdown",
   "metadata": {},
   "source": [
    "* Now we are going to apply the groupby function in both of our datasets to get the result.\n",
    "* As you will notice, I use two different kinds of groupbys for each candidate.\n",
    "* I did it because, when I ran the first groupby for both of the candidates the results did not seem so insightful. So when I searched for other ways to group datasets, I saw some examples on StackOverflow about apply and decided to try it.\n",
    "* When I tried it, the results seemed a bit more realistic, but, since it is considered a function that takes a lot of time to run and it is not recommended to use it, I decided that it is good to keep both ways."
   ]
  },
  {
   "cell_type": "code",
   "execution_count": 38,
   "metadata": {},
   "outputs": [
    {
     "data": {
      "text/html": [
       "<div>\n",
       "<style scoped>\n",
       "    .dataframe tbody tr th:only-of-type {\n",
       "        vertical-align: middle;\n",
       "    }\n",
       "\n",
       "    .dataframe tbody tr th {\n",
       "        vertical-align: top;\n",
       "    }\n",
       "\n",
       "    .dataframe thead th {\n",
       "        text-align: right;\n",
       "    }\n",
       "</style>\n",
       "<table border=\"1\" class=\"dataframe\">\n",
       "  <thead>\n",
       "    <tr style=\"text-align: right;\">\n",
       "      <th></th>\n",
       "      <th>TRANSACTION_AMT</th>\n",
       "      <th>TTL_RECEIPTS</th>\n",
       "      <th>IND_EXP</th>\n",
       "    </tr>\n",
       "    <tr>\n",
       "      <th>CMTE_NM</th>\n",
       "      <th></th>\n",
       "      <th></th>\n",
       "      <th></th>\n",
       "    </tr>\n",
       "  </thead>\n",
       "  <tbody>\n",
       "    <tr>\n",
       "      <th>PRIORITIES USA ACTION</th>\n",
       "      <td>6,473,727.00</td>\n",
       "      <td>17,862,116,384.94</td>\n",
       "      <td>12,406,949,246.13</td>\n",
       "    </tr>\n",
       "    <tr>\n",
       "      <th>PLANNED PARENTHOOD VOTES</th>\n",
       "      <td>3,542,293.00</td>\n",
       "      <td>4,742,849,325.12</td>\n",
       "      <td>2,689,860,895.83</td>\n",
       "    </tr>\n",
       "    <tr>\n",
       "      <th>WOMEN VOTE!</th>\n",
       "      <td>5,651,780.00</td>\n",
       "      <td>2,457,953,044.11</td>\n",
       "      <td>2,222,215,690.79</td>\n",
       "    </tr>\n",
       "    <tr>\n",
       "      <th>FOR OUR FUTURE</th>\n",
       "      <td>3,672,945.00</td>\n",
       "      <td>9,251,090,667.63</td>\n",
       "      <td>1,852,616,659.95</td>\n",
       "    </tr>\n",
       "    <tr>\n",
       "      <th>UNITED WE CAN</th>\n",
       "      <td>4,825,838.00</td>\n",
       "      <td>2,323,870,690.56</td>\n",
       "      <td>1,318,485,291.84</td>\n",
       "    </tr>\n",
       "  </tbody>\n",
       "</table>\n",
       "</div>"
      ],
      "text/plain": [
       "                          TRANSACTION_AMT      TTL_RECEIPTS           IND_EXP\n",
       "CMTE_NM                                                                      \n",
       "PRIORITIES USA ACTION        6,473,727.00 17,862,116,384.94 12,406,949,246.13\n",
       "PLANNED PARENTHOOD VOTES     3,542,293.00  4,742,849,325.12  2,689,860,895.83\n",
       "WOMEN VOTE!                  5,651,780.00  2,457,953,044.11  2,222,215,690.79\n",
       "FOR OUR FUTURE               3,672,945.00  9,251,090,667.63  1,852,616,659.95\n",
       "UNITED WE CAN                4,825,838.00  2,323,870,690.56  1,318,485,291.84"
      ]
     },
     "execution_count": 38,
     "metadata": {},
     "output_type": "execute_result"
    }
   ],
   "source": [
    "team_clinton_grouped = team_clinton_o.groupby(['CMTE_NM']).sum().sort_values(by='IND_EXP', ascending=False)\n",
    "team_clinton_grouped.head()"
   ]
  },
  {
   "cell_type": "code",
   "execution_count": 39,
   "metadata": {},
   "outputs": [
    {
     "data": {
      "text/html": [
       "<div>\n",
       "<style scoped>\n",
       "    .dataframe tbody tr th:only-of-type {\n",
       "        vertical-align: middle;\n",
       "    }\n",
       "\n",
       "    .dataframe tbody tr th {\n",
       "        vertical-align: top;\n",
       "    }\n",
       "\n",
       "    .dataframe thead th {\n",
       "        text-align: right;\n",
       "    }\n",
       "</style>\n",
       "<table border=\"1\" class=\"dataframe\">\n",
       "  <thead>\n",
       "    <tr style=\"text-align: right;\">\n",
       "      <th></th>\n",
       "      <th>TRANSACTION_AMT</th>\n",
       "      <th>TTL_RECEIPTS</th>\n",
       "      <th>IND_EXP</th>\n",
       "    </tr>\n",
       "    <tr>\n",
       "      <th>CMTE_NM</th>\n",
       "      <th></th>\n",
       "      <th></th>\n",
       "      <th></th>\n",
       "    </tr>\n",
       "  </thead>\n",
       "  <tbody>\n",
       "    <tr>\n",
       "      <th>PRIORITIES USA ACTION</th>\n",
       "      <td>475,070.00</td>\n",
       "      <td>192,065,767.58</td>\n",
       "      <td>133,408,056.41</td>\n",
       "    </tr>\n",
       "    <tr>\n",
       "      <th>SENATE MAJORITY PAC</th>\n",
       "      <td>206,050.00</td>\n",
       "      <td>92,821,080.67</td>\n",
       "      <td>75,413,534.87</td>\n",
       "    </tr>\n",
       "    <tr>\n",
       "      <th>WOMEN VOTE!</th>\n",
       "      <td>1,500,000.00</td>\n",
       "      <td>36,685,866.33</td>\n",
       "      <td>33,167,398.37</td>\n",
       "    </tr>\n",
       "    <tr>\n",
       "      <th>REBUILDING AMERICA NOW</th>\n",
       "      <td>40,500.00</td>\n",
       "      <td>23,616,516.94</td>\n",
       "      <td>19,817,596.85</td>\n",
       "    </tr>\n",
       "    <tr>\n",
       "      <th>LCV VICTORY FUND</th>\n",
       "      <td>2,040,211.00</td>\n",
       "      <td>19,649,152.67</td>\n",
       "      <td>15,703,967.09</td>\n",
       "    </tr>\n",
       "  </tbody>\n",
       "</table>\n",
       "</div>"
      ],
      "text/plain": [
       "                        TRANSACTION_AMT   TTL_RECEIPTS        IND_EXP\n",
       "CMTE_NM                                                              \n",
       "PRIORITIES USA ACTION        475,070.00 192,065,767.58 133,408,056.41\n",
       "SENATE MAJORITY PAC          206,050.00  92,821,080.67  75,413,534.87\n",
       "WOMEN VOTE!                1,500,000.00  36,685,866.33  33,167,398.37\n",
       "REBUILDING AMERICA NOW        40,500.00  23,616,516.94  19,817,596.85\n",
       "LCV VICTORY FUND           2,040,211.00  19,649,152.67  15,703,967.09"
      ]
     },
     "execution_count": 39,
     "metadata": {},
     "output_type": "execute_result"
    }
   ],
   "source": [
    "team_clinton_grouped_apply = team_clinton_o.groupby(['CMTE_NM']).apply(lambda x: x.sort_values(by='TRANSACTION_AMT', \n",
    "                             ascending=False).iloc[0])[['TRANSACTION_AMT', 'TTL_RECEIPTS', 'IND_EXP']]\n",
    "team_clinton_apply = team_clinton_grouped_apply.sort_values(by='IND_EXP', ascending=False)\n",
    "team_clinton_apply.head()"
   ]
  },
  {
   "cell_type": "code",
   "execution_count": 40,
   "metadata": {},
   "outputs": [
    {
     "data": {
      "text/html": [
       "<div>\n",
       "<style scoped>\n",
       "    .dataframe tbody tr th:only-of-type {\n",
       "        vertical-align: middle;\n",
       "    }\n",
       "\n",
       "    .dataframe tbody tr th {\n",
       "        vertical-align: top;\n",
       "    }\n",
       "\n",
       "    .dataframe thead th {\n",
       "        text-align: right;\n",
       "    }\n",
       "</style>\n",
       "<table border=\"1\" class=\"dataframe\">\n",
       "  <thead>\n",
       "    <tr style=\"text-align: right;\">\n",
       "      <th></th>\n",
       "      <th>TRANSACTION_AMT</th>\n",
       "      <th>TTL_RECEIPTS</th>\n",
       "      <th>IND_EXP</th>\n",
       "    </tr>\n",
       "    <tr>\n",
       "      <th>CMTE_NM</th>\n",
       "      <th></th>\n",
       "      <th></th>\n",
       "      <th></th>\n",
       "    </tr>\n",
       "  </thead>\n",
       "  <tbody>\n",
       "    <tr>\n",
       "      <th>FUTURE45</th>\n",
       "      <td>24,219,101.00</td>\n",
       "      <td>5,224,272,688.36</td>\n",
       "      <td>5,071,184,750.83</td>\n",
       "    </tr>\n",
       "    <tr>\n",
       "      <th>REBUILDING AMERICA NOW</th>\n",
       "      <td>21,199,098.00</td>\n",
       "      <td>1,440,607,533.34</td>\n",
       "      <td>1,208,873,407.85</td>\n",
       "    </tr>\n",
       "    <tr>\n",
       "      <th>THE 2016 COMMITTEE</th>\n",
       "      <td>1,030,214.00</td>\n",
       "      <td>2,928,927,912.30</td>\n",
       "      <td>1,202,609,514.60</td>\n",
       "    </tr>\n",
       "    <tr>\n",
       "      <th>CLUB FOR GROWTH ACTION</th>\n",
       "      <td>541.00</td>\n",
       "      <td>737,661,672.89</td>\n",
       "      <td>709,749,621.03</td>\n",
       "    </tr>\n",
       "    <tr>\n",
       "      <th>CITIZENS UNITED SUPER PAC LLC</th>\n",
       "      <td>1,500,853.00</td>\n",
       "      <td>750,857,108.13</td>\n",
       "      <td>627,662,118.33</td>\n",
       "    </tr>\n",
       "  </tbody>\n",
       "</table>\n",
       "</div>"
      ],
      "text/plain": [
       "                               TRANSACTION_AMT     TTL_RECEIPTS  \\\n",
       "CMTE_NM                                                           \n",
       "FUTURE45                         24,219,101.00 5,224,272,688.36   \n",
       "REBUILDING AMERICA NOW           21,199,098.00 1,440,607,533.34   \n",
       "THE 2016 COMMITTEE                1,030,214.00 2,928,927,912.30   \n",
       "CLUB FOR GROWTH ACTION                  541.00   737,661,672.89   \n",
       "CITIZENS UNITED SUPER PAC LLC     1,500,853.00   750,857,108.13   \n",
       "\n",
       "                                       IND_EXP  \n",
       "CMTE_NM                                         \n",
       "FUTURE45                      5,071,184,750.83  \n",
       "REBUILDING AMERICA NOW        1,208,873,407.85  \n",
       "THE 2016 COMMITTEE            1,202,609,514.60  \n",
       "CLUB FOR GROWTH ACTION          709,749,621.03  \n",
       "CITIZENS UNITED SUPER PAC LLC   627,662,118.33  "
      ]
     },
     "execution_count": 40,
     "metadata": {},
     "output_type": "execute_result"
    }
   ],
   "source": [
    "team_trump_grouped = team_trump_o.groupby(['CMTE_NM']).sum().sort_values(by='IND_EXP', ascending=False)\n",
    "team_trump_grouped.head()"
   ]
  },
  {
   "cell_type": "code",
   "execution_count": 41,
   "metadata": {},
   "outputs": [
    {
     "data": {
      "text/html": [
       "<div>\n",
       "<style scoped>\n",
       "    .dataframe tbody tr th:only-of-type {\n",
       "        vertical-align: middle;\n",
       "    }\n",
       "\n",
       "    .dataframe tbody tr th {\n",
       "        vertical-align: top;\n",
       "    }\n",
       "\n",
       "    .dataframe thead th {\n",
       "        text-align: right;\n",
       "    }\n",
       "</style>\n",
       "<table border=\"1\" class=\"dataframe\">\n",
       "  <thead>\n",
       "    <tr style=\"text-align: right;\">\n",
       "      <th></th>\n",
       "      <th>TRANSACTION_AMT</th>\n",
       "      <th>TTL_RECEIPTS</th>\n",
       "      <th>IND_EXP</th>\n",
       "    </tr>\n",
       "    <tr>\n",
       "      <th>CMTE_NM</th>\n",
       "      <th></th>\n",
       "      <th></th>\n",
       "      <th></th>\n",
       "    </tr>\n",
       "  </thead>\n",
       "  <tbody>\n",
       "    <tr>\n",
       "      <th>FREEDOM PARTNERS ACTION FUND, INC.</th>\n",
       "      <td>13,400.00</td>\n",
       "      <td>28,201,407.05</td>\n",
       "      <td>29,728,850.26</td>\n",
       "    </tr>\n",
       "    <tr>\n",
       "      <th>FUTURE45</th>\n",
       "      <td>7,000,000.00</td>\n",
       "      <td>24,996,520.04</td>\n",
       "      <td>24,264,041.87</td>\n",
       "    </tr>\n",
       "    <tr>\n",
       "      <th>REBUILDING AMERICA NOW</th>\n",
       "      <td>1,746,350.00</td>\n",
       "      <td>23,616,516.94</td>\n",
       "      <td>19,817,596.85</td>\n",
       "    </tr>\n",
       "    <tr>\n",
       "      <th>CLUB FOR GROWTH ACTION</th>\n",
       "      <td>52.00</td>\n",
       "      <td>19,936,801.97</td>\n",
       "      <td>19,182,422.19</td>\n",
       "    </tr>\n",
       "    <tr>\n",
       "      <th>UNITED WE CAN</th>\n",
       "      <td>4,392.00</td>\n",
       "      <td>24,206,986.36</td>\n",
       "      <td>13,734,221.79</td>\n",
       "    </tr>\n",
       "  </tbody>\n",
       "</table>\n",
       "</div>"
      ],
      "text/plain": [
       "                                    TRANSACTION_AMT  TTL_RECEIPTS  \\\n",
       "CMTE_NM                                                             \n",
       "FREEDOM PARTNERS ACTION FUND, INC.        13,400.00 28,201,407.05   \n",
       "FUTURE45                               7,000,000.00 24,996,520.04   \n",
       "REBUILDING AMERICA NOW                 1,746,350.00 23,616,516.94   \n",
       "CLUB FOR GROWTH ACTION                        52.00 19,936,801.97   \n",
       "UNITED WE CAN                              4,392.00 24,206,986.36   \n",
       "\n",
       "                                         IND_EXP  \n",
       "CMTE_NM                                           \n",
       "FREEDOM PARTNERS ACTION FUND, INC. 29,728,850.26  \n",
       "FUTURE45                           24,264,041.87  \n",
       "REBUILDING AMERICA NOW             19,817,596.85  \n",
       "CLUB FOR GROWTH ACTION             19,182,422.19  \n",
       "UNITED WE CAN                      13,734,221.79  "
      ]
     },
     "execution_count": 41,
     "metadata": {},
     "output_type": "execute_result"
    }
   ],
   "source": [
    "team_trump_grouped_apply = team_trump_o.groupby(['CMTE_NM']).apply(lambda x: x.sort_values(by='TRANSACTION_AMT', \n",
    "                             ascending=False).iloc[0])[['TRANSACTION_AMT', 'TTL_RECEIPTS', 'IND_EXP']]\n",
    "team_trump_apply = team_trump_grouped_apply.sort_values(by='IND_EXP', ascending=False)\n",
    "team_trump_apply.head()"
   ]
  },
  {
   "cell_type": "markdown",
   "metadata": {},
   "source": [
    "I chose to sort the values by the Independent Expenditures, because they indicate support or opposing to a candidate and are not subject to limits, according to the FEC website (https://www.fec.gov/help-candidates-and-committees/making-independent-expenditures/)."
   ]
  },
  {
   "cell_type": "markdown",
   "metadata": {},
   "source": [
    "---"
   ]
  },
  {
   "cell_type": "markdown",
   "metadata": {},
   "source": [
    "### 2. Identify the top 10 individual donors (i.e., persons) for each of the two presidential candidates and the amount they spent. In order to do that, you should know that donations are not always to a fundraising committee that can be directly linked to a candidate, but they can be due to other entities such as PACs."
   ]
  },
  {
   "cell_type": "markdown",
   "metadata": {},
   "source": [
    "First of all, we are going to read the Contributions from individuals in order to get the donors that donated to a fundraising committee directly linked with the candidate. Ypu can download the files from here https://www.fec.gov/files/bulk-downloads/2016/indiv16.zip."
   ]
  },
  {
   "cell_type": "code",
   "execution_count": null,
   "metadata": {},
   "outputs": [],
   "source": [
    "headersind = pd.read_csv('https://www.fec.gov/files/bulk-downloads/data_dictionaries/indiv_header_file.csv')\n",
    "headersind"
   ]
  },
  {
   "cell_type": "code",
   "execution_count": null,
   "metadata": {},
   "outputs": [],
   "source": [
    "headers_ind = headersind.columns.tolist()\n",
    "headers_ind"
   ]
  },
  {
   "cell_type": "code",
   "execution_count": null,
   "metadata": {},
   "outputs": [],
   "source": [
    "data_types = {header:np.str for header in headers_ind}\n",
    "data_types['TRANSACTION_AMT'] = np.float"
   ]
  },
  {
   "cell_type": "code",
   "execution_count": null,
   "metadata": {},
   "outputs": [],
   "source": [
    "indiv = pd.read_csv('indiv16/itcont.txt', sep=\"|\", names=headers_ind, index_col=False, dtype=data_types,\n",
    "                   parse_dates=['TRANSACTION_DT'])\n",
    "print(indiv.shape)\n",
    "indiv.sample(5)"
   ]
  },
  {
   "cell_type": "markdown",
   "metadata": {},
   "source": [
    "Since we are not interested in refunds, we need to make sure that they are not included."
   ]
  },
  {
   "cell_type": "code",
   "execution_count": null,
   "metadata": {},
   "outputs": [],
   "source": [
    "(indiv['TRANSACTION_AMT'] > 0).value_counts()"
   ]
  },
  {
   "cell_type": "code",
   "execution_count": null,
   "metadata": {},
   "outputs": [],
   "source": [
    "indiv = indiv[indiv['TRANSACTION_AMT'] > 0]"
   ]
  },
  {
   "cell_type": "markdown",
   "metadata": {},
   "source": [
    "Then, we are going to read the Committee master file in order to get more information about each committee that the donor donated to."
   ]
  },
  {
   "cell_type": "code",
   "execution_count": null,
   "metadata": {},
   "outputs": [],
   "source": [
    "headers_cm =  pd.read_csv('https://www.fec.gov/data/browse-data/files/bulk-downloads/data_dictionaries/cm_header_file.csv')\n",
    "headers_cm"
   ]
  },
  {
   "cell_type": "code",
   "execution_count": null,
   "metadata": {},
   "outputs": [],
   "source": [
    "cm_headers = headers_cm.columns.tolist()\n",
    "cm_headers"
   ]
  },
  {
   "cell_type": "code",
   "execution_count": null,
   "metadata": {},
   "outputs": [],
   "source": [
    "cm = pd.read_csv('https://www.fec.gov/files/bulk-downloads/2016/cm16.zip', sep=\"|\", index_col=False, names=cm_headers)\n",
    "print(cm.shape)\n",
    "cm.head(5)"
   ]
  },
  {
   "cell_type": "markdown",
   "metadata": {},
   "source": [
    "Right now, we are going to merge the Contributions from individuals dataset with the committee master in order to gain a better perpective on each committee and each donation."
   ]
  },
  {
   "cell_type": "code",
   "execution_count": null,
   "metadata": {},
   "outputs": [],
   "source": [
    "fec = pd.merge(indiv, cm[['CMTE_ID', 'CMTE_NM', 'CAND_ID']], on='CMTE_ID', how='inner')\n",
    "print(fec.shape)\n",
    "fec.head(5)"
   ]
  },
  {
   "cell_type": "markdown",
   "metadata": {},
   "source": [
    "Now, we are ready to merge the fec dataset with the cands dataset (that we have read above), to connect each candidate identification number with its name."
   ]
  },
  {
   "cell_type": "code",
   "execution_count": null,
   "metadata": {},
   "outputs": [],
   "source": [
    "fec = pd.merge(fec, cands[['CAND_ID', 'CAND_NAME']], on='CAND_ID',how='inner')\n",
    "print(fec.shape)\n",
    "fec.head(5)"
   ]
  },
  {
   "cell_type": "code",
   "execution_count": null,
   "metadata": {},
   "outputs": [],
   "source": [
    "fec['CAND_NAME'].unique()"
   ]
  },
  {
   "cell_type": "code",
   "execution_count": null,
   "metadata": {},
   "outputs": [],
   "source": [
    "fec.loc[fec['CAND_NAME'] == 'TRUMP, DONALD J. / MICHAEL R. PENCE ', 'CAND_NAME'] = 'TRUMP, DONALD J.'\n",
    "fec.loc[fec['CAND_NAME'] == 'CLINTON, HILLARY RODHAM / TIMOTHY MICHAEL KAINE', 'CAND_NAME'] = 'CLINTON, HILLARY RODHAM'"
   ]
  },
  {
   "cell_type": "code",
   "execution_count": null,
   "metadata": {},
   "outputs": [],
   "source": [
    "fec = fec.loc[fec['CAND_NAME'].isin(['TRUMP, DONALD J.', 'CLINTON, HILLARY RODHAM'])]\n",
    "print(fec.shape)\n",
    "fec['CAND_NAME'].unique()"
   ]
  },
  {
   "cell_type": "markdown",
   "metadata": {},
   "source": [
    "Since we are talking about individual contributions, we will only need the rows where the type of the contributor is an individual."
   ]
  },
  {
   "cell_type": "code",
   "execution_count": null,
   "metadata": {},
   "outputs": [],
   "source": [
    "fec['TRANSACTION_TP'].unique()"
   ]
  },
  {
   "cell_type": "markdown",
   "metadata": {},
   "source": [
    "* According to the Federal Election Commission webiste, the transaction type 22Y represents a contribution refund to an individual, partnership or limited liability company(https://www.fec.gov/campaign-finance-data/transaction-type-code-descriptions/).\n",
    "* This means, that we need to exclude it from our dataset."
   ]
  },
  {
   "cell_type": "code",
   "execution_count": null,
   "metadata": {
    "scrolled": true
   },
   "outputs": [],
   "source": [
    "fec = fec.loc[fec['TRANSACTION_TP'].isin(['15', '15E', '11'])]\n",
    "print(fec.shape)"
   ]
  },
  {
   "cell_type": "markdown",
   "metadata": {},
   "source": [
    "And now, we can can create two new datasets, one for each candidate."
   ]
  },
  {
   "cell_type": "code",
   "execution_count": null,
   "metadata": {},
   "outputs": [],
   "source": [
    "fec_clinton = fec.loc[fec['CAND_NAME'] == 'CLINTON, HILLARY RODHAM']\n",
    "print(fec_clinton.shape)\n",
    "fec_clinton.sample(5)"
   ]
  },
  {
   "cell_type": "code",
   "execution_count": null,
   "metadata": {},
   "outputs": [],
   "source": [
    "fec_trump = fec.loc[fec['CAND_NAME'] == 'TRUMP, DONALD J.']\n",
    "print(fec_trump.shape)\n",
    "fec_trump.sample(5)"
   ]
  },
  {
   "cell_type": "markdown",
   "metadata": {},
   "source": [
    "We also need to make sure that all the contributions from the Contributios from committees to candidates file come only from individuals."
   ]
  },
  {
   "cell_type": "code",
   "execution_count": null,
   "metadata": {},
   "outputs": [],
   "source": [
    "team_clinton['ENTITY_TP'].unique()"
   ]
  },
  {
   "cell_type": "code",
   "execution_count": null,
   "metadata": {
    "scrolled": true
   },
   "outputs": [],
   "source": [
    "team_clinton = team_clinton.loc[team_clinton['ENTITY_TP'].isin(['IND'])]\n",
    "print(team_clinton.shape)\n",
    "team_clinton['ENTITY_TP'].unique()"
   ]
  },
  {
   "cell_type": "code",
   "execution_count": null,
   "metadata": {},
   "outputs": [],
   "source": [
    "team_clinton['CAND_NAME'].unique()"
   ]
  },
  {
   "cell_type": "code",
   "execution_count": null,
   "metadata": {},
   "outputs": [],
   "source": [
    "occ_mapping = {\n",
    "    'TRUMP, DONALD J.': 'CLINTON, HILLARY RODHAM'\n",
    "}\n",
    "\n",
    "f = lambda x: occ_mapping.get(x, x) \n",
    "team_clinton.loc[:, 'CAND_NAME'] = team_clinton.loc[:, 'CAND_NAME'].map(f)"
   ]
  },
  {
   "cell_type": "code",
   "execution_count": null,
   "metadata": {},
   "outputs": [],
   "source": [
    "team_trump['ENTITY_TP'].unique()"
   ]
  },
  {
   "cell_type": "code",
   "execution_count": null,
   "metadata": {
    "scrolled": true
   },
   "outputs": [],
   "source": [
    "team_trump = team_trump.loc[team_trump['ENTITY_TP'].isin(['IND'])]\n",
    "print(team_trump.shape)\n",
    "team_trump['ENTITY_TP'].unique()"
   ]
  },
  {
   "cell_type": "code",
   "execution_count": null,
   "metadata": {
    "scrolled": true
   },
   "outputs": [],
   "source": [
    "team_trump['CAND_NAME'].unique()"
   ]
  },
  {
   "cell_type": "code",
   "execution_count": null,
   "metadata": {},
   "outputs": [],
   "source": [
    "occ_mapping = {\n",
    "    'CLINTON, HILLARY RODHAM': 'TRUMP, DONALD J.'\n",
    "}\n",
    "\n",
    "f = lambda x: occ_mapping.get(x, x) \n",
    "team_trump.loc[:, 'CAND_NAME'] = team_trump.loc[:, 'CAND_NAME'].map(f)"
   ]
  },
  {
   "cell_type": "markdown",
   "metadata": {},
   "source": [
    "* Now, we are ready to concatenate the two datasets about Clinton: the one about the donors that donated to other entities, such as PACs with the one that contains the individuals that donated to a fundraising committee.\n",
    "* Also, since we have too much information that we do not need anymore, we can restrict our dataset with the columns that we need, in order to get easier to read all the usefull columns."
   ]
  },
  {
   "cell_type": "code",
   "execution_count": null,
   "metadata": {
    "scrolled": true
   },
   "outputs": [],
   "source": [
    "fec_clinton = fec_clinton[['CMTE_ID', 'TRANSACTION_TP', 'NAME', 'ENTITY_TP','TRANSACTION_AMT', 'CAND_NAME']]"
   ]
  },
  {
   "cell_type": "code",
   "execution_count": null,
   "metadata": {
    "scrolled": true
   },
   "outputs": [],
   "source": [
    "clinton = pd.concat([team_clinton, fec_clinton])\n",
    "print(clinton.shape)\n",
    "clinton.sample(5)"
   ]
  },
  {
   "cell_type": "markdown",
   "metadata": {},
   "source": [
    "Of course, it goes the same with Trump."
   ]
  },
  {
   "cell_type": "code",
   "execution_count": null,
   "metadata": {
    "scrolled": false
   },
   "outputs": [],
   "source": [
    "trump = pd.concat([team_trump, fec_trump])\n",
    "print(trump.shape)\n",
    "trump.sample(5)"
   ]
  },
  {
   "cell_type": "code",
   "execution_count": null,
   "metadata": {},
   "outputs": [],
   "source": [
    "clinton = clinton[['CAND_NAME', 'CMTE_ID', 'CMTE_NM', 'ENTITY_TP', 'TRANSACTION_TP', 'TRANSACTION_AMT', 'NAME']]"
   ]
  },
  {
   "cell_type": "code",
   "execution_count": null,
   "metadata": {},
   "outputs": [],
   "source": [
    "trump = trump[['CAND_NAME', 'CMTE_ID', 'CMTE_NM', 'ENTITY_TP', 'TRANSACTION_TP', 'TRANSACTION_AMT', 'NAME']]"
   ]
  },
  {
   "cell_type": "markdown",
   "metadata": {},
   "source": [
    "Finally, we are ready to get the Top 10 donors for each of our candidates."
   ]
  },
  {
   "cell_type": "code",
   "execution_count": null,
   "metadata": {
    "scrolled": false
   },
   "outputs": [],
   "source": [
    "clinton_donors = clinton.groupby(['NAME']).sum().sort_values(by='TRANSACTION_AMT', ascending=False)\n",
    "clinton_donors.head(10)"
   ]
  },
  {
   "cell_type": "code",
   "execution_count": null,
   "metadata": {},
   "outputs": [],
   "source": [
    "trump_donors = trump.groupby(['NAME']).sum().sort_values(by='TRANSACTION_AMT', ascending=False)\n",
    "trump_donors.head(10)"
   ]
  },
  {
   "cell_type": "markdown",
   "metadata": {},
   "source": [
    "---"
   ]
  },
  {
   "cell_type": "markdown",
   "metadata": {},
   "source": [
    "### 3.  Investigate the chronological evolution of the contributions made to and the expenditures made by the campaigns."
   ]
  },
  {
   "cell_type": "markdown",
   "metadata": {},
   "source": [
    "* Starting with the contributions, we need to gather on the information about all the kinds of contributions. \n",
    "* So, given our files, we can process the information given in the Contributions by individuals and Contributions from committees to candidates file."
   ]
  },
  {
   "cell_type": "markdown",
   "metadata": {},
   "source": [
    "First off, we are going to merge the contribs dataset with the cands dataset to add the columns of the names for each candidate."
   ]
  },
  {
   "cell_type": "code",
   "execution_count": null,
   "metadata": {},
   "outputs": [],
   "source": [
    "contribs = pd.merge(contribs, cands[['CAND_ID', 'CAND_NAME']], on='CAND_ID', how='inner')\n",
    "contribs['TRANSACTION_DT'] = pd.to_datetime(contribs['TRANSACTION_DT'])\n",
    "print(contribs.shape)\n",
    "contribs.sample(5)"
   ]
  },
  {
   "cell_type": "markdown",
   "metadata": {},
   "source": [
    "Now we are going to clean our data in order to keep only tha candidates that we want."
   ]
  },
  {
   "cell_type": "code",
   "execution_count": null,
   "metadata": {},
   "outputs": [],
   "source": [
    "contribs.loc[contribs['CAND_NAME'] == 'TRUMP, DONALD J. / MICHAEL R. PENCE ', 'CAND_NAME'] = 'TRUMP, DONALD J.'\n",
    "contribs.loc[contribs['CAND_NAME'] == 'CLINTON, HILLARY RODHAM / TIMOTHY MICHAEL KAINE', 'CAND_NAME'] = 'CLINTON, HILLARY RODHAM'"
   ]
  },
  {
   "cell_type": "code",
   "execution_count": null,
   "metadata": {
    "scrolled": true
   },
   "outputs": [],
   "source": [
    "contribs = contribs.loc[contribs['CAND_NAME'].isin(['TRUMP, DONALD J.', 'CLINTON, HILLARY RODHAM'])].copy()\n",
    "print(contribs.shape)\n",
    "contribs.sample(10)"
   ]
  },
  {
   "cell_type": "markdown",
   "metadata": {},
   "source": [
    "Once more, we need to make sure that no refunds are included."
   ]
  },
  {
   "cell_type": "code",
   "execution_count": null,
   "metadata": {},
   "outputs": [],
   "source": [
    "(contribs['TRANSACTION_AMT']>0).value_counts()"
   ]
  },
  {
   "cell_type": "code",
   "execution_count": null,
   "metadata": {},
   "outputs": [],
   "source": [
    "contribs = contribs.loc[contribs['TRANSACTION_AMT'] > 0]"
   ]
  },
  {
   "cell_type": "markdown",
   "metadata": {},
   "source": [
    "Now, we are going to cut out the columns that we do not need, just to gain a better perspective on the dataset structure. However, it is not necessary that you do it."
   ]
  },
  {
   "cell_type": "code",
   "execution_count": null,
   "metadata": {},
   "outputs": [],
   "source": [
    "contribs = contribs[['CAND_ID', 'CAND_NAME', 'CMTE_ID', 'TRANSACTION_TP', 'ENTITY_TP', 'TRANSACTION_DT',\n",
    "                              'TRANSACTION_AMT']]\n",
    "print(contribs.shape)\n",
    "contribs.sample(5)"
   ]
  },
  {
   "cell_type": "code",
   "execution_count": null,
   "metadata": {},
   "outputs": [],
   "source": [
    "contribs['TRANSACTION_TP'].unique()"
   ]
  },
  {
   "cell_type": "markdown",
   "metadata": {},
   "source": [
    "* Since, we only care about monetary contributions, we are going to work with all these types, except for 24Z and 24C.\n",
    "* You can find the definitions of all the transaction types here: https://www.fec.gov/campaign-finance-data/transaction-type-code-descriptions/."
   ]
  },
  {
   "cell_type": "code",
   "execution_count": null,
   "metadata": {},
   "outputs": [],
   "source": [
    "contribs = contribs[contribs['TRANSACTION_TP'].isin(['24K', '24A', '24E', '24F', '24N'])]\n",
    "print(contribs.shape)\n",
    "contribs.sample(5)"
   ]
  },
  {
   "cell_type": "markdown",
   "metadata": {},
   "source": [
    "We can also merge the dataset above with the Committee master file, in order to add a column with the name of each committee"
   ]
  },
  {
   "cell_type": "code",
   "execution_count": null,
   "metadata": {},
   "outputs": [],
   "source": [
    "contribs = pd.merge(contribs, cm[['CMTE_ID', 'CMTE_NM']], on='CMTE_ID', how='inner')\n",
    "print(contribs.shape)\n",
    "contribs.sample(5)"
   ]
  },
  {
   "cell_type": "markdown",
   "metadata": {},
   "source": [
    "Now, we will repeat the process above. This time, instead of using the Contributions from committees to candidates file, we will use the Contributions by individuals file, which we have already read previously."
   ]
  },
  {
   "cell_type": "markdown",
   "metadata": {},
   "source": [
    "* Since we are talking about chronological distribution, we need to convert the corresponding columns with the dates to datetime objects.\n",
    "* When I tried to do it, I got an out of bounds error because there was a date containing the year 1015 and the function can not read it. Since, it is only one date among many others, I suggest that we exclude it from the dataset."
   ]
  },
  {
   "cell_type": "code",
   "execution_count": null,
   "metadata": {},
   "outputs": [],
   "source": [
    "indiv = indiv[indiv['TRANSACTION_DT'] != '1015-10-05']"
   ]
  },
  {
   "cell_type": "code",
   "execution_count": null,
   "metadata": {},
   "outputs": [],
   "source": [
    "indiv['TRANSACTION_DT']= pd.to_datetime(indiv['TRANSACTION_DT'], format='%m%d%Y')"
   ]
  },
  {
   "cell_type": "code",
   "execution_count": null,
   "metadata": {},
   "outputs": [],
   "source": [
    "print(indiv.shape)\n",
    "indiv.sample(10)"
   ]
  },
  {
   "cell_type": "markdown",
   "metadata": {},
   "source": [
    "Let's see what transaction types we have here."
   ]
  },
  {
   "cell_type": "code",
   "execution_count": null,
   "metadata": {},
   "outputs": [],
   "source": [
    "indiv['TRANSACTION_TP'].unique()"
   ]
  },
  {
   "cell_type": "markdown",
   "metadata": {},
   "source": [
    "* So, it looks like we should restrict our attention to only usefull transaction types that are not e.g. refunds.\n",
    "* You can find the definitions of all the transaction types here: https://www.fec.gov/campaign-finance-data/transaction-type-code-descriptions/."
   ]
  },
  {
   "cell_type": "code",
   "execution_count": null,
   "metadata": {},
   "outputs": [],
   "source": [
    "indiv_contrib = indiv.loc[indiv['TRANSACTION_TP'].isin(['15', '15E', '11', '15C', '24T', '24I', '10', '32', '30', '32T',\n",
    "                                                       '19', '30T'])].copy()\n",
    "print(indiv_contrib.shape)\n",
    "indiv_contrib.sample(5)"
   ]
  },
  {
   "cell_type": "markdown",
   "metadata": {},
   "source": [
    "Again, we are going to cut out the columns that we do not need, just to gain a better perspective on the dataset structure."
   ]
  },
  {
   "cell_type": "code",
   "execution_count": null,
   "metadata": {},
   "outputs": [],
   "source": [
    "indiv_contrib = indiv_contrib[['CMTE_ID', 'TRANSACTION_TP', 'ENTITY_TP', 'TRANSACTION_DT', 'TRANSACTION_AMT']]\n",
    "indiv_contrib.sample(5)"
   ]
  },
  {
   "cell_type": "markdown",
   "metadata": {},
   "source": [
    "As we did previously, we are going to merge the indiv_contrib dataset with the Committee master file to add the column with the name of each committe."
   ]
  },
  {
   "cell_type": "code",
   "execution_count": null,
   "metadata": {},
   "outputs": [],
   "source": [
    "indiv_contrib = pd.merge(indiv_contrib, cm[['CMTE_ID', 'CMTE_NM', 'CAND_ID']], on='CMTE_ID', how='inner')\n",
    "print(indiv_contrib.shape)\n",
    "indiv_contrib.sample(5)"
   ]
  },
  {
   "cell_type": "markdown",
   "metadata": {},
   "source": [
    "As we did before, we are now going to merge the indiv_contriv dataset with the cands dataset."
   ]
  },
  {
   "cell_type": "code",
   "execution_count": null,
   "metadata": {},
   "outputs": [],
   "source": [
    "indiv_contrib = pd.merge(indiv_contrib, cands[['CAND_ID', 'CAND_NAME']], on='CAND_ID', how='inner')\n",
    "print(indiv_contrib.shape)\n",
    "indiv_contrib.sample(5)"
   ]
  },
  {
   "cell_type": "markdown",
   "metadata": {},
   "source": [
    "Now, we are going to restrict our dataset by keeping only the rows that are about Hillary Clinton and Donald Trump, as we did many times previously."
   ]
  },
  {
   "cell_type": "code",
   "execution_count": null,
   "metadata": {},
   "outputs": [],
   "source": [
    "indiv_contrib['CAND_NAME'].unique()"
   ]
  },
  {
   "cell_type": "code",
   "execution_count": null,
   "metadata": {},
   "outputs": [],
   "source": [
    "indiv_contrib.loc[indiv_contrib['CAND_NAME'] == 'TRUMP, DONALD J. / MICHAEL R. PENCE ', 'CAND_NAME'] = 'TRUMP, DONALD J.'\n",
    "indiv_contrib.loc[indiv_contrib['CAND_NAME'] == 'CLINTON, HILLARY RODHAM / TIMOTHY MICHAEL KAINE', 'CAND_NAME'] = 'CLINTON, HILLARY RODHAM'"
   ]
  },
  {
   "cell_type": "code",
   "execution_count": null,
   "metadata": {},
   "outputs": [],
   "source": [
    "indiv_contrib = indiv_contrib.loc[indiv_contrib['CAND_NAME'].isin(['TRUMP, DONALD J.', 'CLINTON, HILLARY RODHAM'])]\n",
    "print(indiv_contrib.shape)\n",
    "indiv_contrib.sample(5)"
   ]
  },
  {
   "cell_type": "markdown",
   "metadata": {},
   "source": [
    "Next, we are going to read the Operating expenditures file."
   ]
  },
  {
   "cell_type": "code",
   "execution_count": null,
   "metadata": {},
   "outputs": [],
   "source": [
    "headers_op = pd.read_csv('https://www.fec.gov/files/bulk-downloads/data_dictionaries/oppexp_header_file.csv')\n",
    "headers_op"
   ]
  },
  {
   "cell_type": "code",
   "execution_count": null,
   "metadata": {},
   "outputs": [],
   "source": [
    "headers = headers_op.columns.tolist()\n",
    "data_types = {header:np.str for header in headers}\n",
    "data_types['TRANSACTION_AMT'] = np.float"
   ]
  },
  {
   "cell_type": "code",
   "execution_count": null,
   "metadata": {},
   "outputs": [],
   "source": [
    "op_exp = pd.read_csv('https://www.fec.gov/files/bulk-downloads/2016/oppexp16.zip', sep=\"|\", index_col=False, dtype=data_types,\n",
    "                    names=headers)\n",
    "print(op_exp.shape)\n",
    "op_exp.head(5)"
   ]
  },
  {
   "cell_type": "markdown",
   "metadata": {},
   "source": [
    "We will exclude all the refunds."
   ]
  },
  {
   "cell_type": "code",
   "execution_count": null,
   "metadata": {},
   "outputs": [],
   "source": [
    "(op_exp['TRANSACTION_AMT'] > 0).value_counts()"
   ]
  },
  {
   "cell_type": "code",
   "execution_count": null,
   "metadata": {},
   "outputs": [],
   "source": [
    "op_exp = op_exp.loc[op_exp['TRANSACTION_AMT'] > 0]\n",
    "print(op_exp.shape)"
   ]
  },
  {
   "cell_type": "markdown",
   "metadata": {},
   "source": [
    "As we did many times before, we are now going to merge the op_exp dataset with the cm dataset and then with the cands dataset."
   ]
  },
  {
   "cell_type": "code",
   "execution_count": null,
   "metadata": {},
   "outputs": [],
   "source": [
    "op_exp = pd.merge(op_exp, cm[['CMTE_ID', 'CMTE_NM', 'CAND_ID']], on='CMTE_ID', how='inner')\n",
    "print(op_exp.shape)\n",
    "op_exp.sample(5)"
   ]
  },
  {
   "cell_type": "markdown",
   "metadata": {},
   "source": [
    "* Before we go on, we can narrow down our columns by cutting out the ones that we do not need, althougn it is not necessary that you do it."
   ]
  },
  {
   "cell_type": "code",
   "execution_count": null,
   "metadata": {},
   "outputs": [],
   "source": [
    "op_exp = op_exp[['CMTE_ID', 'TRANSACTION_DT', 'TRANSACTION_AMT', 'PURPOSE', 'CMTE_NM', 'STATE', 'CAND_ID']]\n",
    "print(op_exp.shape)\n",
    "op_exp.sample(5)"
   ]
  },
  {
   "cell_type": "code",
   "execution_count": null,
   "metadata": {},
   "outputs": [],
   "source": [
    "op_exp = pd.merge(op_exp, cands[['CAND_ID', 'CAND_NAME']], on='CAND_ID', how='inner')\n",
    "print(op_exp.shape)\n",
    "op_exp.sample(5)"
   ]
  },
  {
   "cell_type": "code",
   "execution_count": null,
   "metadata": {},
   "outputs": [],
   "source": [
    "op_exp.loc[op_exp['CAND_NAME'] == 'TRUMP, DONALD J. / MICHAEL R. PENCE ', 'CAND_NAME'] = 'TRUMP, DONALD J.'\n",
    "op_exp.loc[op_exp['CAND_NAME'] == 'CLINTON, HILLARY RODHAM / TIMOTHY MICHAEL KAINE', 'CAND_NAME'] = 'CLINTON, HILLARY RODHAM'"
   ]
  },
  {
   "cell_type": "code",
   "execution_count": null,
   "metadata": {},
   "outputs": [],
   "source": [
    "op_exp = op_exp.loc[op_exp['CAND_NAME'].isin(['TRUMP, DONALD J.', 'CLINTON, HILLARY RODHAM'])]\n",
    "print(op_exp.shape)\n",
    "op_exp.sample(5)"
   ]
  },
  {
   "cell_type": "code",
   "execution_count": null,
   "metadata": {},
   "outputs": [],
   "source": [
    "op_exp['TRANSACTION_DT']= pd.to_datetime(op_exp['TRANSACTION_DT'])"
   ]
  },
  {
   "cell_type": "markdown",
   "metadata": {},
   "source": [
    "Now, it is time to separate the datasets that we created for Hillary Clinton and Donald Trump."
   ]
  },
  {
   "cell_type": "code",
   "execution_count": null,
   "metadata": {},
   "outputs": [],
   "source": [
    "contribs_clinton = contribs.loc[contribs['CAND_NAME'].isin(['CLINTON, HILLARY RODHAM'])].copy()\n",
    "print(contribs_clinton.shape)\n",
    "contribs_clinton.sample(5)"
   ]
  },
  {
   "cell_type": "code",
   "execution_count": null,
   "metadata": {},
   "outputs": [],
   "source": [
    "contribs_trump = contribs.loc[contribs['CAND_NAME'].isin(['TRUMP, DONALD J.'])].copy()\n",
    "print(contribs_trump.shape)\n",
    "contribs_trump.sample(5)"
   ]
  },
  {
   "cell_type": "code",
   "execution_count": null,
   "metadata": {},
   "outputs": [],
   "source": [
    "indiv_clinton = indiv_contrib.loc[indiv_contrib['CAND_NAME'].isin(['CLINTON, HILLARY RODHAM'])].copy()\n",
    "print(indiv_clinton.shape)\n",
    "indiv_clinton.sample(5)"
   ]
  },
  {
   "cell_type": "code",
   "execution_count": null,
   "metadata": {},
   "outputs": [],
   "source": [
    "indiv_trump = indiv_contrib.loc[indiv_contrib['CAND_NAME'].isin(['TRUMP, DONALD J.'])].copy()\n",
    "print(indiv_trump.shape)\n",
    "indiv_trump.sample(5)"
   ]
  },
  {
   "cell_type": "code",
   "execution_count": null,
   "metadata": {},
   "outputs": [],
   "source": [
    "op_exp_clinton = op_exp.loc[op_exp['CAND_NAME'].isin(['CLINTON, HILLARY RODHAM'])].copy()\n",
    "print(op_exp_clinton.shape)\n",
    "op_exp_clinton.sample(5)"
   ]
  },
  {
   "cell_type": "code",
   "execution_count": null,
   "metadata": {},
   "outputs": [],
   "source": [
    "op_exp_trump = op_exp.loc[op_exp['CAND_NAME'].isin(['TRUMP, DONALD J.'])].copy()\n",
    "print(op_exp_trump.shape)\n",
    "op_exp_trump.sample(5)"
   ]
  },
  {
   "cell_type": "markdown",
   "metadata": {},
   "source": [
    "Since we only care about 2015 and 2016, let us see if there are contributions from years that we do not need."
   ]
  },
  {
   "cell_type": "code",
   "execution_count": null,
   "metadata": {},
   "outputs": [],
   "source": [
    "contribs_cl_m = contribs_clinton.groupby(contribs_clinton['TRANSACTION_DT'].dt.isocalendar().year)\n",
    "len(contribs_cl_m)"
   ]
  },
  {
   "cell_type": "code",
   "execution_count": null,
   "metadata": {},
   "outputs": [],
   "source": [
    "contribs_tr_m = contribs_trump.groupby(contribs_trump['TRANSACTION_DT'].dt.isocalendar().year)\n",
    "len(contribs_tr_m)"
   ]
  },
  {
   "cell_type": "code",
   "execution_count": null,
   "metadata": {},
   "outputs": [],
   "source": [
    "indiv_cl_m = indiv_clinton.groupby(indiv_clinton['TRANSACTION_DT'].dt.isocalendar().year)\n",
    "len(indiv_cl_m)"
   ]
  },
  {
   "cell_type": "code",
   "execution_count": null,
   "metadata": {},
   "outputs": [],
   "source": [
    "indiv_tr_m = indiv_trump.groupby(indiv_trump['TRANSACTION_DT'].dt.isocalendar().year)\n",
    "len(indiv_tr_m)"
   ]
  },
  {
   "cell_type": "code",
   "execution_count": null,
   "metadata": {},
   "outputs": [],
   "source": [
    "op_exp_cl_m = op_exp_clinton.groupby(op_exp_clinton['TRANSACTION_DT'].dt.isocalendar().year)\n",
    "len(op_exp_cl_m)"
   ]
  },
  {
   "cell_type": "code",
   "execution_count": null,
   "metadata": {},
   "outputs": [],
   "source": [
    "op_exp_tr_m = op_exp_trump.groupby(op_exp_trump['TRANSACTION_DT'].dt.isocalendar().year)\n",
    "len(op_exp_tr_m)"
   ]
  },
  {
   "cell_type": "markdown",
   "metadata": {},
   "source": [
    "Looks like in some cases we have more than the two years that we need. So, let's fix it:"
   ]
  },
  {
   "cell_type": "code",
   "execution_count": null,
   "metadata": {},
   "outputs": [],
   "source": [
    "ccl = contribs_cl_m.size()\n",
    "ccl"
   ]
  },
  {
   "cell_type": "code",
   "execution_count": null,
   "metadata": {},
   "outputs": [],
   "source": [
    "opextr = op_exp_tr_m.size()\n",
    "opextr"
   ]
  },
  {
   "cell_type": "code",
   "execution_count": null,
   "metadata": {},
   "outputs": [],
   "source": [
    "contribs_clinton['TRANSACTION_DT'].unique()"
   ]
  },
  {
   "cell_type": "code",
   "execution_count": null,
   "metadata": {},
   "outputs": [],
   "source": [
    "op_exp_trump['TRANSACTION_DT'].unique()"
   ]
  },
  {
   "cell_type": "markdown",
   "metadata": {},
   "source": [
    "Since there are only a few wrong dates among so many others, I suggest that we exclude them from our dataset."
   ]
  },
  {
   "cell_type": "code",
   "execution_count": null,
   "metadata": {},
   "outputs": [],
   "source": [
    "contribs_clinton.loc[contribs_clinton['TRANSACTION_DT'].isin(['2106-08-13'])]\n",
    "contribs_clinton.loc[contribs_clinton['TRANSACTION_DT'].isin(['2106-07-12'])]"
   ]
  },
  {
   "cell_type": "code",
   "execution_count": null,
   "metadata": {},
   "outputs": [],
   "source": [
    "contribs_clinton = contribs_clinton[contribs_clinton['TRANSACTION_DT'] != '2017-11-02']\n",
    "contribs_clinton = contribs_clinton[contribs_clinton['TRANSACTION_DT'] != '2017-08-12']\n",
    "contribs_clinton = contribs_clinton[contribs_clinton['TRANSACTION_DT'] != '2019-11-01']\n",
    "contribs_clinton = contribs_clinton[contribs_clinton['TRANSACTION_DT'] != '2019-11-28']\n",
    "op_exp_trump = op_exp_trump[op_exp_trump['TRANSACTION_DT'] != '2106-08-13']\n",
    "op_exp_trump = op_exp_trump[op_exp_trump['TRANSACTION_DT'] != '2106-07-12']"
   ]
  },
  {
   "cell_type": "markdown",
   "metadata": {},
   "source": [
    "#### Finally, now that we have cleaned our data, we can go on and create some simple plots for each candidate and each category."
   ]
  },
  {
   "cell_type": "markdown",
   "metadata": {},
   "source": [
    "We will start by creating the plots related with Hillary Clinton."
   ]
  },
  {
   "cell_type": "code",
   "execution_count": null,
   "metadata": {},
   "outputs": [],
   "source": [
    "contribs_cl_monthly = contribs_clinton.groupby(contribs_clinton['TRANSACTION_DT'].dt.isocalendar().week)\n",
    "len(contribs_cl_monthly)"
   ]
  },
  {
   "cell_type": "code",
   "execution_count": null,
   "metadata": {},
   "outputs": [],
   "source": [
    "y = contribs_cl_monthly.size()\n",
    "y.head()"
   ]
  },
  {
   "cell_type": "code",
   "execution_count": null,
   "metadata": {},
   "outputs": [],
   "source": [
    "x = contribs_cl_monthly['TRANSACTION_DT'].first()\n",
    "x.head()"
   ]
  },
  {
   "cell_type": "code",
   "execution_count": null,
   "metadata": {},
   "outputs": [],
   "source": [
    "pd.Series(y.values, index=x).plot(figsize=(12, 10)) \n",
    "plt.style.use('seaborn')\n",
    "plt.ylim(0) \n",
    "plt.xlabel('Months') \n",
    "plt.ylabel('Contributions from committees') "
   ]
  },
  {
   "cell_type": "code",
   "execution_count": null,
   "metadata": {},
   "outputs": [],
   "source": [
    "indiv_cl_monthly = indiv_clinton.groupby(indiv_clinton['TRANSACTION_DT'].dt.isocalendar().week)\n",
    "len(indiv_cl_monthly)"
   ]
  },
  {
   "cell_type": "code",
   "execution_count": null,
   "metadata": {},
   "outputs": [],
   "source": [
    "y_indiv = indiv_cl_monthly.size()\n",
    "y_indiv.head()"
   ]
  },
  {
   "cell_type": "code",
   "execution_count": null,
   "metadata": {},
   "outputs": [],
   "source": [
    "x_indiv = indiv_cl_monthly['TRANSACTION_DT'].first()\n",
    "x_indiv.head()"
   ]
  },
  {
   "cell_type": "code",
   "execution_count": null,
   "metadata": {},
   "outputs": [],
   "source": [
    "pd.Series(y_indiv.values, index=x_indiv).plot(figsize=(12, 10)) \n",
    "plt.style.use('seaborn')\n",
    "plt.ylim(0) \n",
    "plt.xlabel('Months') \n",
    "plt.ylabel('Contributions by individuals') "
   ]
  },
  {
   "cell_type": "code",
   "execution_count": null,
   "metadata": {},
   "outputs": [],
   "source": [
    "exp_cl_monthly = op_exp_clinton.groupby(op_exp_clinton['TRANSACTION_DT'].dt.isocalendar().week)\n",
    "len(exp_cl_monthly)"
   ]
  },
  {
   "cell_type": "code",
   "execution_count": null,
   "metadata": {},
   "outputs": [],
   "source": [
    "y_exp_cl = exp_cl_monthly.size()\n",
    "y_exp_cl.head()"
   ]
  },
  {
   "cell_type": "code",
   "execution_count": null,
   "metadata": {},
   "outputs": [],
   "source": [
    "x_exp_cl = exp_cl_monthly['TRANSACTION_DT'].first()\n",
    "x_exp_cl.head()"
   ]
  },
  {
   "cell_type": "code",
   "execution_count": null,
   "metadata": {},
   "outputs": [],
   "source": [
    "pd.Series(y_exp_cl.values, index=x_exp_cl).plot(figsize=(12, 10)) \n",
    "plt.style.use('seaborn')\n",
    "plt.ylim(0) \n",
    "plt.xlabel('Months') \n",
    "plt.ylabel('Expenditures') "
   ]
  },
  {
   "cell_type": "markdown",
   "metadata": {},
   "source": [
    "And now, we will do the same for Donald Trump."
   ]
  },
  {
   "cell_type": "code",
   "execution_count": null,
   "metadata": {},
   "outputs": [],
   "source": [
    "contribs_tr_monthly = contribs_trump.groupby(contribs_trump['TRANSACTION_DT'].dt.isocalendar().week)\n",
    "len(contribs_tr_monthly)"
   ]
  },
  {
   "cell_type": "code",
   "execution_count": null,
   "metadata": {},
   "outputs": [],
   "source": [
    "y_contrib_tr = contribs_tr_monthly.size()\n",
    "y_contrib_tr.head()"
   ]
  },
  {
   "cell_type": "code",
   "execution_count": null,
   "metadata": {},
   "outputs": [],
   "source": [
    "x_contrib_tr = contribs_tr_monthly['TRANSACTION_DT'].first()\n",
    "x_contrib_tr.head()"
   ]
  },
  {
   "cell_type": "code",
   "execution_count": null,
   "metadata": {},
   "outputs": [],
   "source": [
    "pd.Series(y_exp_cl.values, index=x_exp_cl).plot(figsize=(12, 10)) \n",
    "plt.style.use('seaborn')\n",
    "plt.ylim(0) \n",
    "plt.xlabel('Months') \n",
    "plt.ylabel('Contributions from committees') "
   ]
  },
  {
   "cell_type": "code",
   "execution_count": null,
   "metadata": {},
   "outputs": [],
   "source": [
    "indiv_tr_monthly = indiv_trump.groupby(indiv_trump['TRANSACTION_DT'].dt.isocalendar().week)\n",
    "len(indiv_tr_monthly)"
   ]
  },
  {
   "cell_type": "code",
   "execution_count": null,
   "metadata": {},
   "outputs": [],
   "source": [
    "y_indiv_tr = indiv_tr_monthly.size()\n",
    "y_indiv_tr.head()"
   ]
  },
  {
   "cell_type": "code",
   "execution_count": null,
   "metadata": {},
   "outputs": [],
   "source": [
    "x_indiv_tr = indiv_tr_monthly['TRANSACTION_DT'].first()\n",
    "x_indiv_tr.head()"
   ]
  },
  {
   "cell_type": "code",
   "execution_count": null,
   "metadata": {},
   "outputs": [],
   "source": [
    "pd.Series(y_indiv_tr.values, index=x_indiv_tr).plot(figsize=(12, 10)) \n",
    "plt.style.use('seaborn')\n",
    "plt.ylim(0) \n",
    "plt.xlabel('Months') \n",
    "plt.ylabel('Contributions by individuals') "
   ]
  },
  {
   "cell_type": "code",
   "execution_count": null,
   "metadata": {},
   "outputs": [],
   "source": [
    "exp_tr_monthly = op_exp_trump.groupby(op_exp_trump['TRANSACTION_DT'].dt.isocalendar().week)\n",
    "len(exp_tr_monthly)"
   ]
  },
  {
   "cell_type": "code",
   "execution_count": null,
   "metadata": {},
   "outputs": [],
   "source": [
    "y_exp_tr = exp_tr_monthly.size()\n",
    "y_exp_tr.head()"
   ]
  },
  {
   "cell_type": "code",
   "execution_count": null,
   "metadata": {},
   "outputs": [],
   "source": [
    "x_exp_tr = exp_tr_monthly['TRANSACTION_DT'].first()\n",
    "x_exp_tr.head()"
   ]
  },
  {
   "cell_type": "code",
   "execution_count": null,
   "metadata": {},
   "outputs": [],
   "source": [
    "pd.Series(y_exp_tr.values, index=x_exp_tr).plot(figsize=(12, 10)) \n",
    "plt.style.use('seaborn')\n",
    "plt.ylim(0) \n",
    "plt.xlabel('Months') \n",
    "plt.ylabel('Expenditures') "
   ]
  },
  {
   "cell_type": "markdown",
   "metadata": {},
   "source": [
    "---"
   ]
  },
  {
   "cell_type": "markdown",
   "metadata": {},
   "source": [
    "### 4. Identify the biggest recipients of campaign expenditures."
   ]
  },
  {
   "cell_type": "markdown",
   "metadata": {},
   "source": [
    "For this task, we need the operating expenditures file, which we have already read. Let's remember what the op_exp dataset looks like:"
   ]
  },
  {
   "cell_type": "code",
   "execution_count": null,
   "metadata": {},
   "outputs": [],
   "source": [
    "print(op_exp.shape)\n",
    "op_exp.sample(5)"
   ]
  },
  {
   "cell_type": "code",
   "execution_count": null,
   "metadata": {},
   "outputs": [],
   "source": [
    "op_exp['CAND_NAME'].unique()"
   ]
  },
  {
   "cell_type": "markdown",
   "metadata": {},
   "source": [
    "* The op_exp dataset is already cleaned from previous tasks and we are ready to use it.\n",
    "* The most useful column to use here in order to solve the task is the 'PURPOSE', which implies the purpose of each operating expenditure. You can see the descriptions for all the columns here https://www.fec.gov/campaign-finance-data/operating-expenditures-file-description/."
   ]
  },
  {
   "cell_type": "markdown",
   "metadata": {},
   "source": [
    "The biggest receipients for Hillary Clinton:"
   ]
  },
  {
   "cell_type": "code",
   "execution_count": null,
   "metadata": {},
   "outputs": [],
   "source": [
    "recipients_cl = op_exp[op_exp['CAND_NAME'] == 'CLINTON, HILLARY RODHAM']\\\n",
    "        .groupby(['CAND_NAME', 'PURPOSE']).sum()\\\n",
    "        .sort_values(by='TRANSACTION_AMT', ascending=False)\n",
    "recipients_cl.head(10)"
   ]
  },
  {
   "cell_type": "code",
   "execution_count": null,
   "metadata": {},
   "outputs": [],
   "source": [
    "recipients_tr = op_exp[op_exp['CAND_NAME'] == 'TRUMP, DONALD J.']\\\n",
    "        .groupby(['CAND_NAME', 'PURPOSE']).sum()\\\n",
    "        .sort_values(by='TRANSACTION_AMT', ascending=False)\n",
    "recipients_tr.head(10)"
   ]
  },
  {
   "cell_type": "markdown",
   "metadata": {},
   "source": [
    "---"
   ]
  },
  {
   "cell_type": "markdown",
   "metadata": {},
   "source": [
    "### 5. Examine the geographical distribution, at the state level, of campaign expenditures. For each state, calculate the expenditures per voter. This will require that you find a source with the number of registered voters per state. Examine the situation for swing states."
   ]
  },
  {
   "cell_type": "markdown",
   "metadata": {},
   "source": [
    "We will start by producing a map that demonstrates the geographical distributions, at state level, of the campaign expenditures for both our candidates, Hillary Clinton and Donald Trump."
   ]
  },
  {
   "cell_type": "code",
   "execution_count": null,
   "metadata": {},
   "outputs": [],
   "source": [
    "states_grouped = op_exp.groupby(['CAND_NAME', 'STATE'])\n",
    "states_totals = states_grouped.sum().unstack(0).fillna(0)\n",
    "states_totals.sample(5)"
   ]
  },
  {
   "cell_type": "code",
   "execution_count": null,
   "metadata": {},
   "outputs": [],
   "source": [
    "states_norm = states_totals.div(states_totals.sum(axis=1), axis=0)\n",
    "states_norm.sample(5)"
   ]
  },
  {
   "cell_type": "code",
   "execution_count": null,
   "metadata": {},
   "outputs": [],
   "source": [
    "import matplotlib.pyplot as plt\n",
    "from matplotlib.colorbar import ColorbarBase\n",
    "import cartopy.crs as ccrs\n",
    "import cartopy.io.shapereader as shpreader\n",
    "\n",
    "fig = plt.figure(figsize=(16, 10))\n",
    "\n",
    "projection=ccrs.LambertConformal()\n",
    "# to get the effect of having just the states without a map \"background\"\n",
    "# turn off the background patch and axes frame\n",
    "ax = fig.add_axes([0, 0, 1, 1], projection=projection, frameon=False)\n",
    "ax.patch.set_visible(False)\n",
    "ax.set_extent([-125, -66.5, 20, 50], ccrs.Geodetic())\n",
    "\n",
    "# Hawaii\n",
    "axhi = fig.add_axes([0.25, .1, 0.15, 0.15], projection=projection)\n",
    "axhi.set_extent([-155, -165, 20, 15])\n",
    "axhi.patch.set_visible(False)\n",
    "# Alaska\n",
    "axak = fig.add_axes([0.1, 0.1, 0.2, 0.2], projection=projection)\n",
    "axak.set_extent([-185, -130, 70, 50])\n",
    "axak.patch.set_visible(False)\n",
    "\n",
    "shapename = 'admin_1_states_provinces_lakes_shp'\n",
    "states_shp = shpreader.natural_earth(resolution='110m', category='cultural', name=shapename)\n",
    "\n",
    "cmap = plt.cm.bwr_r\n",
    "\n",
    "for state in shpreader.Reader(states_shp).records():\n",
    "    postal = state.attributes['postal']\n",
    "    statistic = states_norm.loc[postal]\n",
    "    if postal == 'AK':\n",
    "        axes = axak\n",
    "    elif postal == 'HI':\n",
    "        axes = axhi\n",
    "    else:\n",
    "        axes = ax\n",
    "    axes.add_geometries([state.geometry], ccrs.PlateCarree(),\n",
    "                        facecolor=cmap(statistic)[0], \n",
    "                        edgecolor='white',\n",
    "                        linewidth=1)\n",
    "    \n",
    "ax_c = fig.add_axes([.95, 0.25, 0.03, 0.5])\n",
    "cb = ColorbarBase(ax_c, cmap=cmap, orientation='vertical',\n",
    "                  label=r'percentage of campaigns expenditures per party')\n",
    "cb.set_ticks([0, .25, .5, .75, 1])\n",
    "cb.set_ticklabels(['100%', '75%', '50%', '75%', '100%'])"
   ]
  },
  {
   "cell_type": "markdown",
   "metadata": {},
   "source": [
    "* Now, we are ready to calculate the expenditures of each campaign per voter.\n",
    "* In order to do that, we need first to read two files that include the population of each state in 2016 and the number of registered voters per state in 2016 respectively or read a file that includes both at once.\n",
    "* You can find many alternatives for both ways in the web.\n",
    "* Right now, we are going to read an excel file that includes all the information we need. You can find this file, and many others related to it, here: https://www.census.gov/data/tables/time-series/demo/voting-and-registration/p20-580.html ( we will use the file \"Table 4a:Reported Voting and Registration, for States:November 2016\")."
   ]
  },
  {
   "cell_type": "code",
   "execution_count": null,
   "metadata": {},
   "outputs": [],
   "source": [
    "registered = pd.read_excel('https://www2.census.gov/programs-surveys/cps/tables/p20/580/table04a.xlsx', sheet_name='Table 4a', \n",
    "                           skiprows=3, skipfooter=5, header=[0, 1])\n",
    "print(registered.shape)\n",
    "registered.head()"
   ]
  },
  {
   "cell_type": "code",
   "execution_count": null,
   "metadata": {},
   "outputs": [],
   "source": [
    "registered = registered[['STATE', 'Registered']]\n",
    "registered.head()"
   ]
  },
  {
   "cell_type": "code",
   "execution_count": null,
   "metadata": {},
   "outputs": [],
   "source": [
    "registered = registered[registered['STATE', 'Unnamed: 0_level_1'] != 'UNITED STATES']\n",
    "registered"
   ]
  },
  {
   "cell_type": "markdown",
   "metadata": {},
   "source": [
    "As you will notice there are a few states missing in the end of the file, but this implies no problem, since they are small states and their numbers are insignificant."
   ]
  },
  {
   "cell_type": "markdown",
   "metadata": {},
   "source": [
    "We need to be able to connect the file with the dataset through a common key. In this case, we have to create the common key and we are going to do it by making an extra column with all the abbreviations of our cities. (https://abbreviations.yourdictionary.com/articles/state-abbrev.html)."
   ]
  },
  {
   "cell_type": "code",
   "execution_count": null,
   "metadata": {},
   "outputs": [],
   "source": [
    "ABBREV = ['AL', 'AK', 'AZ', 'AR', 'CA', 'CO', 'CT', 'DE', 'DC', 'FL', 'GA', 'HI','ID', 'IL', 'IN', 'IA', 'KS', 'KY', 'LA', 'ME',\n",
    "          'MD', 'MA', 'MI','MN', 'MS', 'MO', 'MT', 'NE', 'NV', 'NH', 'NJ', 'NM', 'NY', 'NC','ND', 'OH', 'OK', 'OR', 'PA', 'RI',\n",
    "          'SC', 'SD', 'TN', 'TX', 'UT','VT', 'VA', 'WA', 'WV']"
   ]
  },
  {
   "cell_type": "code",
   "execution_count": null,
   "metadata": {},
   "outputs": [],
   "source": [
    "registered['STATES'] = ABBREV"
   ]
  },
  {
   "cell_type": "code",
   "execution_count": null,
   "metadata": {},
   "outputs": [],
   "source": [
    "registered.sample(5)"
   ]
  },
  {
   "cell_type": "code",
   "execution_count": null,
   "metadata": {},
   "outputs": [],
   "source": [
    "registered.columns = ['STATE', 'TTL_REG', 'PERCENT_TTL_REG', 'REG_MARGIN_ERROR1', 'PERCENT_CTZN_REG', 'REG_MARGIN_ERROR1.1', \n",
    "                      'STATES']\n",
    "registered.head()"
   ]
  },
  {
   "cell_type": "code",
   "execution_count": null,
   "metadata": {},
   "outputs": [],
   "source": [
    "op_exp.rename(columns = {'STATE': 'STATES'}, inplace = True)"
   ]
  },
  {
   "cell_type": "code",
   "execution_count": null,
   "metadata": {},
   "outputs": [],
   "source": [
    "op_reg = pd.merge(op_exp, registered, on='STATES', how='inner')\n",
    "print(op_reg.shape)\n",
    "op_reg.head()"
   ]
  },
  {
   "cell_type": "markdown",
   "metadata": {},
   "source": [
    "Again, we will restrict our columns just to the ones that we need, for a better perspective."
   ]
  },
  {
   "cell_type": "code",
   "execution_count": null,
   "metadata": {},
   "outputs": [],
   "source": [
    "op_reg = op_reg[['CMTE_NM', 'CAND_NAME','TRANSACTION_AMT', 'STATES', 'STATE', 'TTL_REG']]\n",
    "op_reg.head()"
   ]
  },
  {
   "cell_type": "markdown",
   "metadata": {},
   "source": [
    "Now, we are going to calculate the expenditions made per registered voter."
   ]
  },
  {
   "cell_type": "code",
   "execution_count": null,
   "metadata": {},
   "outputs": [],
   "source": [
    "op_reg['EXP_PER_VOTER'] = op_reg['TRANSACTION_AMT'] / op_reg['TTL_REG']\n",
    "op_reg.head()"
   ]
  },
  {
   "cell_type": "markdown",
   "metadata": {},
   "source": [
    "And we will create two datasets out of the op_reg dataset, one for Hillary Clinton and one for Donald Trump"
   ]
  },
  {
   "cell_type": "code",
   "execution_count": null,
   "metadata": {},
   "outputs": [],
   "source": [
    "op_reg_grouped_clinton = op_reg[op_reg['CAND_NAME'] == 'CLINTON, HILLARY RODHAM'].groupby(['CAND_NAME', 'STATES']).sum()\\\n",
    "       .sort_values(by='EXP_PER_VOTER', ascending=False)\n",
    "op_reg_grouped_clinton"
   ]
  },
  {
   "cell_type": "code",
   "execution_count": null,
   "metadata": {},
   "outputs": [],
   "source": [
    "op_reg_grouped_trump = op_reg[op_reg['CAND_NAME'] == 'TRUMP, DONALD J.'].groupby(['CAND_NAME', 'STATES']).sum()\\\n",
    "        .sort_values(by='EXP_PER_VOTER', ascending=False)\n",
    "print(op_reg_grouped_trump.shape)\n",
    "op_reg_grouped_trump"
   ]
  },
  {
   "cell_type": "markdown",
   "metadata": {},
   "source": [
    "* Now, we are going to examine the expenditures made by each campaign in the swing states.\n",
    "* In American politics, the term swing state (or battleground state, purple state) refers to any state that could reasonably be won by either the Democratic or Republican presidential candidate by a swing in votes and these states are usually targeted by both major-party campaigns.(https://en.wikipedia.org/wiki/Swing_state).\n",
    "* In the 2016 election the states that were considered swing states were: Colorado, Florida, Iowa, Michigan, Minnesota, Nevada, New Hampshire, North Carolina, Ohio, Pennsylavnia and Virginia (https://constitutioncenter.org/blog/what-are-the-really-swing-states-in-the-2016-election/).\n",
    "* If you take a look at the results above, you can see that most of the swing states are ranked in the top 10-15 top states biggest exoenditures per voter. Although they are not considered big states such as NY or CA, it makes sense that they are ranked that high out of 49 states in total, since it is crucial to the candidates that they take them with their side."
   ]
  },
  {
   "cell_type": "markdown",
   "metadata": {},
   "source": [
    "---"
   ]
  },
  {
   "cell_type": "markdown",
   "metadata": {},
   "source": [
    "Aliki Ntouzgou, 8170091."
   ]
  }
 ],
 "metadata": {
  "kernelspec": {
   "display_name": "Python 3",
   "language": "python",
   "name": "python3"
  },
  "language_info": {
   "codemirror_mode": {
    "name": "ipython",
    "version": 3
   },
   "file_extension": ".py",
   "mimetype": "text/x-python",
   "name": "python",
   "nbconvert_exporter": "python",
   "pygments_lexer": "ipython3",
   "version": "3.8.5"
  }
 },
 "nbformat": 4,
 "nbformat_minor": 4
}
